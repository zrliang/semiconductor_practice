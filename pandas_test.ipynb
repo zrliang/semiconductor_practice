{
 "metadata": {
  "language_info": {
   "codemirror_mode": {
    "name": "ipython",
    "version": 3
   },
   "file_extension": ".py",
   "mimetype": "text/x-python",
   "name": "python",
   "nbconvert_exporter": "python",
   "pygments_lexer": "ipython3",
   "version": "3.8.3-final"
  },
  "orig_nbformat": 2,
  "kernelspec": {
   "name": "python3",
   "display_name": "Python 3.8.3 64-bit",
   "metadata": {
    "interpreter": {
     "hash": "34daf7430057d877556c3ea61e0ffd3d419a1a15f02d558c0bc9c0c22aa563a0"
    }
   }
  }
 },
 "nbformat": 4,
 "nbformat_minor": 2,
 "cells": [
  {
   "cell_type": "code",
   "execution_count": 2,
   "metadata": {},
   "outputs": [
    {
     "output_type": "stream",
     "name": "stdout",
     "text": [
      "Collecting sympy\n",
      "  Downloading https://files.pythonhosted.org/packages/2f/88/0769eecd7520210e2555d984793e9aa121fdc7b5fd22e9602282726a7818/sympy-1.7-py3-none-any.whl (5.9MB)\n",
      "Collecting mpmath>=0.19 (from sympy)\n",
      "  Downloading https://files.pythonhosted.org/packages/ca/63/3384ebb3b51af9610086b23ea976e6d27d6d97bf140a76a365bd77a3eb32/mpmath-1.1.0.tar.gz (512kB)\n",
      "Installing collected packages: mpmath, sympy\n",
      "  Running setup.py install for mpmath: started\n",
      "    Running setup.py install for mpmath: finished with status 'done'\n",
      "Successfully installed mpmath-1.1.0 sympy-1.7\n",
      "Note: you may need to restart the kernel to use updated packages.\n",
      "    WARNING: Subprocess output does not appear to be encoded as cp950\n",
      "    WARNING: Subprocess output does not appear to be encoded as cp950\n",
      "    WARNING: Subprocess output does not appear to be encoded as cp950\n",
      "    WARNING: Subprocess output does not appear to be encoded as cp950\n",
      "    WARNING: Subprocess output does not appear to be encoded as cp950\n",
      "    WARNING: Subprocess output does not appear to be encoded as cp950\n",
      "    WARNING: Subprocess output does not appear to be encoded as cp950\n",
      "    WARNING: Subprocess output does not appear to be encoded as cp950\n",
      "    WARNING: Subprocess output does not appear to be encoded as cp950\n",
      "    WARNING: Subprocess output does not appear to be encoded as cp950\n",
      "    WARNING: Subprocess output does not appear to be encoded as cp950\n",
      "    WARNING: Subprocess output does not appear to be encoded as cp950\n",
      "    WARNING: Subprocess output does not appear to be encoded as cp950\n",
      "    WARNING: Subprocess output does not appear to be encoded as cp950\n",
      "    WARNING: Subprocess output does not appear to be encoded as cp950\n",
      "    WARNING: Subprocess output does not appear to be encoded as cp950\n",
      "    WARNING: Subprocess output does not appear to be encoded as cp950\n",
      "    WARNING: Subprocess output does not appear to be encoded as cp950\n",
      "    WARNING: Subprocess output does not appear to be encoded as cp950\n",
      "    WARNING: Subprocess output does not appear to be encoded as cp950\n",
      "    WARNING: Subprocess output does not appear to be encoded as cp950\n",
      "    WARNING: Subprocess output does not appear to be encoded as cp950\n",
      "    WARNING: Subprocess output does not appear to be encoded as cp950\n",
      "    WARNING: Subprocess output does not appear to be encoded as cp950\n",
      "    WARNING: Subprocess output does not appear to be encoded as cp950\n",
      "    WARNING: Subprocess output does not appear to be encoded as cp950\n",
      "    WARNING: Subprocess output does not appear to be encoded as cp950\n",
      "    WARNING: Subprocess output does not appear to be encoded as cp950\n",
      "    WARNING: Subprocess output does not appear to be encoded as cp950\n",
      "    WARNING: Subprocess output does not appear to be encoded as cp950\n",
      "    WARNING: Subprocess output does not appear to be encoded as cp950\n",
      "    WARNING: Subprocess output does not appear to be encoded as cp950\n",
      "    WARNING: Subprocess output does not appear to be encoded as cp950\n",
      "    WARNING: Subprocess output does not appear to be encoded as cp950\n",
      "    WARNING: Subprocess output does not appear to be encoded as cp950\n",
      "    WARNING: Subprocess output does not appear to be encoded as cp950\n",
      "    WARNING: Subprocess output does not appear to be encoded as cp950\n",
      "    WARNING: Subprocess output does not appear to be encoded as cp950\n",
      "    WARNING: Subprocess output does not appear to be encoded as cp950\n",
      "    WARNING: Subprocess output does not appear to be encoded as cp950\n",
      "    WARNING: Subprocess output does not appear to be encoded as cp950\n",
      "    WARNING: Subprocess output does not appear to be encoded as cp950\n",
      "    WARNING: Subprocess output does not appear to be encoded as cp950\n",
      "    WARNING: Subprocess output does not appear to be encoded as cp950\n",
      "    WARNING: Subprocess output does not appear to be encoded as cp950\n",
      "    WARNING: Subprocess output does not appear to be encoded as cp950\n",
      "    WARNING: Subprocess output does not appear to be encoded as cp950\n",
      "    WARNING: Subprocess output does not appear to be encoded as cp950\n",
      "    WARNING: Subprocess output does not appear to be encoded as cp950\n",
      "    WARNING: Subprocess output does not appear to be encoded as cp950\n",
      "    WARNING: Subprocess output does not appear to be encoded as cp950\n",
      "    WARNING: Subprocess output does not appear to be encoded as cp950\n",
      "    WARNING: Subprocess output does not appear to be encoded as cp950\n",
      "    WARNING: Subprocess output does not appear to be encoded as cp950\n",
      "    WARNING: Subprocess output does not appear to be encoded as cp950\n",
      "    WARNING: Subprocess output does not appear to be encoded as cp950\n",
      "    WARNING: Subprocess output does not appear to be encoded as cp950\n",
      "    WARNING: Subprocess output does not appear to be encoded as cp950\n",
      "    WARNING: Subprocess output does not appear to be encoded as cp950\n",
      "    WARNING: Subprocess output does not appear to be encoded as cp950\n",
      "    WARNING: Subprocess output does not appear to be encoded as cp950\n",
      "    WARNING: Subprocess output does not appear to be encoded as cp950\n",
      "    WARNING: Subprocess output does not appear to be encoded as cp950\n",
      "    WARNING: Subprocess output does not appear to be encoded as cp950\n",
      "    WARNING: Subprocess output does not appear to be encoded as cp950\n",
      "    WARNING: Subprocess output does not appear to be encoded as cp950\n",
      "    WARNING: Subprocess output does not appear to be encoded as cp950\n",
      "    WARNING: Subprocess output does not appear to be encoded as cp950\n",
      "    WARNING: Subprocess output does not appear to be encoded as cp950\n",
      "    WARNING: Subprocess output does not appear to be encoded as cp950\n",
      "    WARNING: Subprocess output does not appear to be encoded as cp950\n",
      "    WARNING: Subprocess output does not appear to be encoded as cp950\n",
      "    WARNING: Subprocess output does not appear to be encoded as cp950\n",
      "    WARNING: Subprocess output does not appear to be encoded as cp950\n",
      "    WARNING: Subprocess output does not appear to be encoded as cp950\n",
      "    WARNING: Subprocess output does not appear to be encoded as cp950\n",
      "    WARNING: Subprocess output does not appear to be encoded as cp950\n",
      "    WARNING: Subprocess output does not appear to be encoded as cp950\n",
      "    WARNING: Subprocess output does not appear to be encoded as cp950\n",
      "    WARNING: Subprocess output does not appear to be encoded as cp950\n",
      "    WARNING: Subprocess output does not appear to be encoded as cp950\n",
      "    WARNING: Subprocess output does not appear to be encoded as cp950\n",
      "    WARNING: Subprocess output does not appear to be encoded as cp950\n",
      "    WARNING: Subprocess output does not appear to be encoded as cp950\n",
      "    WARNING: Subprocess output does not appear to be encoded as cp950\n",
      "    WARNING: Subprocess output does not appear to be encoded as cp950\n",
      "    WARNING: Subprocess output does not appear to be encoded as cp950\n",
      "    WARNING: Subprocess output does not appear to be encoded as cp950\n",
      "    WARNING: Subprocess output does not appear to be encoded as cp950\n",
      "    WARNING: Subprocess output does not appear to be encoded as cp950\n",
      "    WARNING: Subprocess output does not appear to be encoded as cp950\n",
      "    WARNING: Subprocess output does not appear to be encoded as cp950\n",
      "    WARNING: Subprocess output does not appear to be encoded as cp950\n",
      "    WARNING: Subprocess output does not appear to be encoded as cp950\n",
      "    WARNING: Subprocess output does not appear to be encoded as cp950\n",
      "    WARNING: Subprocess output does not appear to be encoded as cp950\n",
      "    WARNING: Subprocess output does not appear to be encoded as cp950\n",
      "    WARNING: Subprocess output does not appear to be encoded as cp950\n",
      "    WARNING: Subprocess output does not appear to be encoded as cp950\n",
      "    WARNING: Subprocess output does not appear to be encoded as cp950\n",
      "    WARNING: Subprocess output does not appear to be encoded as cp950\n",
      "    WARNING: Subprocess output does not appear to be encoded as cp950\n",
      "    WARNING: Subprocess output does not appear to be encoded as cp950\n",
      "    WARNING: Subprocess output does not appear to be encoded as cp950\n",
      "    WARNING: Subprocess output does not appear to be encoded as cp950\n",
      "    WARNING: Subprocess output does not appear to be encoded as cp950\n",
      "    WARNING: Subprocess output does not appear to be encoded as cp950\n",
      "    WARNING: Subprocess output does not appear to be encoded as cp950\n",
      "    WARNING: Subprocess output does not appear to be encoded as cp950\n",
      "    WARNING: Subprocess output does not appear to be encoded as cp950\n",
      "    WARNING: Subprocess output does not appear to be encoded as cp950\n",
      "    WARNING: Subprocess output does not appear to be encoded as cp950\n",
      "    WARNING: Subprocess output does not appear to be encoded as cp950\n",
      "    WARNING: Subprocess output does not appear to be encoded as cp950\n",
      "    WARNING: Subprocess output does not appear to be encoded as cp950\n",
      "    WARNING: Subprocess output does not appear to be encoded as cp950\n",
      "    WARNING: Subprocess output does not appear to be encoded as cp950\n",
      "    WARNING: Subprocess output does not appear to be encoded as cp950\n",
      "    WARNING: Subprocess output does not appear to be encoded as cp950\n",
      "    WARNING: Subprocess output does not appear to be encoded as cp950\n",
      "    WARNING: Subprocess output does not appear to be encoded as cp950\n",
      "    WARNING: Subprocess output does not appear to be encoded as cp950\n",
      "    WARNING: Subprocess output does not appear to be encoded as cp950\n",
      "    WARNING: Subprocess output does not appear to be encoded as cp950\n",
      "    WARNING: Subprocess output does not appear to be encoded as cp950\n",
      "    WARNING: Subprocess output does not appear to be encoded as cp950\n",
      "    WARNING: Subprocess output does not appear to be encoded as cp950\n",
      "    WARNING: Subprocess output does not appear to be encoded as cp950\n",
      "    WARNING: Subprocess output does not appear to be encoded as cp950\n",
      "    WARNING: Subprocess output does not appear to be encoded as cp950\n",
      "    WARNING: Subprocess output does not appear to be encoded as cp950\n",
      "    WARNING: Subprocess output does not appear to be encoded as cp950\n",
      "    WARNING: Subprocess output does not appear to be encoded as cp950\n",
      "    WARNING: Subprocess output does not appear to be encoded as cp950\n",
      "    WARNING: Subprocess output does not appear to be encoded as cp950\n",
      "    WARNING: Subprocess output does not appear to be encoded as cp950\n",
      "    WARNING: Subprocess output does not appear to be encoded as cp950\n",
      "    WARNING: Subprocess output does not appear to be encoded as cp950\n",
      "    WARNING: Subprocess output does not appear to be encoded as cp950\n",
      "    WARNING: Subprocess output does not appear to be encoded as cp950\n",
      "    WARNING: Subprocess output does not appear to be encoded as cp950\n",
      "    WARNING: Subprocess output does not appear to be encoded as cp950\n",
      "    WARNING: Subprocess output does not appear to be encoded as cp950\n",
      "    WARNING: Subprocess output does not appear to be encoded as cp950\n",
      "    WARNING: Subprocess output does not appear to be encoded as cp950\n",
      "    WARNING: Subprocess output does not appear to be encoded as cp950\n",
      "    WARNING: Subprocess output does not appear to be encoded as cp950\n",
      "    WARNING: Subprocess output does not appear to be encoded as cp950\n",
      "    WARNING: Subprocess output does not appear to be encoded as cp950\n"
     ]
    }
   ],
   "source": [
    "pip install sympy"
   ]
  },
  {
   "cell_type": "code",
   "execution_count": 18,
   "metadata": {},
   "outputs": [
    {
     "output_type": "stream",
     "name": "stdout",
     "text": [
      "[-32.2842712474619, 24.2842712474619]\n[0.413397459621556, 0.586602540378444]\n"
     ]
    }
   ],
   "source": [
    "from sympy import diff, Symbol, sin, tan,limit,solve,Eq\n",
    "w = Symbol('w')\n",
    "th = Symbol('th')\n",
    "a=diff(50*(w/(w+4))-0.25*w, w)\n",
    "b=diff(50*th-0.25*(6*th/(1-2*th)), th)\n",
    "print(solve(Eq(a,0),w))\n",
    "print(solve(Eq(b,0),th))"
   ]
  },
  {
   "cell_type": "code",
   "execution_count": 10,
   "metadata": {},
   "outputs": [
    {
     "output_type": "execute_result",
     "data": {
      "text/plain": "[1, 2, 3]"
     },
     "metadata": {},
     "execution_count": 10
    }
   ],
   "source": [
    "import copy\n",
    "a=[1,2,3]\n",
    "b=a[:]\n",
    "a==b\n",
    "a is b\n",
    "c=copy.deepcopy(a)\n",
    "c==a\n",
    "d=copy.copy(a)\n",
    "d=a\n",
    "d=[3,2,1]\n"
   ]
  },
  {
   "cell_type": "code",
   "execution_count": 22,
   "metadata": {},
   "outputs": [
    {
     "output_type": "stream",
     "name": "stdout",
     "text": [
      "[1, 2, 3, 4, 5]\n[6, 7, 8, 9, 10]\n[2, 3]\n[1, 7, 8, 4, 5]\n[6, 2, 3, 9, 10]\n[1, 2, 3, 4, 5]\n[6, 7, 8, 9, 10]\n"
     ]
    }
   ],
   "source": [
    "import random\n",
    "\n",
    "CutPoint=[]\n",
    "size=range(1,6)  #染色體大小 #10+10(range(1,21)) ****************************改*********************\n",
    "\n",
    "p1=[1,2,3,4,5]\n",
    "p2=[6,7,8,9,10]\n",
    "\n",
    "CutPoint=random.sample(size, 2)\n",
    "CutPoint.sort()\n",
    "#print(CutPoint)\n",
    "\n",
    "strpoint=CutPoint[0]\n",
    "endpoint=CutPoint[1]\n",
    "\n",
    "c1=p1[:]\n",
    "c2=p2[:]\n",
    "\n",
    "print(c1)\n",
    "print(c2)\n",
    "c1[strpoint-1:endpoint]=p2[strpoint-1:endpoint]\n",
    "c2[strpoint-1:endpoint]=p1[strpoint-1:endpoint]\n",
    "print(CutPoint)\n",
    "print(c1)\n",
    "print(c2)\n",
    "\n",
    "print(p1)\n",
    "print(p2)"
   ]
  },
  {
   "cell_type": "code",
   "execution_count": 88,
   "metadata": {},
   "outputs": [
    {
     "output_type": "execute_result",
     "data": {
      "text/plain": [
       "1"
      ]
     },
     "metadata": {},
     "execution_count": 88
    }
   ],
   "source": [
    "import random\n",
    "size=range(0,6)  #0-5  #6666666666666666666666\n",
    "one_gene=random.sample(size, 1) \n",
    "one_gene[0]"
   ]
  },
  {
   "cell_type": "code",
   "execution_count": 90,
   "metadata": {},
   "outputs": [
    {
     "output_type": "stream",
     "name": "stdout",
     "text": [
      "55\n[0, 0.18181818181818182, 0.34545454545454546, 0.4909090909090909, 0.6181818181818182, 0.7272727272727273, 0.8181818181818182, 0.890909090909091, 0.9454545454545455, 0.9818181818181819]\n"
     ]
    }
   ],
   "source": [
    "population_size=5\n",
    "\n",
    "def sum(num): #分母\n",
    "    sum = 0\n",
    "    x=1\n",
    "    while x < num+1:\n",
    "        sum = sum + x\n",
    "        x+=1\n",
    "    return sum\n",
    "Sum=sum(population_size*2) #1+2+..+90\n",
    "\n",
    "print(Sum)\n",
    "\n",
    "t=0\n",
    "proba_list=[0]\n",
    "for i in range(population_size*2-1):\n",
    "    proba=(population_size*2-i)/Sum #90/1+...\n",
    "    t+=proba\n",
    "    proba_list.append(t)\n",
    "\n",
    "print(proba_list)\n",
    "\n",
    "def getk2(): #得index\n",
    "    selectone=random.random()\n",
    "    k2=-1\n",
    "    for i in range(len(proba_list)):\n",
    "        if(selectone>proba_list[i]):\n",
    "            k2+=1\n",
    "    return k2\n"
   ]
  },
  {
   "cell_type": "code",
   "execution_count": 91,
   "metadata": {},
   "outputs": [
    {
     "output_type": "stream",
     "name": "stdout",
     "text": [
      "2\n3\n1\n"
     ]
    }
   ],
   "source": [
    "select_index=[2,3,1]\n",
    "for i in select_index:\n",
    "    print(i)"
   ]
  },
  {
   "cell_type": "code",
   "execution_count": 2,
   "metadata": {},
   "outputs": [
    {
     "output_type": "execute_result",
     "data": {
      "text/plain": "          country continent\n0     Afghanistan      Asia\n1     Afghanistan      Asia\n2     Afghanistan      Asia\n3     Afghanistan      Asia\n4     Afghanistan      Asia\n...           ...       ...\n1699     Zimbabwe    Africa\n1700     Zimbabwe    Africa\n1701     Zimbabwe    Africa\n1702     Zimbabwe    Africa\n1703     Zimbabwe    Africa\n\n[1704 rows x 2 columns]",
      "text/html": "<div>\n<style scoped>\n    .dataframe tbody tr th:only-of-type {\n        vertical-align: middle;\n    }\n\n    .dataframe tbody tr th {\n        vertical-align: top;\n    }\n\n    .dataframe thead th {\n        text-align: right;\n    }\n</style>\n<table border=\"1\" class=\"dataframe\">\n  <thead>\n    <tr style=\"text-align: right;\">\n      <th></th>\n      <th>country</th>\n      <th>continent</th>\n    </tr>\n  </thead>\n  <tbody>\n    <tr>\n      <th>0</th>\n      <td>Afghanistan</td>\n      <td>Asia</td>\n    </tr>\n    <tr>\n      <th>1</th>\n      <td>Afghanistan</td>\n      <td>Asia</td>\n    </tr>\n    <tr>\n      <th>2</th>\n      <td>Afghanistan</td>\n      <td>Asia</td>\n    </tr>\n    <tr>\n      <th>3</th>\n      <td>Afghanistan</td>\n      <td>Asia</td>\n    </tr>\n    <tr>\n      <th>4</th>\n      <td>Afghanistan</td>\n      <td>Asia</td>\n    </tr>\n    <tr>\n      <th>...</th>\n      <td>...</td>\n      <td>...</td>\n    </tr>\n    <tr>\n      <th>1699</th>\n      <td>Zimbabwe</td>\n      <td>Africa</td>\n    </tr>\n    <tr>\n      <th>1700</th>\n      <td>Zimbabwe</td>\n      <td>Africa</td>\n    </tr>\n    <tr>\n      <th>1701</th>\n      <td>Zimbabwe</td>\n      <td>Africa</td>\n    </tr>\n    <tr>\n      <th>1702</th>\n      <td>Zimbabwe</td>\n      <td>Africa</td>\n    </tr>\n    <tr>\n      <th>1703</th>\n      <td>Zimbabwe</td>\n      <td>Africa</td>\n    </tr>\n  </tbody>\n</table>\n<p>1704 rows × 2 columns</p>\n</div>"
     },
     "metadata": {},
     "execution_count": 2
    }
   ],
   "source": [
    "gapminder[['country', 'continent']]"
   ]
  },
  {
   "cell_type": "code",
   "execution_count": 1,
   "metadata": {
    "tags": []
   },
   "outputs": [
    {
     "output_type": "stream",
     "name": "stdout",
     "text": "<class 'pandas.core.frame.DataFrame'>\n"
    },
    {
     "output_type": "execute_result",
     "data": {
      "text/plain": "       country continent  year  lifeExp       pop   gdpPercap\n0  Afghanistan      Asia  1952   28.801   8425333  779.445314\n1  Afghanistan      Asia  1957   30.332   9240934  820.853030\n2  Afghanistan      Asia  1962   31.997  10267083  853.100710\n3  Afghanistan      Asia  1967   34.020  11537966  836.197138\n4  Afghanistan      Asia  1972   36.088  13079460  739.981106",
      "text/html": "<div>\n<style scoped>\n    .dataframe tbody tr th:only-of-type {\n        vertical-align: middle;\n    }\n\n    .dataframe tbody tr th {\n        vertical-align: top;\n    }\n\n    .dataframe thead th {\n        text-align: right;\n    }\n</style>\n<table border=\"1\" class=\"dataframe\">\n  <thead>\n    <tr style=\"text-align: right;\">\n      <th></th>\n      <th>country</th>\n      <th>continent</th>\n      <th>year</th>\n      <th>lifeExp</th>\n      <th>pop</th>\n      <th>gdpPercap</th>\n    </tr>\n  </thead>\n  <tbody>\n    <tr>\n      <th>0</th>\n      <td>Afghanistan</td>\n      <td>Asia</td>\n      <td>1952</td>\n      <td>28.801</td>\n      <td>8425333</td>\n      <td>779.445314</td>\n    </tr>\n    <tr>\n      <th>1</th>\n      <td>Afghanistan</td>\n      <td>Asia</td>\n      <td>1957</td>\n      <td>30.332</td>\n      <td>9240934</td>\n      <td>820.853030</td>\n    </tr>\n    <tr>\n      <th>2</th>\n      <td>Afghanistan</td>\n      <td>Asia</td>\n      <td>1962</td>\n      <td>31.997</td>\n      <td>10267083</td>\n      <td>853.100710</td>\n    </tr>\n    <tr>\n      <th>3</th>\n      <td>Afghanistan</td>\n      <td>Asia</td>\n      <td>1967</td>\n      <td>34.020</td>\n      <td>11537966</td>\n      <td>836.197138</td>\n    </tr>\n    <tr>\n      <th>4</th>\n      <td>Afghanistan</td>\n      <td>Asia</td>\n      <td>1972</td>\n      <td>36.088</td>\n      <td>13079460</td>\n      <td>739.981106</td>\n    </tr>\n  </tbody>\n</table>\n</div>"
     },
     "metadata": {},
     "execution_count": 1
    }
   ],
   "source": [
    "import pandas as pd\n",
    "xlsx_file = \"https://storage.googleapis.com/learn_pd_like_tidyverse/gapminder.xlsx\"\n",
    "gapminder = pd.read_excel(xlsx_file)\n",
    "print(type(gapminder))\n",
    "gapminder.head()"
   ]
  },
  {
   "cell_type": "code",
   "execution_count": 3,
   "metadata": {},
   "outputs": [
    {
     "output_type": "execute_result",
     "data": {
      "text/plain": "0       Afghanistan\n1       Afghanistan\n2       Afghanistan\n3       Afghanistan\n4       Afghanistan\n           ...     \n1699       Zimbabwe\n1700       Zimbabwe\n1701       Zimbabwe\n1702       Zimbabwe\n1703       Zimbabwe\nName: country, Length: 1704, dtype: object"
     },
     "metadata": {},
     "execution_count": 3
    }
   ],
   "source": [
    "gapminder['country']"
   ]
  },
  {
   "cell_type": "code",
   "execution_count": null,
   "metadata": {},
   "outputs": [],
   "source": []
  }
 ]
}