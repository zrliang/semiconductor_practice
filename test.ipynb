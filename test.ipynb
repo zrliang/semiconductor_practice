{
 "metadata": {
  "language_info": {
   "codemirror_mode": {
    "name": "ipython",
    "version": 3
   },
   "file_extension": ".py",
   "mimetype": "text/x-python",
   "name": "python",
   "nbconvert_exporter": "python",
   "pygments_lexer": "ipython3",
   "version": "3.7.8-final"
  },
  "orig_nbformat": 2,
  "kernelspec": {
   "name": "Python 3.7.8 64-bit",
   "display_name": "Python 3.7.8 64-bit",
   "metadata": {
    "interpreter": {
     "hash": "f7a23b2fbe8b9dca290e507b2b535c2ca73a6b9383f11ac6f1f5dab321751ff9"
    }
   }
  }
 },
 "nbformat": 4,
 "nbformat_minor": 2,
 "cells": [
  {
   "cell_type": "code",
   "execution_count": 78,
   "metadata": {},
   "outputs": [],
   "source": [
    "import pandas as pd\n",
    "import json\n",
    "# from wip import WIP\n",
    "\n",
    "class WIP():\n",
    "    def __init__(self, configure):\n",
    "        \n",
    "        self.processTime = []\n",
    "        self.configure = configure\n",
    "        for i in self.configure.index:\n",
    "            setattr(self, i, self.configure[i])\n",
    "\n",
    "        \n",
    "\n",
    "    def set_process_time(self, processTime):\n",
    "        self.processTime = processTime\n",
    "    \n",
    "\n",
    "    def __str__(self):\n",
    "        return json.dumps(self.configure.to_dict(), indent=4)\n",
    "    \n",
    "\n",
    "    def __repr__(self):\n",
    "        return json.dumps(self.configure.to_dict(), indent=4)"
   ]
  },
  {
   "cell_type": "code",
   "execution_count": 48,
   "metadata": {},
   "outputs": [],
   "source": [
    "df = pd.read_excel(\"./semiconductor_data.xlsx\", sheet_name=2, dtype=str)"
   ]
  },
  {
   "cell_type": "code",
   "execution_count": 7,
   "metadata": {},
   "outputs": [
    {
     "output_type": "execute_result",
     "data": {
      "text/plain": "    LOT_ID    OPE_NO   EP  QTY   R_QT  ARRIV_T  STAGE  URGENT_W RECIPE  \\\n0   LOT001  2000.011    1    8  999.0      300  STAGE       0.5  Y8000   \n1   LOT002  2000.011    2   25    9.2        0  STAGE       7.0  Y5000   \n2   LOT003  2000.011    3   22   10.8        0  STAGE       1.0  Z3000   \n3   LOT004  2000.011    4   25    3.3        0  STAGE      10.0  Y2000   \n4   LOT005  2000.011    5   11  999.0      360  STAGE       0.5  Z3000   \n..     ...       ...  ...  ...    ...      ...    ...       ...    ...   \n95  LOT096  2000.011   96    5    8.0        0  STAGE       2.0  Z6000   \n96  LOT097  2000.011   97   13    6.0        0  STAGE       4.0  Y8000   \n97  LOT098  2000.011   98   14  999.0      120  STAGE       0.5  Z3000   \n98  LOT099  2000.011   99   12   10.5        0  STAGE       9.0  X4000   \n99  LOT100  2000.011  100    3    2.6        0  STAGE       1.0  X4000   \n\n                                   CANRUN_TOOL      FOUP  \n0         EQP003EQP004EQP005EQP006EQP008EQP009  FOUP0001  \n1         EQP001EQP004EQP005EQP007EQP008EQP010  FOUP0002  \n2               EQP001EQP003EQP007EQP009EQP010  FOUP0003  \n3   EQP001EQP002EQP003EQP004EQP008EQP009EQP010  FOUP0004  \n4         EQP001EQP002EQP006EQP007EQP008EQP009  FOUP0005  \n..                                         ...       ...  \n95              EQP002EQP003EQP004EQP005EQP008  FOUP0096  \n96                    EQP007EQP008EQP009EQP010  FOUP0097  \n97              EQP001EQP003EQP005EQP007EQP008  FOUP0098  \n98                    EQP001EQP002EQP006EQP009  FOUP0099  \n99        EQP001EQP002EQP003EQP005EQP006EQP010  FOUP0100  \n\n[100 rows x 11 columns]",
      "text/html": "<div>\n<style scoped>\n    .dataframe tbody tr th:only-of-type {\n        vertical-align: middle;\n    }\n\n    .dataframe tbody tr th {\n        vertical-align: top;\n    }\n\n    .dataframe thead th {\n        text-align: right;\n    }\n</style>\n<table border=\"1\" class=\"dataframe\">\n  <thead>\n    <tr style=\"text-align: right;\">\n      <th></th>\n      <th>LOT_ID</th>\n      <th>OPE_NO</th>\n      <th>EP</th>\n      <th>QTY</th>\n      <th>R_QT</th>\n      <th>ARRIV_T</th>\n      <th>STAGE</th>\n      <th>URGENT_W</th>\n      <th>RECIPE</th>\n      <th>CANRUN_TOOL</th>\n      <th>FOUP</th>\n    </tr>\n  </thead>\n  <tbody>\n    <tr>\n      <th>0</th>\n      <td>LOT001</td>\n      <td>2000.011</td>\n      <td>1</td>\n      <td>8</td>\n      <td>999.0</td>\n      <td>300</td>\n      <td>STAGE</td>\n      <td>0.5</td>\n      <td>Y8000</td>\n      <td>EQP003EQP004EQP005EQP006EQP008EQP009</td>\n      <td>FOUP0001</td>\n    </tr>\n    <tr>\n      <th>1</th>\n      <td>LOT002</td>\n      <td>2000.011</td>\n      <td>2</td>\n      <td>25</td>\n      <td>9.2</td>\n      <td>0</td>\n      <td>STAGE</td>\n      <td>7.0</td>\n      <td>Y5000</td>\n      <td>EQP001EQP004EQP005EQP007EQP008EQP010</td>\n      <td>FOUP0002</td>\n    </tr>\n    <tr>\n      <th>2</th>\n      <td>LOT003</td>\n      <td>2000.011</td>\n      <td>3</td>\n      <td>22</td>\n      <td>10.8</td>\n      <td>0</td>\n      <td>STAGE</td>\n      <td>1.0</td>\n      <td>Z3000</td>\n      <td>EQP001EQP003EQP007EQP009EQP010</td>\n      <td>FOUP0003</td>\n    </tr>\n    <tr>\n      <th>3</th>\n      <td>LOT004</td>\n      <td>2000.011</td>\n      <td>4</td>\n      <td>25</td>\n      <td>3.3</td>\n      <td>0</td>\n      <td>STAGE</td>\n      <td>10.0</td>\n      <td>Y2000</td>\n      <td>EQP001EQP002EQP003EQP004EQP008EQP009EQP010</td>\n      <td>FOUP0004</td>\n    </tr>\n    <tr>\n      <th>4</th>\n      <td>LOT005</td>\n      <td>2000.011</td>\n      <td>5</td>\n      <td>11</td>\n      <td>999.0</td>\n      <td>360</td>\n      <td>STAGE</td>\n      <td>0.5</td>\n      <td>Z3000</td>\n      <td>EQP001EQP002EQP006EQP007EQP008EQP009</td>\n      <td>FOUP0005</td>\n    </tr>\n    <tr>\n      <th>...</th>\n      <td>...</td>\n      <td>...</td>\n      <td>...</td>\n      <td>...</td>\n      <td>...</td>\n      <td>...</td>\n      <td>...</td>\n      <td>...</td>\n      <td>...</td>\n      <td>...</td>\n      <td>...</td>\n    </tr>\n    <tr>\n      <th>95</th>\n      <td>LOT096</td>\n      <td>2000.011</td>\n      <td>96</td>\n      <td>5</td>\n      <td>8.0</td>\n      <td>0</td>\n      <td>STAGE</td>\n      <td>2.0</td>\n      <td>Z6000</td>\n      <td>EQP002EQP003EQP004EQP005EQP008</td>\n      <td>FOUP0096</td>\n    </tr>\n    <tr>\n      <th>96</th>\n      <td>LOT097</td>\n      <td>2000.011</td>\n      <td>97</td>\n      <td>13</td>\n      <td>6.0</td>\n      <td>0</td>\n      <td>STAGE</td>\n      <td>4.0</td>\n      <td>Y8000</td>\n      <td>EQP007EQP008EQP009EQP010</td>\n      <td>FOUP0097</td>\n    </tr>\n    <tr>\n      <th>97</th>\n      <td>LOT098</td>\n      <td>2000.011</td>\n      <td>98</td>\n      <td>14</td>\n      <td>999.0</td>\n      <td>120</td>\n      <td>STAGE</td>\n      <td>0.5</td>\n      <td>Z3000</td>\n      <td>EQP001EQP003EQP005EQP007EQP008</td>\n      <td>FOUP0098</td>\n    </tr>\n    <tr>\n      <th>98</th>\n      <td>LOT099</td>\n      <td>2000.011</td>\n      <td>99</td>\n      <td>12</td>\n      <td>10.5</td>\n      <td>0</td>\n      <td>STAGE</td>\n      <td>9.0</td>\n      <td>X4000</td>\n      <td>EQP001EQP002EQP006EQP009</td>\n      <td>FOUP0099</td>\n    </tr>\n    <tr>\n      <th>99</th>\n      <td>LOT100</td>\n      <td>2000.011</td>\n      <td>100</td>\n      <td>3</td>\n      <td>2.6</td>\n      <td>0</td>\n      <td>STAGE</td>\n      <td>1.0</td>\n      <td>X4000</td>\n      <td>EQP001EQP002EQP003EQP005EQP006EQP010</td>\n      <td>FOUP0100</td>\n    </tr>\n  </tbody>\n</table>\n<p>100 rows × 11 columns</p>\n</div>"
     },
     "metadata": {},
     "execution_count": 7
    }
   ],
   "source": [
    "df"
   ]
  },
  {
   "cell_type": "code",
   "execution_count": 80,
   "metadata": {
    "tags": []
   },
   "outputs": [],
   "source": [
    "jobs = []\n",
    "for i in range(len(df.values)):\n",
    "    jobs.append(WIP(df.iloc[i]))"
   ]
  },
  {
   "cell_type": "code",
   "execution_count": 67,
   "metadata": {},
   "outputs": [
    {
     "output_type": "execute_result",
     "data": {
      "text/plain": "<__main__.WIP at 0x22d947b0e48>"
     },
     "metadata": {},
     "execution_count": 67
    }
   ],
   "source": [
    "jobs[1]"
   ]
  },
  {
   "cell_type": "code",
   "execution_count": 65,
   "metadata": {},
   "outputs": [
    {
     "output_type": "execute_result",
     "data": {
      "text/plain": "Index(['LOT_ID', 'OPE_NO', 'EP', 'QTY', 'R_QT', 'ARRIV_T', 'STAGE', 'URGENT_W',\n       'RECIPE', 'CANRUN_TOOL', 'FOUP'],\n      dtype='object')"
     },
     "metadata": {},
     "execution_count": 65
    }
   ],
   "source": [
    "df.iloc[1].index"
   ]
  },
  {
   "cell_type": "code",
   "execution_count": 55,
   "metadata": {
    "tags": []
   },
   "outputs": [
    {
     "output_type": "stream",
     "name": "stdout",
     "text": "LOT002\n2000.011\n2\n25\n9.2\n0\nSTAGE\n7\nY5000\nEQP001EQP004EQP005EQP007EQP008EQP010\nFOUP0002\n"
    }
   ],
   "source": [
    "for i in df.iloc[1]:\n",
    "    print(i)"
   ]
  },
  {
   "cell_type": "code",
   "execution_count": 68,
   "metadata": {},
   "outputs": [],
   "source": [
    "RECIPE = pd.read_excel(\"./semiconductor_data.xlsx\")"
   ]
  },
  {
   "cell_type": "code",
   "execution_count": 69,
   "metadata": {},
   "outputs": [
    {
     "output_type": "execute_result",
     "data": {
      "text/plain": "    EQP_ID RECIPE  PROCESS_TIME\n0   EQP001  X1000            80\n1   EQP001  Y2000           140\n2   EQP001  Z3000            80\n3   EQP001  X4000           120\n4   EQP001  Y5000           130\n..     ...    ...           ...\n95  EQP010  Z6000           120\n96  EQP010  X7000           150\n97  EQP010  Y8000           110\n98  EQP010  Z9000           130\n99  EQP010  X0000           110\n\n[100 rows x 3 columns]",
      "text/html": "<div>\n<style scoped>\n    .dataframe tbody tr th:only-of-type {\n        vertical-align: middle;\n    }\n\n    .dataframe tbody tr th {\n        vertical-align: top;\n    }\n\n    .dataframe thead th {\n        text-align: right;\n    }\n</style>\n<table border=\"1\" class=\"dataframe\">\n  <thead>\n    <tr style=\"text-align: right;\">\n      <th></th>\n      <th>EQP_ID</th>\n      <th>RECIPE</th>\n      <th>PROCESS_TIME</th>\n    </tr>\n  </thead>\n  <tbody>\n    <tr>\n      <th>0</th>\n      <td>EQP001</td>\n      <td>X1000</td>\n      <td>80</td>\n    </tr>\n    <tr>\n      <th>1</th>\n      <td>EQP001</td>\n      <td>Y2000</td>\n      <td>140</td>\n    </tr>\n    <tr>\n      <th>2</th>\n      <td>EQP001</td>\n      <td>Z3000</td>\n      <td>80</td>\n    </tr>\n    <tr>\n      <th>3</th>\n      <td>EQP001</td>\n      <td>X4000</td>\n      <td>120</td>\n    </tr>\n    <tr>\n      <th>4</th>\n      <td>EQP001</td>\n      <td>Y5000</td>\n      <td>130</td>\n    </tr>\n    <tr>\n      <th>...</th>\n      <td>...</td>\n      <td>...</td>\n      <td>...</td>\n    </tr>\n    <tr>\n      <th>95</th>\n      <td>EQP010</td>\n      <td>Z6000</td>\n      <td>120</td>\n    </tr>\n    <tr>\n      <th>96</th>\n      <td>EQP010</td>\n      <td>X7000</td>\n      <td>150</td>\n    </tr>\n    <tr>\n      <th>97</th>\n      <td>EQP010</td>\n      <td>Y8000</td>\n      <td>110</td>\n    </tr>\n    <tr>\n      <th>98</th>\n      <td>EQP010</td>\n      <td>Z9000</td>\n      <td>130</td>\n    </tr>\n    <tr>\n      <th>99</th>\n      <td>EQP010</td>\n      <td>X0000</td>\n      <td>110</td>\n    </tr>\n  </tbody>\n</table>\n<p>100 rows × 3 columns</p>\n</div>"
     },
     "metadata": {},
     "execution_count": 69
    }
   ],
   "source": [
    "RECIPE"
   ]
  },
  {
   "cell_type": "code",
   "execution_count": 73,
   "metadata": {},
   "outputs": [],
   "source": [
    "for i in range(len(jobs)):\n",
    "    jobs[i].set_process_time(RECIPE[RECIPE[\"RECIPE\"] == jobs[i].RECIPE])"
   ]
  },
  {
   "cell_type": "code",
   "execution_count": 74,
   "metadata": {},
   "outputs": [
    {
     "output_type": "execute_result",
     "data": {
      "text/plain": "    EQP_ID RECIPE  PROCESS_TIME\n7   EQP001  Y8000           100\n17  EQP002  Y8000           120\n27  EQP003  Y8000           130\n37  EQP004  Y8000           110\n47  EQP005  Y8000           130\n57  EQP006  Y8000           150\n67  EQP007  Y8000           110\n77  EQP008  Y8000           150\n87  EQP009  Y8000           140\n97  EQP010  Y8000           110",
      "text/html": "<div>\n<style scoped>\n    .dataframe tbody tr th:only-of-type {\n        vertical-align: middle;\n    }\n\n    .dataframe tbody tr th {\n        vertical-align: top;\n    }\n\n    .dataframe thead th {\n        text-align: right;\n    }\n</style>\n<table border=\"1\" class=\"dataframe\">\n  <thead>\n    <tr style=\"text-align: right;\">\n      <th></th>\n      <th>EQP_ID</th>\n      <th>RECIPE</th>\n      <th>PROCESS_TIME</th>\n    </tr>\n  </thead>\n  <tbody>\n    <tr>\n      <th>7</th>\n      <td>EQP001</td>\n      <td>Y8000</td>\n      <td>100</td>\n    </tr>\n    <tr>\n      <th>17</th>\n      <td>EQP002</td>\n      <td>Y8000</td>\n      <td>120</td>\n    </tr>\n    <tr>\n      <th>27</th>\n      <td>EQP003</td>\n      <td>Y8000</td>\n      <td>130</td>\n    </tr>\n    <tr>\n      <th>37</th>\n      <td>EQP004</td>\n      <td>Y8000</td>\n      <td>110</td>\n    </tr>\n    <tr>\n      <th>47</th>\n      <td>EQP005</td>\n      <td>Y8000</td>\n      <td>130</td>\n    </tr>\n    <tr>\n      <th>57</th>\n      <td>EQP006</td>\n      <td>Y8000</td>\n      <td>150</td>\n    </tr>\n    <tr>\n      <th>67</th>\n      <td>EQP007</td>\n      <td>Y8000</td>\n      <td>110</td>\n    </tr>\n    <tr>\n      <th>77</th>\n      <td>EQP008</td>\n      <td>Y8000</td>\n      <td>150</td>\n    </tr>\n    <tr>\n      <th>87</th>\n      <td>EQP009</td>\n      <td>Y8000</td>\n      <td>140</td>\n    </tr>\n    <tr>\n      <th>97</th>\n      <td>EQP010</td>\n      <td>Y8000</td>\n      <td>110</td>\n    </tr>\n  </tbody>\n</table>\n</div>"
     },
     "metadata": {},
     "execution_count": 74
    }
   ],
   "source": [
    "jobs[0].processTime"
   ]
  },
  {
   "cell_type": "code",
   "execution_count": 75,
   "metadata": {},
   "outputs": [
    {
     "output_type": "execute_result",
     "data": {
      "text/plain": "'Y8000'"
     },
     "metadata": {},
     "execution_count": 75
    }
   ],
   "source": [
    "jobs[0].RECIPE"
   ]
  },
  {
   "cell_type": "code",
   "execution_count": 81,
   "metadata": {
    "tags": []
   },
   "outputs": [
    {
     "output_type": "stream",
     "name": "stdout",
     "text": "{\n    \"LOT_ID\": \"LOT001\",\n    \"OPE_NO\": \"2000.011\",\n    \"EP\": \"1\",\n    \"QTY\": \"8\",\n    \"R_QT\": \"999\",\n    \"ARRIV_T\": \"300\",\n    \"STAGE\": \"STAGE\",\n    \"URGENT_W\": \"0.5\",\n    \"RECIPE\": \"Y8000\",\n    \"CANRUN_TOOL\": \"EQP003EQP004EQP005EQP006EQP008EQP009\",\n    \"FOUP\": \"FOUP0001\"\n}\n"
    }
   ],
   "source": [
    "print(jobs[0])"
   ]
  },
  {
   "cell_type": "code",
   "execution_count": null,
   "metadata": {},
   "outputs": [],
   "source": []
  }
 ]
}