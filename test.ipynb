{
 "cells": [
  {
   "cell_type": "code",
   "execution_count": 3,
   "metadata": {},
   "outputs": [
    {
     "name": "stdout",
     "output_type": "stream",
     "text": [
      "5\n",
      "1\n",
      "2\n",
      "3\n",
      "4\n",
      "5\n"
     ]
    }
   ],
   "source": [
    "jobs=[2,3,4,5,6]\n",
    "size=range(1,len(jobs)+1) 1-5\n",
    "print(len(jobs))\n",
    "for i in size:\n",
    "    print(i)"
   ]
  },
  {
   "cell_type": "code",
   "execution_count": null,
   "metadata": {},
   "outputs": [],
   "source": [
    "# 單筆\n",
    "import csv\n",
    "import pandas as pd\n",
    "import numpy as np\n",
    "from datetime import datetime\n",
    "import time\n",
    "import os \n",
    "import plotly.express as px\n",
    "import pandas as pd\n",
    "\n",
    "# read file\n",
    "filename= 'output_0-7'\n",
    "machines_df = pd.read_csv(\"./\"+ filename +\"/machines.csv\")\n",
    "config_df = pd.read_csv(\"./\"+ filename +\"/config.csv\")[['peak_period','minute_threshold','weight_setup_times','weight_cr']]\n",
    "std_df =pd.read_csv((\"./\"+ filename +\"/config.csv\"))[\"std_time\"]\n",
    "result_df = pd.read_csv(\"./\"+ filename +\"/result.csv\")\n",
    "\n",
    "# time convert\n",
    "input_scheduling_time= '2022-02-08 07:30' #開始算\n",
    "std_time = int(time.mktime(time.strptime(std_df.iloc[0], \"%y-%m-%d %H:%M\")))\n",
    "scheduling_time = int(time.mktime(time.strptime(input_scheduling_time, \"%Y-%m-%d %H:%M\")))\n",
    "gap_time= round((scheduling_time - std_time)/60)\n",
    "print(gap_time)\n",
    "g_start_T= 0+ gap_time\n",
    "g_end_T= 1440 + gap_time\n",
    "rows=[]\n",
    "\n",
    "# Get rid of repeative value\n",
    "repeative_index = list(result_df[result_df.duplicated(\"lot_number\",keep=False)].index)   #重複值包含空值!\n",
    "delete_index =[]\n",
    "for i in range(len(repeative_index)):\n",
    "    if result_df.iloc[repeative_index[i]].at['oper']!=0: # keep lot number = 'NA'\n",
    "        if result_df.iloc[repeative_index[i]].at['process_tsime'] !=0: # remove overlap job #刪掉非機台上有被排上的貨\n",
    "            delete_index.append(repeative_index[i])\n",
    "        \n",
    "no_NA_df = result_df.drop(index=delete_index)\n",
    "no_NA_df.reset_index(inplace=True, drop=True)\n",
    "\n",
    "# Test range\n",
    "#no_NA_df=no_NA_df[0:10]\n",
    "\n",
    "#----------------------------\n",
    "# 改機\n",
    "def get_setup(no_NA_df):\n",
    "\n",
    "    sorted_result_df=no_NA_df[no_NA_df[\"start_time\"]<= g_end_T].sort_values(by=['entity', 'end_time']) #within one day\n",
    "    setup_dict ={}\n",
    "    times_info_list=[]\n",
    "    entity_name= sorted_result_df['entity'].iloc[0] # default\n",
    "    bd_id = sorted_result_df['bd_id'].iloc[0]       # default\n",
    "    total_setup_times=0\n",
    "\n",
    "    for i in range(len(sorted_result_df.index)): # serach for all data\n",
    "        if entity_name == sorted_result_df['entity'].iloc[i]:  # If entity is same, need to judge whether bd_id is same. Else, record new entity(key)\n",
    "\n",
    "            if bd_id != sorted_result_df['bd_id'].iloc[i]: # if bd_id is different need to record\n",
    "                setup_start=sorted_result_df['end_time'].iloc[i-1]  #the endT of previous and convert to date\n",
    "                setup_end=sorted_result_df['start_time'].iloc[i]  #the startT of current and convert to date\n",
    "                # record\n",
    "                if setup_end >= g_start_T: #**\n",
    "                    times_info_list.append(str(setup_start)+' > '+str(setup_end)) \n",
    "                    total_setup_times +=1\n",
    "                bd_id = sorted_result_df['bd_id'].iloc[i]\n",
    "\n",
    "        else: \n",
    "            #add to dict\n",
    "            setup_dict[entity_name]=times_info_list\n",
    "\n",
    "            #next entity\n",
    "            entity_name = sorted_result_df['entity'].iloc[i]\n",
    "            bd_id = sorted_result_df['bd_id'].iloc[i]\n",
    "            times_info_list=[]\n",
    "    # test it\n",
    "    #print(setup_dict)  \n",
    "    return total_setup_times\n",
    "    \n",
    "\n",
    "# utilization\n",
    "def get_utilization(no_NA_df):\n",
    "    #oneday_result=no_NA_df[no_NA_df[\"start_time\"]<= g_end_T]  # for 空機&稼動率\n",
    "    oneday_result = no_NA_df[(no_NA_df.end_time>=g_start_T) & (no_NA_df.start_time<=g_end_T)]\n",
    "    entities=oneday_result.groupby(\"entity\") #within one day\n",
    "    entity_key_list= list(entities.groups.keys())\n",
    "    total_processing_time=0\n",
    "    total_processing_time_list=[]\n",
    "    utilization_rate=0\n",
    "    utilization_rate_dic={}\n",
    "    utilization_rate_list=[]\n",
    "    ## 一日空機\n",
    "    count=0\n",
    "    a = list(entities.size())\n",
    "    for i in range(len(a)):\n",
    "        if a[i]==1:\n",
    "            count+=1\n",
    "\n",
    "    #-----------------------------------------------------------------\n",
    "\n",
    "    for i in range(len(entity_key_list)): #len(entity_key_list)\n",
    "        key= entity_key_list[i]\n",
    "        if i !=0: # first not in \n",
    "            total_processing_time_list.append(total_processing_time)\n",
    "            #total_processing_time_list.append((entity_key_list[i-1],total_processing_time)) # test\n",
    "            utilization_rate_dic[entity_key_list[i-1]] = round(total_processing_time/1440*100,2)\n",
    "            total_processing_time=0\n",
    "\n",
    "        for j in range(len(entities.groups[entity_key_list[i]])):\n",
    "            row_index=entities.groups[key][j]\n",
    "            if float(no_NA_df.iloc[row_index].at['start_time']) < g_start_T and float(no_NA_df.iloc[row_index].at['end_time']) >g_end_T : # \n",
    "                processing_time = 1440\n",
    "            elif float(no_NA_df.iloc[row_index].at['start_time']) < g_start_T and float(no_NA_df.iloc[row_index].at['end_time']) <=g_end_T: # exceed one day\n",
    "                processing_time = float(no_NA_df.iloc[row_index].at['end_time']) - g_start_T \n",
    "            elif float(no_NA_df.iloc[row_index].at['start_time']) >= g_start_T and float(no_NA_df.iloc[row_index].at['end_time']) >g_end_T: # exceed one day\n",
    "                processing_time = g_end_T - float(no_NA_df.iloc[row_index].at['start_time'])\n",
    "            else: # normal \n",
    "                processing_time = float(no_NA_df.iloc[row_index].at['end_time']) - float(no_NA_df.iloc[row_index].at['start_time']) \n",
    "\n",
    "            total_processing_time += processing_time\n",
    "\n",
    "        if i == len(entity_key_list)-1: # final one\n",
    "            total_processing_time_list.append(total_processing_time)\n",
    "            ## test it\n",
    "            #total_processing_time_list.append((entity_key_list[i],total_processing_time)) # test\n",
    "            utilization_rate_dic[entity_key_list[i]] = round(total_processing_time/1440*100,2)\n",
    "\n",
    "    #print(len(total_processing_time_list))                                             # test\n",
    "    #print(utilization_rate_dic)  \n",
    "\n",
    "    # plot \n",
    "    u_df = pd.DataFrame(list(utilization_rate_dic.items()),columns=['Entity', 'Utilization_rate'])\n",
    "    fig = px.bar(u_df, x='Entity', y='Utilization_rate', title='Distribution')\n",
    "    fig.show()\n",
    "\n",
    "    ratio= sum(total_processing_time_list)/(1440*len(machines_df.index))\n",
    "\n",
    "    return \"{:.2%}\".format(ratio)\n",
    "    \n",
    "\n",
    "# 一日產量\n",
    "def get_outplan(no_NA_df):\n",
    "    outplan_df = no_NA_df[(no_NA_df.end_time>=g_start_T) & (no_NA_df.end_time<=g_end_T)]\n",
    "    outplan_df.reset_index(inplace=True, drop=True)\n",
    "    outplan = 0\n",
    "    for i in range(len(outplan_df.index)):\n",
    "        outplan += outplan_df.iloc[i].at['qty']\n",
    "    if outplan>1000:\n",
    "        #print(\"產量:\",round(outplan/1000),\"K\")\n",
    "        return str(round(outplan/1000))+'K' \n",
    "    else:\n",
    "        #print(\"產量:\",outplan)\n",
    "        return outplan \n",
    "\n",
    "# 排上機\n",
    "def get_running_machines(no_NA_df,machines_df):\n",
    "    outplan_df = no_NA_df[(no_NA_df.end_time>=g_start_T) & (no_NA_df.start_time<=g_end_T)]\n",
    "    outplan_df.reset_index(inplace=True, drop=True)    \n",
    "    entities=outplan_df.groupby(\"entity\") #within one day\n",
    "    entity_key_list= list(entities.groups.keys())\n",
    "\n",
    "    # total machine\n",
    "    entities_2=machines_df.groupby(\"ENTITY\") #within one day\n",
    "    entity_key_list_2 = list(entities_2.groups.keys())\n",
    "\n",
    "    # print no caculate utilization entity\n",
    "    not_in_one_day = list(set(entity_key_list_2) - set(entity_key_list))\n",
    "    print(\"Not running:\",sorted(not_in_one_day))\n",
    "    return \"{}/{}\".format(len(entity_key_list),len(entity_key_list_2)) \n",
    "\n",
    "rows.append([get_setup(no_NA_df),get_utilization(no_NA_df),get_outplan(no_NA_df),get_running_machines(no_NA_df,machines_df)])\n",
    "  \n",
    "indicator_df = pd.DataFrame(rows,columns=['Setup','Utilization','Outplan','Running_machines'])\n",
    "final_df = pd.concat([config_df,indicator_df],axis=1)\n",
    "# write to csv\n",
    "#final_df.to_csv(\"indicator_\"+ filename +\".csv\", index=False ,na_rep=0,encoding='utf_8_sig') \n",
    "\n",
    "final_df\n",
    "\n"
   ]
  },
  {
   "cell_type": "code",
   "execution_count": 5,
   "metadata": {},
   "outputs": [
    {
     "name": "stdout",
     "output_type": "stream",
     "text": [
      "3\n"
     ]
    }
   ],
   "source": [
    "i=1\n",
    "print(str(i+2))"
   ]
  },
  {
   "cell_type": "code",
   "execution_count": 4,
   "metadata": {},
   "outputs": [
    {
     "ename": "TypeError",
     "evalue": "Both x_start and x_end must refer to data convertible to datetimes.",
     "output_type": "error",
     "traceback": [
      "\u001b[1;31m---------------------------------------------------------------------------\u001b[0m",
      "\u001b[1;31mTypeError\u001b[0m                                 Traceback (most recent call last)",
      "\u001b[1;32m~\\AppData\\Local\\Programs\\Python\\Python38\\lib\\site-packages\\pandas\\core\\arrays\\datetimes.py\u001b[0m in \u001b[0;36mobjects_to_datetime64ns\u001b[1;34m(data, dayfirst, yearfirst, utc, errors, require_iso8601, allow_object)\u001b[0m\n\u001b[0;32m   2053\u001b[0m         \u001b[1;32mtry\u001b[0m\u001b[1;33m:\u001b[0m\u001b[1;33m\u001b[0m\u001b[1;33m\u001b[0m\u001b[0m\n\u001b[1;32m-> 2054\u001b[1;33m             \u001b[0mvalues\u001b[0m\u001b[1;33m,\u001b[0m \u001b[0mtz_parsed\u001b[0m \u001b[1;33m=\u001b[0m \u001b[0mconversion\u001b[0m\u001b[1;33m.\u001b[0m\u001b[0mdatetime_to_datetime64\u001b[0m\u001b[1;33m(\u001b[0m\u001b[0mdata\u001b[0m\u001b[1;33m)\u001b[0m\u001b[1;33m\u001b[0m\u001b[1;33m\u001b[0m\u001b[0m\n\u001b[0m\u001b[0;32m   2055\u001b[0m             \u001b[1;31m# If tzaware, these values represent unix timestamps, so we\u001b[0m\u001b[1;33m\u001b[0m\u001b[1;33m\u001b[0m\u001b[1;33m\u001b[0m\u001b[0m\n",
      "\u001b[1;32mpandas\\_libs\\tslibs\\conversion.pyx\u001b[0m in \u001b[0;36mpandas._libs.tslibs.conversion.datetime_to_datetime64\u001b[1;34m()\u001b[0m\n",
      "\u001b[1;31mTypeError\u001b[0m: Unrecognized value type: <class 'str'>",
      "\nDuring handling of the above exception, another exception occurred:\n",
      "\u001b[1;31mParserError\u001b[0m                               Traceback (most recent call last)",
      "\u001b[1;32m~\\AppData\\Local\\Programs\\Python\\Python38\\lib\\site-packages\\plotly\\express\\_core.py\u001b[0m in \u001b[0;36mprocess_dataframe_timeline\u001b[1;34m(args)\u001b[0m\n\u001b[0;32m   1611\u001b[0m         \u001b[0mx_start\u001b[0m \u001b[1;33m=\u001b[0m \u001b[0mpd\u001b[0m\u001b[1;33m.\u001b[0m\u001b[0mto_datetime\u001b[0m\u001b[1;33m(\u001b[0m\u001b[0margs\u001b[0m\u001b[1;33m[\u001b[0m\u001b[1;34m\"data_frame\"\u001b[0m\u001b[1;33m]\u001b[0m\u001b[1;33m[\u001b[0m\u001b[0margs\u001b[0m\u001b[1;33m[\u001b[0m\u001b[1;34m\"x_start\"\u001b[0m\u001b[1;33m]\u001b[0m\u001b[1;33m]\u001b[0m\u001b[1;33m)\u001b[0m\u001b[1;33m\u001b[0m\u001b[1;33m\u001b[0m\u001b[0m\n\u001b[1;32m-> 1612\u001b[1;33m         \u001b[0mx_end\u001b[0m \u001b[1;33m=\u001b[0m \u001b[0mpd\u001b[0m\u001b[1;33m.\u001b[0m\u001b[0mto_datetime\u001b[0m\u001b[1;33m(\u001b[0m\u001b[0margs\u001b[0m\u001b[1;33m[\u001b[0m\u001b[1;34m\"data_frame\"\u001b[0m\u001b[1;33m]\u001b[0m\u001b[1;33m[\u001b[0m\u001b[0margs\u001b[0m\u001b[1;33m[\u001b[0m\u001b[1;34m\"x_end\"\u001b[0m\u001b[1;33m]\u001b[0m\u001b[1;33m]\u001b[0m\u001b[1;33m)\u001b[0m\u001b[1;33m\u001b[0m\u001b[1;33m\u001b[0m\u001b[0m\n\u001b[0m\u001b[0;32m   1613\u001b[0m     \u001b[1;32mexcept\u001b[0m \u001b[1;33m(\u001b[0m\u001b[0mValueError\u001b[0m\u001b[1;33m,\u001b[0m \u001b[0mTypeError\u001b[0m\u001b[1;33m)\u001b[0m\u001b[1;33m:\u001b[0m\u001b[1;33m\u001b[0m\u001b[1;33m\u001b[0m\u001b[0m\n",
      "\u001b[1;32m~\\AppData\\Local\\Programs\\Python\\Python38\\lib\\site-packages\\pandas\\core\\tools\\datetimes.py\u001b[0m in \u001b[0;36mto_datetime\u001b[1;34m(arg, errors, dayfirst, yearfirst, utc, format, exact, unit, infer_datetime_format, origin, cache)\u001b[0m\n\u001b[0;32m    802\u001b[0m         \u001b[1;32melse\u001b[0m\u001b[1;33m:\u001b[0m\u001b[1;33m\u001b[0m\u001b[1;33m\u001b[0m\u001b[0m\n\u001b[1;32m--> 803\u001b[1;33m             \u001b[0mvalues\u001b[0m \u001b[1;33m=\u001b[0m \u001b[0mconvert_listlike\u001b[0m\u001b[1;33m(\u001b[0m\u001b[0marg\u001b[0m\u001b[1;33m.\u001b[0m\u001b[0m_values\u001b[0m\u001b[1;33m,\u001b[0m \u001b[0mformat\u001b[0m\u001b[1;33m)\u001b[0m\u001b[1;33m\u001b[0m\u001b[1;33m\u001b[0m\u001b[0m\n\u001b[0m\u001b[0;32m    804\u001b[0m             \u001b[0mresult\u001b[0m \u001b[1;33m=\u001b[0m \u001b[0marg\u001b[0m\u001b[1;33m.\u001b[0m\u001b[0m_constructor\u001b[0m\u001b[1;33m(\u001b[0m\u001b[0mvalues\u001b[0m\u001b[1;33m,\u001b[0m \u001b[0mindex\u001b[0m\u001b[1;33m=\u001b[0m\u001b[0marg\u001b[0m\u001b[1;33m.\u001b[0m\u001b[0mindex\u001b[0m\u001b[1;33m,\u001b[0m \u001b[0mname\u001b[0m\u001b[1;33m=\u001b[0m\u001b[0marg\u001b[0m\u001b[1;33m.\u001b[0m\u001b[0mname\u001b[0m\u001b[1;33m)\u001b[0m\u001b[1;33m\u001b[0m\u001b[1;33m\u001b[0m\u001b[0m\n",
      "\u001b[1;32m~\\AppData\\Local\\Programs\\Python\\Python38\\lib\\site-packages\\pandas\\core\\tools\\datetimes.py\u001b[0m in \u001b[0;36m_convert_listlike_datetimes\u001b[1;34m(arg, format, name, tz, unit, errors, infer_datetime_format, dayfirst, yearfirst, exact)\u001b[0m\n\u001b[0;32m    458\u001b[0m         \u001b[0mutc\u001b[0m \u001b[1;33m=\u001b[0m \u001b[0mtz\u001b[0m \u001b[1;33m==\u001b[0m \u001b[1;34m\"utc\"\u001b[0m\u001b[1;33m\u001b[0m\u001b[1;33m\u001b[0m\u001b[0m\n\u001b[1;32m--> 459\u001b[1;33m         result, tz_parsed = objects_to_datetime64ns(\n\u001b[0m\u001b[0;32m    460\u001b[0m             \u001b[0marg\u001b[0m\u001b[1;33m,\u001b[0m\u001b[1;33m\u001b[0m\u001b[1;33m\u001b[0m\u001b[0m\n",
      "\u001b[1;32m~\\AppData\\Local\\Programs\\Python\\Python38\\lib\\site-packages\\pandas\\core\\arrays\\datetimes.py\u001b[0m in \u001b[0;36mobjects_to_datetime64ns\u001b[1;34m(data, dayfirst, yearfirst, utc, errors, require_iso8601, allow_object)\u001b[0m\n\u001b[0;32m   2058\u001b[0m         \u001b[1;32mexcept\u001b[0m \u001b[1;33m(\u001b[0m\u001b[0mValueError\u001b[0m\u001b[1;33m,\u001b[0m \u001b[0mTypeError\u001b[0m\u001b[1;33m)\u001b[0m\u001b[1;33m:\u001b[0m\u001b[1;33m\u001b[0m\u001b[1;33m\u001b[0m\u001b[0m\n\u001b[1;32m-> 2059\u001b[1;33m             \u001b[1;32mraise\u001b[0m \u001b[0me\u001b[0m\u001b[1;33m\u001b[0m\u001b[1;33m\u001b[0m\u001b[0m\n\u001b[0m\u001b[0;32m   2060\u001b[0m \u001b[1;33m\u001b[0m\u001b[0m\n",
      "\u001b[1;32m~\\AppData\\Local\\Programs\\Python\\Python38\\lib\\site-packages\\pandas\\core\\arrays\\datetimes.py\u001b[0m in \u001b[0;36mobjects_to_datetime64ns\u001b[1;34m(data, dayfirst, yearfirst, utc, errors, require_iso8601, allow_object)\u001b[0m\n\u001b[0;32m   2043\u001b[0m     \u001b[1;32mtry\u001b[0m\u001b[1;33m:\u001b[0m\u001b[1;33m\u001b[0m\u001b[1;33m\u001b[0m\u001b[0m\n\u001b[1;32m-> 2044\u001b[1;33m         result, tz_parsed = tslib.array_to_datetime(\n\u001b[0m\u001b[0;32m   2045\u001b[0m             \u001b[0mdata\u001b[0m\u001b[1;33m,\u001b[0m\u001b[1;33m\u001b[0m\u001b[1;33m\u001b[0m\u001b[0m\n",
      "\u001b[1;32mpandas\\_libs\\tslib.pyx\u001b[0m in \u001b[0;36mpandas._libs.tslib.array_to_datetime\u001b[1;34m()\u001b[0m\n",
      "\u001b[1;32mpandas\\_libs\\tslib.pyx\u001b[0m in \u001b[0;36mpandas._libs.tslib.array_to_datetime\u001b[1;34m()\u001b[0m\n",
      "\u001b[1;32mpandas\\_libs\\tslib.pyx\u001b[0m in \u001b[0;36mpandas._libs.tslib.array_to_datetime_object\u001b[1;34m()\u001b[0m\n",
      "\u001b[1;32mpandas\\_libs\\tslib.pyx\u001b[0m in \u001b[0;36mpandas._libs.tslib.array_to_datetime_object\u001b[1;34m()\u001b[0m\n",
      "\u001b[1;32mpandas\\_libs\\tslibs\\parsing.pyx\u001b[0m in \u001b[0;36mpandas._libs.tslibs.parsing.parse_datetime_string\u001b[1;34m()\u001b[0m\n",
      "\u001b[1;32m~\\AppData\\Roaming\\Python\\Python38\\site-packages\\dateutil\\parser\\_parser.py\u001b[0m in \u001b[0;36mparse\u001b[1;34m(timestr, parserinfo, **kwargs)\u001b[0m\n\u001b[0;32m   1373\u001b[0m     \u001b[1;32melse\u001b[0m\u001b[1;33m:\u001b[0m\u001b[1;33m\u001b[0m\u001b[1;33m\u001b[0m\u001b[0m\n\u001b[1;32m-> 1374\u001b[1;33m         \u001b[1;32mreturn\u001b[0m \u001b[0mDEFAULTPARSER\u001b[0m\u001b[1;33m.\u001b[0m\u001b[0mparse\u001b[0m\u001b[1;33m(\u001b[0m\u001b[0mtimestr\u001b[0m\u001b[1;33m,\u001b[0m \u001b[1;33m**\u001b[0m\u001b[0mkwargs\u001b[0m\u001b[1;33m)\u001b[0m\u001b[1;33m\u001b[0m\u001b[1;33m\u001b[0m\u001b[0m\n\u001b[0m\u001b[0;32m   1375\u001b[0m \u001b[1;33m\u001b[0m\u001b[0m\n",
      "\u001b[1;32m~\\AppData\\Roaming\\Python\\Python38\\site-packages\\dateutil\\parser\\_parser.py\u001b[0m in \u001b[0;36mparse\u001b[1;34m(self, timestr, default, ignoretz, tzinfos, **kwargs)\u001b[0m\n\u001b[0;32m    648\u001b[0m         \u001b[1;32mif\u001b[0m \u001b[0mres\u001b[0m \u001b[1;32mis\u001b[0m \u001b[1;32mNone\u001b[0m\u001b[1;33m:\u001b[0m\u001b[1;33m\u001b[0m\u001b[1;33m\u001b[0m\u001b[0m\n\u001b[1;32m--> 649\u001b[1;33m             \u001b[1;32mraise\u001b[0m \u001b[0mParserError\u001b[0m\u001b[1;33m(\u001b[0m\u001b[1;34m\"Unknown string format: %s\"\u001b[0m\u001b[1;33m,\u001b[0m \u001b[0mtimestr\u001b[0m\u001b[1;33m)\u001b[0m\u001b[1;33m\u001b[0m\u001b[1;33m\u001b[0m\u001b[0m\n\u001b[0m\u001b[0;32m    650\u001b[0m \u001b[1;33m\u001b[0m\u001b[0m\n",
      "\u001b[1;31mParserError\u001b[0m: Unknown string format: 2020-11-07 6 days, 22:40:00",
      "\nDuring handling of the above exception, another exception occurred:\n",
      "\u001b[1;31mTypeError\u001b[0m                                 Traceback (most recent call last)",
      "\u001b[1;32m<ipython-input-4-f2595c704ce6>\u001b[0m in \u001b[0;36m<module>\u001b[1;34m\u001b[0m\n\u001b[0;32m     10\u001b[0m \u001b[1;33m\u001b[0m\u001b[0m\n\u001b[0;32m     11\u001b[0m \u001b[1;31m#呈現圖表\u001b[0m\u001b[1;33m\u001b[0m\u001b[1;33m\u001b[0m\u001b[1;33m\u001b[0m\u001b[0m\n\u001b[1;32m---> 12\u001b[1;33m \u001b[0mfig\u001b[0m \u001b[1;33m=\u001b[0m \u001b[0mpx\u001b[0m\u001b[1;33m.\u001b[0m\u001b[0mtimeline\u001b[0m\u001b[1;33m(\u001b[0m\u001b[0mdf\u001b[0m\u001b[1;33m,\u001b[0m \u001b[0mx_start\u001b[0m\u001b[1;33m=\u001b[0m\u001b[1;34m\"Start\"\u001b[0m\u001b[1;33m,\u001b[0m \u001b[0mx_end\u001b[0m\u001b[1;33m=\u001b[0m\u001b[1;34m\"Finish\"\u001b[0m\u001b[1;33m,\u001b[0m \u001b[0my\u001b[0m\u001b[1;33m=\u001b[0m\u001b[1;34m\"Resource\"\u001b[0m\u001b[1;33m,\u001b[0m \u001b[0mcolor\u001b[0m\u001b[1;33m=\u001b[0m\u001b[1;34m\"Task\"\u001b[0m\u001b[1;33m,\u001b[0m\u001b[0mtext\u001b[0m\u001b[1;33m=\u001b[0m\u001b[1;34m\"Task\"\u001b[0m\u001b[1;33m)\u001b[0m\u001b[1;33m\u001b[0m\u001b[1;33m\u001b[0m\u001b[0m\n\u001b[0m\u001b[0;32m     13\u001b[0m \u001b[0mfig\u001b[0m\u001b[1;33m.\u001b[0m\u001b[0mshow\u001b[0m\u001b[1;33m(\u001b[0m\u001b[1;33m)\u001b[0m\u001b[1;33m\u001b[0m\u001b[1;33m\u001b[0m\u001b[0m\n",
      "\u001b[1;32m~\\AppData\\Local\\Programs\\Python\\Python38\\lib\\site-packages\\plotly\\express\\_chart_types.py\u001b[0m in \u001b[0;36mtimeline\u001b[1;34m(data_frame, x_start, x_end, y, color, facet_row, facet_col, facet_col_wrap, facet_row_spacing, facet_col_spacing, hover_name, hover_data, custom_data, text, animation_frame, animation_group, category_orders, labels, color_discrete_sequence, color_discrete_map, color_continuous_scale, range_color, color_continuous_midpoint, opacity, range_x, range_y, title, template, width, height)\u001b[0m\n\u001b[0;32m    395\u001b[0m     \u001b[0mmark\u001b[0m \u001b[0mon\u001b[0m \u001b[0man\u001b[0m \u001b[0mx\u001b[0m \u001b[0maxis\u001b[0m \u001b[0mof\u001b[0m \u001b[0mtype\u001b[0m\u001b[0;31m \u001b[0m\u001b[0;31m`\u001b[0m\u001b[0mdate\u001b[0m\u001b[0;31m`\u001b[0m\u001b[1;33m,\u001b[0m \u001b[0mspanning\u001b[0m \u001b[1;32mfrom\u001b[0m\u001b[0;31m \u001b[0m\u001b[0;31m`\u001b[0m\u001b[0mx_start\u001b[0m\u001b[0;31m`\u001b[0m \u001b[0mto\u001b[0m\u001b[0;31m \u001b[0m\u001b[0;31m`\u001b[0m\u001b[0mx_end\u001b[0m\u001b[0;31m`\u001b[0m\u001b[1;33m.\u001b[0m\u001b[1;33m\u001b[0m\u001b[1;33m\u001b[0m\u001b[0m\n\u001b[0;32m    396\u001b[0m     \"\"\"\n\u001b[1;32m--> 397\u001b[1;33m     return make_figure(\n\u001b[0m\u001b[0;32m    398\u001b[0m         \u001b[0margs\u001b[0m\u001b[1;33m=\u001b[0m\u001b[0mlocals\u001b[0m\u001b[1;33m(\u001b[0m\u001b[1;33m)\u001b[0m\u001b[1;33m,\u001b[0m\u001b[1;33m\u001b[0m\u001b[1;33m\u001b[0m\u001b[0m\n\u001b[0;32m    399\u001b[0m         \u001b[0mconstructor\u001b[0m\u001b[1;33m=\u001b[0m\u001b[1;34m\"timeline\"\u001b[0m\u001b[1;33m,\u001b[0m\u001b[1;33m\u001b[0m\u001b[1;33m\u001b[0m\u001b[0m\n",
      "\u001b[1;32m~\\AppData\\Local\\Programs\\Python\\Python38\\lib\\site-packages\\plotly\\express\\_core.py\u001b[0m in \u001b[0;36mmake_figure\u001b[1;34m(args, constructor, trace_patch, layout_patch)\u001b[0m\n\u001b[0;32m   1829\u001b[0m     \u001b[1;32mif\u001b[0m \u001b[0mconstructor\u001b[0m \u001b[1;33m==\u001b[0m \u001b[1;34m\"timeline\"\u001b[0m\u001b[1;33m:\u001b[0m\u001b[1;33m\u001b[0m\u001b[1;33m\u001b[0m\u001b[0m\n\u001b[0;32m   1830\u001b[0m         \u001b[0mconstructor\u001b[0m \u001b[1;33m=\u001b[0m \u001b[0mgo\u001b[0m\u001b[1;33m.\u001b[0m\u001b[0mBar\u001b[0m\u001b[1;33m\u001b[0m\u001b[1;33m\u001b[0m\u001b[0m\n\u001b[1;32m-> 1831\u001b[1;33m         \u001b[0margs\u001b[0m \u001b[1;33m=\u001b[0m \u001b[0mprocess_dataframe_timeline\u001b[0m\u001b[1;33m(\u001b[0m\u001b[0margs\u001b[0m\u001b[1;33m)\u001b[0m\u001b[1;33m\u001b[0m\u001b[1;33m\u001b[0m\u001b[0m\n\u001b[0m\u001b[0;32m   1832\u001b[0m \u001b[1;33m\u001b[0m\u001b[0m\n\u001b[0;32m   1833\u001b[0m     trace_specs, grouped_mappings, sizeref, show_colorbar = infer_config(\n",
      "\u001b[1;32m~\\AppData\\Local\\Programs\\Python\\Python38\\lib\\site-packages\\plotly\\express\\_core.py\u001b[0m in \u001b[0;36mprocess_dataframe_timeline\u001b[1;34m(args)\u001b[0m\n\u001b[0;32m   1612\u001b[0m         \u001b[0mx_end\u001b[0m \u001b[1;33m=\u001b[0m \u001b[0mpd\u001b[0m\u001b[1;33m.\u001b[0m\u001b[0mto_datetime\u001b[0m\u001b[1;33m(\u001b[0m\u001b[0margs\u001b[0m\u001b[1;33m[\u001b[0m\u001b[1;34m\"data_frame\"\u001b[0m\u001b[1;33m]\u001b[0m\u001b[1;33m[\u001b[0m\u001b[0margs\u001b[0m\u001b[1;33m[\u001b[0m\u001b[1;34m\"x_end\"\u001b[0m\u001b[1;33m]\u001b[0m\u001b[1;33m]\u001b[0m\u001b[1;33m)\u001b[0m\u001b[1;33m\u001b[0m\u001b[1;33m\u001b[0m\u001b[0m\n\u001b[0;32m   1613\u001b[0m     \u001b[1;32mexcept\u001b[0m \u001b[1;33m(\u001b[0m\u001b[0mValueError\u001b[0m\u001b[1;33m,\u001b[0m \u001b[0mTypeError\u001b[0m\u001b[1;33m)\u001b[0m\u001b[1;33m:\u001b[0m\u001b[1;33m\u001b[0m\u001b[1;33m\u001b[0m\u001b[0m\n\u001b[1;32m-> 1614\u001b[1;33m         raise TypeError(\n\u001b[0m\u001b[0;32m   1615\u001b[0m             \u001b[1;34m\"Both x_start and x_end must refer to data convertible to datetimes.\"\u001b[0m\u001b[1;33m\u001b[0m\u001b[1;33m\u001b[0m\u001b[0m\n\u001b[0;32m   1616\u001b[0m         )\n",
      "\u001b[1;31mTypeError\u001b[0m: Both x_start and x_end must refer to data convertible to datetimes."
     ]
    }
   ],
   "source": [
    "import plotly.express as px\n",
    "import datetime\n",
    "import pandas as pd\n",
    "\n",
    "df=[]\n",
    "  \n",
    "df.append(dict(Task=\"J1\", Start='2020-11-07 %s'%datetime.timedelta(minutes=10),\n",
    "Finish='2020-11-07 %s'%datetime.timedelta(minutes=10000),Resource=\"M1\"))\n",
    "\n",
    "\n",
    "#呈現圖表\n",
    "fig = px.timeline(df, x_start=\"Start\", x_end=\"Finish\", y=\"Resource\", color=\"Task\",text=\"Task\")\n",
    "fig.show()\n"
   ]
  },
  {
   "cell_type": "code",
   "execution_count": 3,
   "metadata": {},
   "outputs": [],
   "source": [
    "import pandas as pd\n",
    "import json\n",
    "# from wip import WIP\n",
    "\n",
    "class Job():\n",
    "    def __init__(self, configure, processTime):\n",
    "        self.configure = configure  #fix\n",
    "        self.processTime = processTime[processTime[\"RECIPE\"] == self.configure[\"RECIPE\"]] #fix\n",
    "        self.startTime = 0 #var\n",
    "        self.machineID = ''  #var\n",
    "        self.endTime = 0 #var\n",
    "         \n",
    "        for i in self.configure.index:\n",
    "            setattr(self, i, self.configure[i])\n",
    "\n",
    "    def set_machine_id(self, machineID):\n",
    "        self.machineID = machineID\n",
    "\n",
    "    def set_start_time(self, time):\n",
    "        self.startTime = time\n",
    "        processTime = int(self.processTime[ self.processTime[\"EQP_ID\"] == self.machineID ][\"PROCESS_TIME\"])\n",
    "        self.endTime = self.startTime + processTime\n",
    "    \n",
    "    def get_end_time(self):\n",
    "        return self.endTime\n",
    "    \n",
    "    def __str__(self): \n",
    "        return json.dumps(self.configure.to_dict(), indent=4)\n",
    "    \n",
    "    def __repr__(self): \n",
    "        return json.dumps(self.configure.to_dict(), indent=4)\n"
   ]
  },
  {
   "cell_type": "code",
   "execution_count": 19,
   "metadata": {},
   "outputs": [],
   "source": [
    "class Machine(object):\n",
    "    def __init__(self, configure, setupTime):\n",
    "        self.configure = configure\n",
    "        self.setupTime = setupTime\n",
    "\n",
    "        self.jobs = []\n",
    "\n",
    "    def add_job(self, job):\n",
    "        self.jobs.append(job)\n",
    "\n",
    "    def sort_jobs(self):\n",
    "        currentTime = int(self.configure[\"RECOVER_TIME\"])\n",
    "        print(currentTime)\n",
    "\n",
    "        for i in range(len(self.jobs)):\n",
    "            self.jobs[i].set_start_time(currentTime)\n",
    "            currentTime = self.jobs[i].get_end_time()\n",
    "            \n",
    "machines = []\n",
    "for i in range(len(tool.values)):\n",
    "    machines.append(Machine(tool.iloc[i], setup_time.values))  #setuptime整張表"
   ]
  },
  {
   "cell_type": "code",
   "execution_count": 14,
   "metadata": {},
   "outputs": [],
   "source": [
    "wip = pd.read_excel(\"./semiconductor_data.xlsx\", sheet_name=2, dtype=str) #K"
   ]
  },
  {
   "cell_type": "code",
   "execution_count": 17,
   "metadata": {},
   "outputs": [],
   "source": [
    "eqp = pd.read_excel(\"./semiconductor_data.xlsx\", sheet_name=0, dtype=str) #K"
   ]
  },
  {
   "cell_type": "code",
   "execution_count": 7,
   "metadata": {},
   "outputs": [
    {
     "data": {
      "text/html": [
       "<div>\n",
       "<style scoped>\n",
       "    .dataframe tbody tr th:only-of-type {\n",
       "        vertical-align: middle;\n",
       "    }\n",
       "\n",
       "    .dataframe tbody tr th {\n",
       "        vertical-align: top;\n",
       "    }\n",
       "\n",
       "    .dataframe thead th {\n",
       "        text-align: right;\n",
       "    }\n",
       "</style>\n",
       "<table border=\"1\" class=\"dataframe\">\n",
       "  <thead>\n",
       "    <tr style=\"text-align: right;\">\n",
       "      <th></th>\n",
       "      <th>1</th>\n",
       "      <th>2</th>\n",
       "      <th>3</th>\n",
       "      <th>4</th>\n",
       "      <th>5</th>\n",
       "      <th>6</th>\n",
       "      <th>7</th>\n",
       "      <th>8</th>\n",
       "      <th>9</th>\n",
       "      <th>10</th>\n",
       "      <th>...</th>\n",
       "      <th>91</th>\n",
       "      <th>92</th>\n",
       "      <th>93</th>\n",
       "      <th>94</th>\n",
       "      <th>95</th>\n",
       "      <th>96</th>\n",
       "      <th>97</th>\n",
       "      <th>98</th>\n",
       "      <th>99</th>\n",
       "      <th>100</th>\n",
       "    </tr>\n",
       "  </thead>\n",
       "  <tbody>\n",
       "    <tr>\n",
       "      <th>0</th>\n",
       "      <td>0</td>\n",
       "      <td>10</td>\n",
       "      <td>10</td>\n",
       "      <td>10</td>\n",
       "      <td>10</td>\n",
       "      <td>10</td>\n",
       "      <td>10</td>\n",
       "      <td>10</td>\n",
       "      <td>10</td>\n",
       "      <td>10</td>\n",
       "      <td>...</td>\n",
       "      <td>10</td>\n",
       "      <td>10</td>\n",
       "      <td>10</td>\n",
       "      <td>10</td>\n",
       "      <td>0</td>\n",
       "      <td>10</td>\n",
       "      <td>0</td>\n",
       "      <td>10</td>\n",
       "      <td>10</td>\n",
       "      <td>10</td>\n",
       "    </tr>\n",
       "    <tr>\n",
       "      <th>1</th>\n",
       "      <td>10</td>\n",
       "      <td>0</td>\n",
       "      <td>10</td>\n",
       "      <td>10</td>\n",
       "      <td>10</td>\n",
       "      <td>10</td>\n",
       "      <td>10</td>\n",
       "      <td>10</td>\n",
       "      <td>10</td>\n",
       "      <td>10</td>\n",
       "      <td>...</td>\n",
       "      <td>10</td>\n",
       "      <td>10</td>\n",
       "      <td>10</td>\n",
       "      <td>10</td>\n",
       "      <td>10</td>\n",
       "      <td>10</td>\n",
       "      <td>10</td>\n",
       "      <td>10</td>\n",
       "      <td>10</td>\n",
       "      <td>10</td>\n",
       "    </tr>\n",
       "    <tr>\n",
       "      <th>2</th>\n",
       "      <td>10</td>\n",
       "      <td>10</td>\n",
       "      <td>0</td>\n",
       "      <td>10</td>\n",
       "      <td>0</td>\n",
       "      <td>10</td>\n",
       "      <td>10</td>\n",
       "      <td>10</td>\n",
       "      <td>10</td>\n",
       "      <td>10</td>\n",
       "      <td>...</td>\n",
       "      <td>10</td>\n",
       "      <td>10</td>\n",
       "      <td>10</td>\n",
       "      <td>10</td>\n",
       "      <td>10</td>\n",
       "      <td>10</td>\n",
       "      <td>10</td>\n",
       "      <td>0</td>\n",
       "      <td>10</td>\n",
       "      <td>10</td>\n",
       "    </tr>\n",
       "    <tr>\n",
       "      <th>3</th>\n",
       "      <td>10</td>\n",
       "      <td>10</td>\n",
       "      <td>10</td>\n",
       "      <td>0</td>\n",
       "      <td>10</td>\n",
       "      <td>0</td>\n",
       "      <td>10</td>\n",
       "      <td>10</td>\n",
       "      <td>10</td>\n",
       "      <td>10</td>\n",
       "      <td>...</td>\n",
       "      <td>10</td>\n",
       "      <td>10</td>\n",
       "      <td>10</td>\n",
       "      <td>10</td>\n",
       "      <td>10</td>\n",
       "      <td>10</td>\n",
       "      <td>10</td>\n",
       "      <td>10</td>\n",
       "      <td>10</td>\n",
       "      <td>10</td>\n",
       "    </tr>\n",
       "    <tr>\n",
       "      <th>4</th>\n",
       "      <td>10</td>\n",
       "      <td>10</td>\n",
       "      <td>0</td>\n",
       "      <td>10</td>\n",
       "      <td>0</td>\n",
       "      <td>10</td>\n",
       "      <td>10</td>\n",
       "      <td>10</td>\n",
       "      <td>10</td>\n",
       "      <td>10</td>\n",
       "      <td>...</td>\n",
       "      <td>10</td>\n",
       "      <td>10</td>\n",
       "      <td>10</td>\n",
       "      <td>10</td>\n",
       "      <td>10</td>\n",
       "      <td>10</td>\n",
       "      <td>10</td>\n",
       "      <td>0</td>\n",
       "      <td>10</td>\n",
       "      <td>10</td>\n",
       "    </tr>\n",
       "    <tr>\n",
       "      <th>...</th>\n",
       "      <td>...</td>\n",
       "      <td>...</td>\n",
       "      <td>...</td>\n",
       "      <td>...</td>\n",
       "      <td>...</td>\n",
       "      <td>...</td>\n",
       "      <td>...</td>\n",
       "      <td>...</td>\n",
       "      <td>...</td>\n",
       "      <td>...</td>\n",
       "      <td>...</td>\n",
       "      <td>...</td>\n",
       "      <td>...</td>\n",
       "      <td>...</td>\n",
       "      <td>...</td>\n",
       "      <td>...</td>\n",
       "      <td>...</td>\n",
       "      <td>...</td>\n",
       "      <td>...</td>\n",
       "      <td>...</td>\n",
       "      <td>...</td>\n",
       "    </tr>\n",
       "    <tr>\n",
       "      <th>95</th>\n",
       "      <td>10</td>\n",
       "      <td>10</td>\n",
       "      <td>10</td>\n",
       "      <td>10</td>\n",
       "      <td>10</td>\n",
       "      <td>10</td>\n",
       "      <td>10</td>\n",
       "      <td>10</td>\n",
       "      <td>10</td>\n",
       "      <td>0</td>\n",
       "      <td>...</td>\n",
       "      <td>10</td>\n",
       "      <td>10</td>\n",
       "      <td>10</td>\n",
       "      <td>10</td>\n",
       "      <td>10</td>\n",
       "      <td>0</td>\n",
       "      <td>10</td>\n",
       "      <td>10</td>\n",
       "      <td>10</td>\n",
       "      <td>10</td>\n",
       "    </tr>\n",
       "    <tr>\n",
       "      <th>96</th>\n",
       "      <td>0</td>\n",
       "      <td>10</td>\n",
       "      <td>10</td>\n",
       "      <td>10</td>\n",
       "      <td>10</td>\n",
       "      <td>10</td>\n",
       "      <td>10</td>\n",
       "      <td>10</td>\n",
       "      <td>10</td>\n",
       "      <td>10</td>\n",
       "      <td>...</td>\n",
       "      <td>10</td>\n",
       "      <td>10</td>\n",
       "      <td>10</td>\n",
       "      <td>10</td>\n",
       "      <td>0</td>\n",
       "      <td>10</td>\n",
       "      <td>0</td>\n",
       "      <td>10</td>\n",
       "      <td>10</td>\n",
       "      <td>10</td>\n",
       "    </tr>\n",
       "    <tr>\n",
       "      <th>97</th>\n",
       "      <td>10</td>\n",
       "      <td>10</td>\n",
       "      <td>0</td>\n",
       "      <td>10</td>\n",
       "      <td>0</td>\n",
       "      <td>10</td>\n",
       "      <td>10</td>\n",
       "      <td>10</td>\n",
       "      <td>10</td>\n",
       "      <td>10</td>\n",
       "      <td>...</td>\n",
       "      <td>10</td>\n",
       "      <td>10</td>\n",
       "      <td>10</td>\n",
       "      <td>10</td>\n",
       "      <td>10</td>\n",
       "      <td>10</td>\n",
       "      <td>10</td>\n",
       "      <td>0</td>\n",
       "      <td>10</td>\n",
       "      <td>10</td>\n",
       "    </tr>\n",
       "    <tr>\n",
       "      <th>98</th>\n",
       "      <td>10</td>\n",
       "      <td>10</td>\n",
       "      <td>10</td>\n",
       "      <td>10</td>\n",
       "      <td>10</td>\n",
       "      <td>10</td>\n",
       "      <td>10</td>\n",
       "      <td>10</td>\n",
       "      <td>10</td>\n",
       "      <td>10</td>\n",
       "      <td>...</td>\n",
       "      <td>0</td>\n",
       "      <td>10</td>\n",
       "      <td>10</td>\n",
       "      <td>10</td>\n",
       "      <td>10</td>\n",
       "      <td>10</td>\n",
       "      <td>10</td>\n",
       "      <td>10</td>\n",
       "      <td>0</td>\n",
       "      <td>0</td>\n",
       "    </tr>\n",
       "    <tr>\n",
       "      <th>99</th>\n",
       "      <td>10</td>\n",
       "      <td>10</td>\n",
       "      <td>10</td>\n",
       "      <td>10</td>\n",
       "      <td>10</td>\n",
       "      <td>10</td>\n",
       "      <td>10</td>\n",
       "      <td>10</td>\n",
       "      <td>10</td>\n",
       "      <td>10</td>\n",
       "      <td>...</td>\n",
       "      <td>0</td>\n",
       "      <td>10</td>\n",
       "      <td>10</td>\n",
       "      <td>10</td>\n",
       "      <td>10</td>\n",
       "      <td>10</td>\n",
       "      <td>10</td>\n",
       "      <td>10</td>\n",
       "      <td>0</td>\n",
       "      <td>0</td>\n",
       "    </tr>\n",
       "  </tbody>\n",
       "</table>\n",
       "<p>100 rows × 100 columns</p>\n",
       "</div>"
      ],
      "text/plain": [
       "    1    2    3    4    5    6    7    8    9    10   ...  91   92   93   94   \\\n",
       "0     0   10   10   10   10   10   10   10   10   10  ...   10   10   10   10   \n",
       "1    10    0   10   10   10   10   10   10   10   10  ...   10   10   10   10   \n",
       "2    10   10    0   10    0   10   10   10   10   10  ...   10   10   10   10   \n",
       "3    10   10   10    0   10    0   10   10   10   10  ...   10   10   10   10   \n",
       "4    10   10    0   10    0   10   10   10   10   10  ...   10   10   10   10   \n",
       "..  ...  ...  ...  ...  ...  ...  ...  ...  ...  ...  ...  ...  ...  ...  ...   \n",
       "95   10   10   10   10   10   10   10   10   10    0  ...   10   10   10   10   \n",
       "96    0   10   10   10   10   10   10   10   10   10  ...   10   10   10   10   \n",
       "97   10   10    0   10    0   10   10   10   10   10  ...   10   10   10   10   \n",
       "98   10   10   10   10   10   10   10   10   10   10  ...    0   10   10   10   \n",
       "99   10   10   10   10   10   10   10   10   10   10  ...    0   10   10   10   \n",
       "\n",
       "    95   96   97   98   99   100  \n",
       "0     0   10    0   10   10   10  \n",
       "1    10   10   10   10   10   10  \n",
       "2    10   10   10    0   10   10  \n",
       "3    10   10   10   10   10   10  \n",
       "4    10   10   10    0   10   10  \n",
       "..  ...  ...  ...  ...  ...  ...  \n",
       "95   10    0   10   10   10   10  \n",
       "96    0   10    0   10   10   10  \n",
       "97   10   10   10    0   10   10  \n",
       "98   10   10   10   10    0    0  \n",
       "99   10   10   10   10    0    0  \n",
       "\n",
       "[100 rows x 100 columns]"
      ]
     },
     "execution_count": 7,
     "metadata": {},
     "output_type": "execute_result"
    }
   ],
   "source": [
    "setup_time = pd.read_excel(\"./semiconductor_data.xlsx\", sheet_name=3, usecols=\"B:CW\") #欄位\n",
    "setup_time"
   ]
  },
  {
   "cell_type": "code",
   "execution_count": 16,
   "metadata": {},
   "outputs": [],
   "source": [
    "tool = pd.read_excel(\"./semiconductor_data.xlsx\", sheet_name=1, dtype=str) #K"
   ]
  },
  {
   "cell_type": "code",
   "execution_count": 32,
   "metadata": {
    "tags": []
   },
   "outputs": [
    {
     "name": "stdout",
     "output_type": "stream",
     "text": [
      "LOT001\n"
     ]
    }
   ],
   "source": [
    "jobs = []                               #K\n",
    "for i in range(len(wip.values)):\n",
    "    jobs.append(Job(wip.iloc[i], eqp)) \n",
    "print(jobs[0].configure[\"LOT_ID\"])"
   ]
  },
  {
   "cell_type": "code",
   "execution_count": 11,
   "metadata": {},
   "outputs": [],
   "source": [
    "machines = []\n",
    "for i in range(len(tool.values)):\n",
    "    machines.append(Machine(tool.iloc[i], setup_time.values))  #setuptime整張表"
   ]
  },
  {
   "cell_type": "code",
   "execution_count": 13,
   "metadata": {
    "tags": []
   },
   "outputs": [
    {
     "name": "stdout",
     "output_type": "stream",
     "text": [
      "240\n"
     ]
    }
   ],
   "source": [
    "machines[1].sort_jobs()"
   ]
  },
  {
   "cell_type": "code",
   "execution_count": 80,
   "metadata": {},
   "outputs": [],
   "source": [
    "RECIPE = pd.read_excel(\"./semiconductor_data.xlsx\")"
   ]
  },
  {
   "cell_type": "code",
   "execution_count": 74,
   "metadata": {},
   "outputs": [
    {
     "data": {
      "text/html": [
       "<div>\n",
       "<style scoped>\n",
       "    .dataframe tbody tr th:only-of-type {\n",
       "        vertical-align: middle;\n",
       "    }\n",
       "\n",
       "    .dataframe tbody tr th {\n",
       "        vertical-align: top;\n",
       "    }\n",
       "\n",
       "    .dataframe thead th {\n",
       "        text-align: right;\n",
       "    }\n",
       "</style>\n",
       "<table border=\"1\" class=\"dataframe\">\n",
       "  <thead>\n",
       "    <tr style=\"text-align: right;\">\n",
       "      <th></th>\n",
       "      <th>EQP_ID</th>\n",
       "      <th>RECIPE</th>\n",
       "      <th>PROCESS_TIME</th>\n",
       "    </tr>\n",
       "  </thead>\n",
       "  <tbody>\n",
       "    <tr>\n",
       "      <th>7</th>\n",
       "      <td>EQP001</td>\n",
       "      <td>Y8000</td>\n",
       "      <td>100</td>\n",
       "    </tr>\n",
       "    <tr>\n",
       "      <th>17</th>\n",
       "      <td>EQP002</td>\n",
       "      <td>Y8000</td>\n",
       "      <td>120</td>\n",
       "    </tr>\n",
       "    <tr>\n",
       "      <th>27</th>\n",
       "      <td>EQP003</td>\n",
       "      <td>Y8000</td>\n",
       "      <td>130</td>\n",
       "    </tr>\n",
       "    <tr>\n",
       "      <th>37</th>\n",
       "      <td>EQP004</td>\n",
       "      <td>Y8000</td>\n",
       "      <td>110</td>\n",
       "    </tr>\n",
       "    <tr>\n",
       "      <th>47</th>\n",
       "      <td>EQP005</td>\n",
       "      <td>Y8000</td>\n",
       "      <td>130</td>\n",
       "    </tr>\n",
       "    <tr>\n",
       "      <th>57</th>\n",
       "      <td>EQP006</td>\n",
       "      <td>Y8000</td>\n",
       "      <td>150</td>\n",
       "    </tr>\n",
       "    <tr>\n",
       "      <th>67</th>\n",
       "      <td>EQP007</td>\n",
       "      <td>Y8000</td>\n",
       "      <td>110</td>\n",
       "    </tr>\n",
       "    <tr>\n",
       "      <th>77</th>\n",
       "      <td>EQP008</td>\n",
       "      <td>Y8000</td>\n",
       "      <td>150</td>\n",
       "    </tr>\n",
       "    <tr>\n",
       "      <th>87</th>\n",
       "      <td>EQP009</td>\n",
       "      <td>Y8000</td>\n",
       "      <td>140</td>\n",
       "    </tr>\n",
       "    <tr>\n",
       "      <th>97</th>\n",
       "      <td>EQP010</td>\n",
       "      <td>Y8000</td>\n",
       "      <td>110</td>\n",
       "    </tr>\n",
       "  </tbody>\n",
       "</table>\n",
       "</div>"
      ],
      "text/plain": [
       "    EQP_ID RECIPE  PROCESS_TIME\n",
       "7   EQP001  Y8000           100\n",
       "17  EQP002  Y8000           120\n",
       "27  EQP003  Y8000           130\n",
       "37  EQP004  Y8000           110\n",
       "47  EQP005  Y8000           130\n",
       "57  EQP006  Y8000           150\n",
       "67  EQP007  Y8000           110\n",
       "77  EQP008  Y8000           150\n",
       "87  EQP009  Y8000           140\n",
       "97  EQP010  Y8000           110"
      ]
     },
     "execution_count": 74,
     "metadata": {},
     "output_type": "execute_result"
    }
   ],
   "source": [
    "jobs[0].processTime"
   ]
  },
  {
   "cell_type": "code",
   "execution_count": 75,
   "metadata": {},
   "outputs": [
    {
     "data": {
      "text/plain": [
       "'Y8000'"
      ]
     },
     "execution_count": 75,
     "metadata": {},
     "output_type": "execute_result"
    }
   ],
   "source": [
    "jobs[0].RECIPE"
   ]
  },
  {
   "cell_type": "code",
   "execution_count": 6,
   "metadata": {},
   "outputs": [
    {
     "data": {
      "text/plain": [
       "3"
      ]
     },
     "execution_count": 6,
     "metadata": {},
     "output_type": "execute_result"
    }
   ],
   "source": [
    "a=[1,2,3]\n",
    "len(a)"
   ]
  },
  {
   "cell_type": "code",
   "execution_count": 19,
   "metadata": {},
   "outputs": [],
   "source": [
    "setup_time = pd.read_excel(\"./semiconductor_data.xlsx\", sheet_name=3, usecols=\"B:CW\") #欄位"
   ]
  },
  {
   "cell_type": "code",
   "execution_count": 5,
   "metadata": {},
   "outputs": [
    {
     "data": {
      "text/plain": [
       "10"
      ]
     },
     "execution_count": 5,
     "metadata": {},
     "output_type": "execute_result"
    }
   ],
   "source": [
    "setup_time.at[1,1]"
   ]
  },
  {
   "cell_type": "code",
   "execution_count": 37,
   "metadata": {},
   "outputs": [],
   "source": [
    "setup_time = pd.read_excel(\"./semiconductor_data.xlsx\", sheet_name=3) #欄位"
   ]
  },
  {
   "cell_type": "code",
   "execution_count": null,
   "metadata": {},
   "outputs": [],
   "source": []
  },
  {
   "cell_type": "code",
   "execution_count": null,
   "metadata": {},
   "outputs": [],
   "source": []
  },
  {
   "cell_type": "code",
   "execution_count": 44,
   "metadata": {},
   "outputs": [
    {
     "data": {
      "text/plain": [
       "{' BB211': [718, 719], ' BB212': [142, 253, 256, 346, 578], ' BB213': [691, 706, 707, 735], ' BB214': [8, 90, 107, 264, 301, 403, 434, 519, 623], ' BB215': [1919], ' BB216': [2063, 2087], ' BB217': [2143, 2147, 2150, 2160], ' BB218': [23, 47, 63, 89, 289, 447, 499, 506, 579], ' BB219': [2140, 2161], ' BB220': [1642, 1654], ' BB221': [2075, 2081, 2083], ' BB223': [58, 152, 184, 258, 262, 318, 430, 453, 480, 548, 581], ' BB224': [147, 195, 394, 542, 649], ' BB225': [24, 54, 215, 344, 391, 551, 595, 604, 642], ' BB226': [923, 924, 934, 977, 981, 991], ' BB227': [2146, 2151, 2156], ' BB228': [2155, 2158], ' BB229': [749], ' BB230': [2145, 2163], ' BB231': [49, 148, 313, 327, 362, 461, 625], ' BB232': [2061, 2062, 2074, 2076, 2077, 2079, 2080], ' BB233': [273, 395, 526, 568, 608], ' BB234': [1, 2, 182, 324, 452, 460, 486, 550, 582], ' BB235': [101, 306, 351, 400, 487, 594], ' BB441': [925, 975], ' BB442': [751], ' BB443': [1615, 1632, 1639], ' BB444': [1112, 1122, 1138, 1155], ' BB445': [1146, 1153, 1158], ' BB446': [1916, 1921, 1937], ' BB447': [1400, 1415, 1436, 1451, 1462], ' BB448': [727, 734], ' BB449': [1998, 2005, 2013, 2014, 2022, 2023], ' BB450': [696, 777], ' BB451': [2120, 2121, 2125, 2130, 2137, 2139], ' BB452': [1426], ' BB453': [1828, 1840], ' BB454': [1160], ' BB455': [1392, 1418], ' BB456': [671], ' BB457': [1624, 1644], ' BB458': [1906, 1915, 1935, 1941], ' BB459': [1999, 2000, 2003, 2008, 2024], ' BB460': [1123, 1127, 1150, 1184, 1195, 1201], ' BB461': [1410], ' BB463': [912, 919, 930, 969, 997], ' BB465': [1395, 1447, 1460], ' BB466': [672, 728], ' BB467': [780], ' BB468': [2104, 2108, 2109], ' BB469': [1989], ' BB470': [1617], ' BB471': [1407, 1422, 1443, 1473], ' BB472': [1429, 1432, 1437, 1442, 1456, 1465], ' BB473': [1987, 2025], ' BB474': [2194], ' BB475': [663, 710], ' BB476': [1990, 2004, 2017, 2021, 2026], ' BB477': [1397, 1430, 1440, 1461], ' BB478': [1427, 1457], ' BB479': [729], ' BB480': [2116], ' BB481': [700, 731], ' BB483': [660, 664, 673, 692, 739], ' BB484': [928, 992], ' BB485': [2115, 2122, 2124, 2129, 2133, 2134], ' BB486': [1402, 1441, 1459], ' BB487': [906, 933, 936, 1009], ' BB488': [2092, 2100, 2103, 2112, 2113], ' BB489': [1452], ' BB490': [926, 939, 943, 947, 973, 983, 995, 999], ' BB496': [1823, 1826, 1845, 1854, 1860], ' BB497': [2065, 2069, 2070, 2073, 2085], ' BB498': [1905, 1918, 1940, 1942], ' BB500': [957, 964, 978, 988, 1003, 1005], ' BB502': [1412, 1453], ' BB503': [1917, 1925, 1931], ' BB505': [2027, 2029, 2030, 2031, 2032, 2033, 2034, 2035, 2037, 2038, 2039, 2040, 2041, 2042, 2043, 2046, 2048, 2049, 2050, 2052, 2053, 2054, 2056, 2059], ' BB506': [1818, 1829], ' BB507': [931, 932, 963, 974, 987], ' BB508': [745], ' BB510': [2088, 2091, 2093, 2094, 2098, 2105, 2110], ' BB511': [1646, 1653, 1662], ' BB512': [1405], ' BB514': [1831, 1836, 1837, 1841, 1848], ' BB515': [698, 714], ' BB516': [1908, 1911, 1920, 1922], ' BB517': [1843, 1844], ' BB518': [1661], ' BB519': [1130, 1133], ' BB521': [2165, 2166, 2168, 2169, 2171, 2173, 2175, 2177, 2179, 2180, 2182, 2186], ' BB522': [1116, 1117, 1196], ' BB523': [681, 778], ' BB524': [1121, 1151, 1176], ' BB525': [1926, 1939, 1944], ' BB526': [2117, 2118, 2123, 2135], ' BB527': [1110, 1129, 1190], ' BB528': [1994], ' BB529': [948, 966, 967, 968, 979, 1004, 1007, 1010], ' BB530': [674, 711], ...}"
      ]
     },
     "execution_count": 44,
     "metadata": {},
     "output_type": "execute_result"
    }
   ],
   "source": [
    "import pandas as pd\n",
    "result = pd.read_csv(\"result.csv\")\n",
    "result.columns=[\"Lot_id\",\"HB\",\"Wire\",\"Entity\",\"Start_t\",\"End_t\"]  # add header\n",
    "entities= result.groupby(\"Entity\") # group by entity\n",
    "entities.groups #show dict, value is row index\n"
   ]
  },
  {
   "cell_type": "code",
   "execution_count": 104,
   "metadata": {},
   "outputs": [
    {
     "data": {
      "text/plain": [
       "543"
      ]
     },
     "execution_count": 104,
     "metadata": {},
     "output_type": "execute_result"
    }
   ],
   "source": [
    "import plotly.express as px\n",
    "import pandas as pd\n",
    "import datetime\n",
    "import time # 引入time\n",
    "\n",
    "result = pd.read_csv(\"result.csv\",names=[\"Lot_id\",\"HB\",\"Wire\",\"Entity\",\"Start_t\",\"End_t\"])\n",
    "entities= result.groupby(\"Entity\") # group by entity\n",
    "# entities.groups #show dict, value is row index\n",
    "entity_key_list= list(entities.groups.keys()) # key list\n",
    "\n",
    "# 2021/4/17 (改變數)\n",
    "ini_time_stamp = 1618615800 \n",
    "\n",
    "df=[]\n",
    "for i in range(3):\n",
    "    key= entity_key_list[i]\n",
    "    for j in range(len(entities.groups[key])):\n",
    "        row_index=entities.groups[key][j]\n",
    "        Lot_id =result.iloc[row_index].at['Lot_id'].strip()\n",
    "        Entity =result.iloc[row_index].at['Entity'].strip()\n",
    "        start_ts =  time.strftime(\"%Y-%m-%d %H:%M:%S\", time.localtime(ini_time_stamp+result.iloc[row_index].at['Start_t']*60)) \n",
    "        end_ts =  time.strftime(\"%Y-%m-%d %H:%M:%S\", time.localtime(ini_time_stamp+result.iloc[row_index].at['End_t']*60)) \n",
    "\n",
    "        df.append(dict(Lot_ID= Lot_id, Start=start_ts,Finish=end_ts,Entity=Entity))\n",
    "\n",
    "len(entity_key_list)\n",
    "# #呈現圖表\n",
    "# fig1 = px.timeline(df, x_start=\"Start\", x_end=\"Finish\", y=\"Entity\", color=\"Wire\",text=\"Lot_ID\")\n",
    "# fig1.update_yaxes(categoryorder=\"category descending\") # \n",
    "# fig1.show()"
   ]
  },
  {
   "cell_type": "code",
   "execution_count": 119,
   "metadata": {},
   "outputs": [
    {
     "data": {
      "text/html": [
       "<div>\n",
       "<style scoped>\n",
       "    .dataframe tbody tr th:only-of-type {\n",
       "        vertical-align: middle;\n",
       "    }\n",
       "\n",
       "    .dataframe tbody tr th {\n",
       "        vertical-align: top;\n",
       "    }\n",
       "\n",
       "    .dataframe thead th {\n",
       "        text-align: right;\n",
       "    }\n",
       "</style>\n",
       "<table border=\"1\" class=\"dataframe\">\n",
       "  <thead>\n",
       "    <tr style=\"text-align: right;\">\n",
       "      <th></th>\n",
       "      <th>route</th>\n",
       "      <th>wlot_lot_number</th>\n",
       "      <th>wlot_crt_dat_al_1</th>\n",
       "      <th>pin_package</th>\n",
       "      <th>wlot_prod</th>\n",
       "      <th>wlot_qty_1</th>\n",
       "      <th>wlot_qty_2</th>\n",
       "      <th>wlot_oper</th>\n",
       "      <th>wlot_hold</th>\n",
       "      <th>cust_code</th>\n",
       "      <th>...</th>\n",
       "      <th>wlot_mvin_perfmd</th>\n",
       "      <th>wlot_actl_mvin_dt</th>\n",
       "      <th>wlot_actl_mvin_tm</th>\n",
       "      <th>wlot_dt_last_trans</th>\n",
       "      <th>wlot_tm_last_trans</th>\n",
       "      <th>wlot_hold_category</th>\n",
       "      <th>wlot_assy_lot</th>\n",
       "      <th>bd_id</th>\n",
       "      <th>urgent_code</th>\n",
       "      <th>wip_outplan_time</th>\n",
       "    </tr>\n",
       "  </thead>\n",
       "  <tbody>\n",
       "    <tr>\n",
       "      <th>0</th>\n",
       "      <td>MBGA558</td>\n",
       "      <td>P10NVLK22</td>\n",
       "      <td>PHISON</td>\n",
       "      <td>uSD08AQV-C</td>\n",
       "      <td>0086ANV167</td>\n",
       "      <td>1551</td>\n",
       "      <td>0</td>\n",
       "      <td>2200</td>\n",
       "      <td>N</td>\n",
       "      <td>NV</td>\n",
       "      <td>...</td>\n",
       "      <td>Y</td>\n",
       "      <td>20210417</td>\n",
       "      <td>439</td>\n",
       "      <td>20210417</td>\n",
       "      <td>439</td>\n",
       "      <td>NaN</td>\n",
       "      <td>P10NVLK</td>\n",
       "      <td>ANV0086A1062A</td>\n",
       "      <td>E</td>\n",
       "      <td>2021/4/17 07:19</td>\n",
       "    </tr>\n",
       "    <tr>\n",
       "      <th>1</th>\n",
       "      <td>MBGA934</td>\n",
       "      <td>P13HQJR02</td>\n",
       "      <td>EMC</td>\n",
       "      <td>FPSSLGA28r6V</td>\n",
       "      <td>0282JHQ031</td>\n",
       "      <td>2360</td>\n",
       "      <td>0</td>\n",
       "      <td>2200</td>\n",
       "      <td>N</td>\n",
       "      <td>HQ</td>\n",
       "      <td>...</td>\n",
       "      <td>Y</td>\n",
       "      <td>20210417</td>\n",
       "      <td>644</td>\n",
       "      <td>20210417</td>\n",
       "      <td>644</td>\n",
       "      <td>NaN</td>\n",
       "      <td>P13HQJR</td>\n",
       "      <td>AHQ0282J2006A</td>\n",
       "      <td>NaN</td>\n",
       "      <td>2021/4/17 18:23</td>\n",
       "    </tr>\n",
       "    <tr>\n",
       "      <th>2</th>\n",
       "      <td>QFNS205</td>\n",
       "      <td>P15VGA437</td>\n",
       "      <td>ISSI-VG</td>\n",
       "      <td>DFN-08YD2A</td>\n",
       "      <td>008YDVG003</td>\n",
       "      <td>3520</td>\n",
       "      <td>0</td>\n",
       "      <td>2070</td>\n",
       "      <td>N</td>\n",
       "      <td>VG</td>\n",
       "      <td>...</td>\n",
       "      <td>Y</td>\n",
       "      <td>20210417</td>\n",
       "      <td>710</td>\n",
       "      <td>20210417</td>\n",
       "      <td>11708</td>\n",
       "      <td>NaN</td>\n",
       "      <td>P15VGA4</td>\n",
       "      <td>ABU008YD2008A</td>\n",
       "      <td>NaN</td>\n",
       "      <td>NaN</td>\n",
       "    </tr>\n",
       "    <tr>\n",
       "      <th>3</th>\n",
       "      <td>QFNS205</td>\n",
       "      <td>P15VGA453</td>\n",
       "      <td>ISSI-VG</td>\n",
       "      <td>DFN-08YD2A</td>\n",
       "      <td>008YDVG003</td>\n",
       "      <td>3520</td>\n",
       "      <td>0</td>\n",
       "      <td>2070</td>\n",
       "      <td>N</td>\n",
       "      <td>VG</td>\n",
       "      <td>...</td>\n",
       "      <td>Y</td>\n",
       "      <td>20210417</td>\n",
       "      <td>710</td>\n",
       "      <td>20210417</td>\n",
       "      <td>11708</td>\n",
       "      <td>NaN</td>\n",
       "      <td>P15VGA4</td>\n",
       "      <td>ABU008YD2008A</td>\n",
       "      <td>NaN</td>\n",
       "      <td>NaN</td>\n",
       "    </tr>\n",
       "    <tr>\n",
       "      <th>4</th>\n",
       "      <td>QFNS205</td>\n",
       "      <td>P15VGA421</td>\n",
       "      <td>ISSI-VG</td>\n",
       "      <td>DFN-08YD2A</td>\n",
       "      <td>008YDVG003</td>\n",
       "      <td>3520</td>\n",
       "      <td>0</td>\n",
       "      <td>2070</td>\n",
       "      <td>N</td>\n",
       "      <td>VG</td>\n",
       "      <td>...</td>\n",
       "      <td>Y</td>\n",
       "      <td>20210417</td>\n",
       "      <td>710</td>\n",
       "      <td>20210417</td>\n",
       "      <td>11708</td>\n",
       "      <td>NaN</td>\n",
       "      <td>P15VGA4</td>\n",
       "      <td>ABU008YD2008A</td>\n",
       "      <td>NaN</td>\n",
       "      <td>NaN</td>\n",
       "    </tr>\n",
       "    <tr>\n",
       "      <th>...</th>\n",
       "      <td>...</td>\n",
       "      <td>...</td>\n",
       "      <td>...</td>\n",
       "      <td>...</td>\n",
       "      <td>...</td>\n",
       "      <td>...</td>\n",
       "      <td>...</td>\n",
       "      <td>...</td>\n",
       "      <td>...</td>\n",
       "      <td>...</td>\n",
       "      <td>...</td>\n",
       "      <td>...</td>\n",
       "      <td>...</td>\n",
       "      <td>...</td>\n",
       "      <td>...</td>\n",
       "      <td>...</td>\n",
       "      <td>...</td>\n",
       "      <td>...</td>\n",
       "      <td>...</td>\n",
       "      <td>...</td>\n",
       "      <td>...</td>\n",
       "    </tr>\n",
       "    <tr>\n",
       "      <th>32351</th>\n",
       "      <td>BGADAE01</td>\n",
       "      <td>ND9ABIX05</td>\n",
       "      <td>ChipMOS</td>\n",
       "      <td>MAT</td>\n",
       "      <td>0008WDAE001</td>\n",
       "      <td>4000</td>\n",
       "      <td>0</td>\n",
       "      <td>5070</td>\n",
       "      <td>N</td>\n",
       "      <td>FQ</td>\n",
       "      <td>...</td>\n",
       "      <td>N</td>\n",
       "      <td>0</td>\n",
       "      <td>0</td>\n",
       "      <td>20200928</td>\n",
       "      <td>230813</td>\n",
       "      <td>NaN</td>\n",
       "      <td>ND9ABIX</td>\n",
       "      <td>NaN</td>\n",
       "      <td>NaN</td>\n",
       "      <td>NaN</td>\n",
       "    </tr>\n",
       "    <tr>\n",
       "      <th>32352</th>\n",
       "      <td>BGADAE01</td>\n",
       "      <td>ND9ABIZ04</td>\n",
       "      <td>ChipMOS</td>\n",
       "      <td>MAT</td>\n",
       "      <td>0008WDAE001</td>\n",
       "      <td>4000</td>\n",
       "      <td>0</td>\n",
       "      <td>5070</td>\n",
       "      <td>N</td>\n",
       "      <td>FQ</td>\n",
       "      <td>...</td>\n",
       "      <td>N</td>\n",
       "      <td>0</td>\n",
       "      <td>0</td>\n",
       "      <td>20200930</td>\n",
       "      <td>25151</td>\n",
       "      <td>NaN</td>\n",
       "      <td>ND9ABIZ</td>\n",
       "      <td>NaN</td>\n",
       "      <td>NaN</td>\n",
       "      <td>NaN</td>\n",
       "    </tr>\n",
       "    <tr>\n",
       "      <th>32353</th>\n",
       "      <td>BGADAE01</td>\n",
       "      <td>ND9ASCR01</td>\n",
       "      <td>ChipMOS</td>\n",
       "      <td>MAT</td>\n",
       "      <td>0008WDAE001</td>\n",
       "      <td>11520</td>\n",
       "      <td>0</td>\n",
       "      <td>5070</td>\n",
       "      <td>N</td>\n",
       "      <td>FQ</td>\n",
       "      <td>...</td>\n",
       "      <td>N</td>\n",
       "      <td>0</td>\n",
       "      <td>0</td>\n",
       "      <td>20201010</td>\n",
       "      <td>23252</td>\n",
       "      <td>NaN</td>\n",
       "      <td>ND9ASCR</td>\n",
       "      <td>NaN</td>\n",
       "      <td>NaN</td>\n",
       "      <td>NaN</td>\n",
       "    </tr>\n",
       "    <tr>\n",
       "      <th>32354</th>\n",
       "      <td>BGADAE01</td>\n",
       "      <td>ND9ASCT05</td>\n",
       "      <td>ChipMOS</td>\n",
       "      <td>MAT</td>\n",
       "      <td>0008WDAE001</td>\n",
       "      <td>11520</td>\n",
       "      <td>0</td>\n",
       "      <td>5070</td>\n",
       "      <td>N</td>\n",
       "      <td>FQ</td>\n",
       "      <td>...</td>\n",
       "      <td>N</td>\n",
       "      <td>0</td>\n",
       "      <td>0</td>\n",
       "      <td>20201013</td>\n",
       "      <td>200440</td>\n",
       "      <td>NaN</td>\n",
       "      <td>ND9ASCT</td>\n",
       "      <td>NaN</td>\n",
       "      <td>NaN</td>\n",
       "      <td>NaN</td>\n",
       "    </tr>\n",
       "    <tr>\n",
       "      <th>32355</th>\n",
       "      <td>BGADAE01</td>\n",
       "      <td>ND9ASCW03</td>\n",
       "      <td>ChipMOS</td>\n",
       "      <td>MAT</td>\n",
       "      <td>0008WDAE001</td>\n",
       "      <td>11520</td>\n",
       "      <td>0</td>\n",
       "      <td>5070</td>\n",
       "      <td>N</td>\n",
       "      <td>FQ</td>\n",
       "      <td>...</td>\n",
       "      <td>N</td>\n",
       "      <td>0</td>\n",
       "      <td>0</td>\n",
       "      <td>20201017</td>\n",
       "      <td>101429</td>\n",
       "      <td>NaN</td>\n",
       "      <td>ND9ASCW</td>\n",
       "      <td>NaN</td>\n",
       "      <td>NaN</td>\n",
       "      <td>NaN</td>\n",
       "    </tr>\n",
       "  </tbody>\n",
       "</table>\n",
       "<p>32356 rows × 22 columns</p>\n",
       "</div>"
      ],
      "text/plain": [
       "          route wlot_lot_number wlot_crt_dat_al_1   pin_package    wlot_prod  \\\n",
       "0       MBGA558       P10NVLK22            PHISON    uSD08AQV-C   0086ANV167   \n",
       "1       MBGA934       P13HQJR02               EMC  FPSSLGA28r6V   0282JHQ031   \n",
       "2       QFNS205       P15VGA437           ISSI-VG    DFN-08YD2A   008YDVG003   \n",
       "3       QFNS205       P15VGA453           ISSI-VG    DFN-08YD2A   008YDVG003   \n",
       "4       QFNS205       P15VGA421           ISSI-VG    DFN-08YD2A   008YDVG003   \n",
       "...         ...             ...               ...           ...          ...   \n",
       "32351  BGADAE01       ND9ABIX05           ChipMOS           MAT  0008WDAE001   \n",
       "32352  BGADAE01       ND9ABIZ04           ChipMOS           MAT  0008WDAE001   \n",
       "32353  BGADAE01       ND9ASCR01           ChipMOS           MAT  0008WDAE001   \n",
       "32354  BGADAE01       ND9ASCT05           ChipMOS           MAT  0008WDAE001   \n",
       "32355  BGADAE01       ND9ASCW03           ChipMOS           MAT  0008WDAE001   \n",
       "\n",
       "       wlot_qty_1  wlot_qty_2  wlot_oper wlot_hold cust_code  ...  \\\n",
       "0            1551           0       2200         N        NV  ...   \n",
       "1            2360           0       2200         N        HQ  ...   \n",
       "2            3520           0       2070         N        VG  ...   \n",
       "3            3520           0       2070         N        VG  ...   \n",
       "4            3520           0       2070         N        VG  ...   \n",
       "...           ...         ...        ...       ...       ...  ...   \n",
       "32351        4000           0       5070         N        FQ  ...   \n",
       "32352        4000           0       5070         N        FQ  ...   \n",
       "32353       11520           0       5070         N        FQ  ...   \n",
       "32354       11520           0       5070         N        FQ  ...   \n",
       "32355       11520           0       5070         N        FQ  ...   \n",
       "\n",
       "      wlot_mvin_perfmd wlot_actl_mvin_dt wlot_actl_mvin_tm  \\\n",
       "0                    Y          20210417               439   \n",
       "1                    Y          20210417               644   \n",
       "2                    Y          20210417               710   \n",
       "3                    Y          20210417               710   \n",
       "4                    Y          20210417               710   \n",
       "...                ...               ...               ...   \n",
       "32351                N                 0                 0   \n",
       "32352                N                 0                 0   \n",
       "32353                N                 0                 0   \n",
       "32354                N                 0                 0   \n",
       "32355                N                 0                 0   \n",
       "\n",
       "       wlot_dt_last_trans  wlot_tm_last_trans  wlot_hold_category  \\\n",
       "0                20210417                 439                 NaN   \n",
       "1                20210417                 644                 NaN   \n",
       "2                20210417               11708                 NaN   \n",
       "3                20210417               11708                 NaN   \n",
       "4                20210417               11708                 NaN   \n",
       "...                   ...                 ...                 ...   \n",
       "32351            20200928              230813                 NaN   \n",
       "32352            20200930               25151                 NaN   \n",
       "32353            20201010               23252                 NaN   \n",
       "32354            20201013              200440                 NaN   \n",
       "32355            20201017              101429                 NaN   \n",
       "\n",
       "       wlot_assy_lot          bd_id urgent_code wip_outplan_time  \n",
       "0            P10NVLK  ANV0086A1062A           E  2021/4/17 07:19  \n",
       "1            P13HQJR  AHQ0282J2006A         NaN  2021/4/17 18:23  \n",
       "2            P15VGA4  ABU008YD2008A         NaN              NaN  \n",
       "3            P15VGA4  ABU008YD2008A         NaN              NaN  \n",
       "4            P15VGA4  ABU008YD2008A         NaN              NaN  \n",
       "...              ...            ...         ...              ...  \n",
       "32351        ND9ABIX            NaN         NaN              NaN  \n",
       "32352        ND9ABIZ            NaN         NaN              NaN  \n",
       "32353        ND9ASCR            NaN         NaN              NaN  \n",
       "32354        ND9ASCT            NaN         NaN              NaN  \n",
       "32355        ND9ASCW            NaN         NaN              NaN  \n",
       "\n",
       "[32356 rows x 22 columns]"
      ]
     },
     "execution_count": 119,
     "metadata": {},
     "output_type": "execute_result"
    }
   ],
   "source": [
    "import pandas as pd\n",
    "df2 = pd.read_csv('WipOutPlanTime_.csv')\n",
    "df3=df2[['wlot_lot_number','pin_package','wlot_prod','wlot_qty_1','bd_id']]\n",
    "df2"
   ]
  },
  {
   "cell_type": "code",
   "execution_count": 416,
   "metadata": {
    "tags": []
   },
   "outputs": [],
   "source": [
    "import csv\n",
    "# import pandas\n",
    "import pandas as pd\n",
    "import numpy as np  \n",
    "# read csv data\n",
    "df1 = pd.read_csv(\"result(new).csv\",names=[\"wlot_lot_number\",\"bd_id\",\"HB\",\"Wire\",\"Entity\",\"Start_t\",\"End_t\"])\n",
    "df1.replace('\\s+','',regex=True,inplace=True)\n",
    "df2 = pd.read_csv('WipOutPlanTime_.csv')[['wlot_lot_number','wlot_crt_dat_al_1','pin_package','wlot_prod','wlot_qty_1']]\n",
    "df3 = pd.read_excel('機台區域作業產品.xls')[['Entity','Location']]\n",
    "   \n",
    "Left_join1 = pd.merge(df1, df2, on ='wlot_lot_number', how ='left')\n",
    "Left_join2 = pd.merge(Left_join1, df3, on ='Entity', how ='left')\n",
    "Left_join2\n",
    "group= Left_join2.groupby(['wlot_crt_dat_al_1','pin_package','wlot_prod','bd_id','Location'])\n",
    "group.describe()\n",
    "#len(group.groups.keys())\n",
    "\n",
    "#len(group.size())\n",
    "list(dict(group.size()))\n",
    "list(group.size())\n",
    "list(dict(group.size()))\n",
    "list(group.size())\n",
    "group_keys_t=list(group.groups.keys())\n",
    "#temp=list(list(group.groups.keys())[0])\n",
    "#temp.append(5)\n",
    "list(group_keys_t[0])\n",
    "\n",
    "# all_rows=[]\n",
    "# for i in range(len(group.size())):\n",
    "\n",
    "#     temp= list(group_keys_t[i])\n",
    "#     temp.append(group.size()[i]) #add amount ENT\n",
    "#     temp.append(qty_list[i]) #add amount ENT\n",
    "#     all_rows.append(temp)\n",
    "# with open('yourOutput.csv', 'w', newline='') as csvFile:\n",
    "#   # 建立 CSV 檔寫入器\n",
    "#     writer = csv.writer(csvFile)\n",
    "# #   # 1.直接寫出-標題\n",
    "#     writer.writerow(['CUSTOMER','Pin-pkg','Prod_ID','Bond ID','TA/TB','Allocate ENT','Output plan'])\n",
    "\n",
    "#     writer.writerows(all_rows)\n"
   ]
  },
  {
   "cell_type": "code",
   "execution_count": 461,
   "metadata": {},
   "outputs": [],
   "source": [
    "import csv\n",
    "import pandas as pd\n",
    "import numpy as np  \n",
    "\n",
    "# read csv data\n",
    "df1 = pd.read_csv(\"result(new).csv\",names=[\"wlot_lot_number\",\"bd_id\",\"HB\",\"Wire\",\"Entity\",\"Start_t\",\"End_t\"])\n",
    "df1.replace('\\s+','',regex=True,inplace=True)\n",
    "\n",
    "df2 = pd.read_csv('WipOutPlanTime_.csv')[['wlot_lot_number','wlot_crt_dat_al_1','pin_package','wlot_prod','wlot_qty_1']] ## replace to provided data\n",
    "\n",
    "df3 = pd.read_excel('機台區域作業產品.xls')[['Entity','Location']]\n",
    "   \n",
    "Left_join1 = pd.merge(df1, df2, on ='wlot_lot_number', how ='left')\n",
    "Left_join2 = pd.merge(Left_join1, df3, on ='Entity', how ='left')\n",
    "group= Left_join2.groupby(['wlot_crt_dat_al_1','pin_package','wlot_prod','bd_id','Location'])\n",
    "\n",
    "\n",
    "# ---caculate total qty -------\n",
    "qty_list=[]\n",
    "group_key_list= list(group.groups.keys())\n",
    "\n",
    "# accumulation\n",
    "for i in range(len(group_key_list)): \n",
    "    key= group_key_list[i]\n",
    "    qty_sum=0\n",
    "    for j in range(len(group.groups[key])):\n",
    "        row_index=group.groups[key][j]\n",
    "        qty_sum+=Left_join1.iloc[row_index].at['wlot_qty_1']\n",
    "\n",
    "    qty_list.append(qty_sum)\n",
    "# -------\n",
    "\n",
    "# Aggregate all needed data\n",
    "\n",
    "# record original keys\n",
    "group_keys_t=list(group.groups.keys())\n",
    "\n",
    "all_rows=[]\n",
    "for i in range(len(group.size())):\n",
    "\n",
    "    temp= list(group_keys_t[i])\n",
    "    temp.append(group.size()[i]) #add amount ENT column\n",
    "    temp.append(qty_list[i]) #add amount qty column\n",
    "    all_rows.append(temp)\n",
    "\n",
    "# # write to csv\n",
    "# with open('yourOutput.csv', 'w', newline='') as csvFile:\n",
    "#     writer = csv.writer(csvFile)\n",
    "#     writer.writerow(['CUSTOMER','Pin-pkg','Prod_ID','Bond ID','TA/TB','Allocate ENT','Output plan'])\n",
    "#     writer.writerows(all_rows)\n",
    "\n"
   ]
  },
  {
   "cell_type": "code",
   "execution_count": 220,
   "metadata": {},
   "outputs": [],
   "source": [
    "import csv\n",
    "\n",
    "list1 =[[2,3],[6,7]]\n",
    "# 開啟輸出的 CSV 檔案\n",
    "with open('yourOutput.csv', 'w', newline='') as csvFile:\n",
    "  # 建立 CSV 檔寫入器\n",
    "  writer = csv.writer(csvFile)\n",
    "\n",
    "  # 1.直接寫出-標題\n",
    "  writer.writerow(['姓名','年齡','電話','地址'])\n",
    "\n",
    "\n",
    "  # 2.寫出多維陣列\n",
    "  Table = [['姓名','年齡','電話','地址'],['葉大雄',18, '0911-123-123', '台北市火車站大廳'],['林靜香',26, '0911-456-456', '台北市中山北路二段']]\n",
    "  writer.writerows(list1)\n"
   ]
  },
  {
   "cell_type": "code",
   "execution_count": 397,
   "metadata": {},
   "outputs": [],
   "source": [
    "import csv\n",
    "with open('yourOutput.csv', 'w', newline='') as csvFile:\n",
    "  # 建立 CSV 檔寫入器\n",
    "  writer = csv.writer(csvFile)\n",
    "  # 1.直接寫出-標題\n",
    "  writer.writerow(['CUSTOMER','Pin-pkg','Prod_ID','Bond ID','TA/TB','Allocate ENT'])\n",
    "\n",
    "  writer.writerows(list1)"
   ]
  },
  {
   "cell_type": "code",
   "execution_count": 17,
   "metadata": {},
   "outputs": [
    {
     "data": {
      "text/plain": [
       "[['A-DATA', 'STBGA252C4V', '252X2GJ006', 'AGJ252X20003A', 'TB-I', 4],\n",
       " ['A-DATA', 'STBGA252C4V', '252X2GJ006', 'AGJ252X20003A', 'TB-IP', 1],\n",
       " ['AKM', 'QFN-36AB1', '036ABBW009', 'ABW036AB1004A', 'TB-B', 4],\n",
       " ['AP Memory', 'DFN-08YM2G', '008YMQW005', 'AQW008YM2003A', 'TB-I', 8],\n",
       " ['AP Memory', 'DFN-08YM2G', '008YMQW005', 'AQW008YM2003A', 'TB-P', 12],\n",
       " ['AP Memory', 'DFN-08YM2G', '008YMQW005', 'AQW008YM2003A', 'TB-R', 9],\n",
       " ['AP Memory', 'DFN-08YM2G', '008YMQW005', 'AQW008YM2003A', 'TB-U', 45],\n",
       " ['CHIPLUS', 'MBGA48A2L', '048MAHD001', 'AHD048MA4002A', 'TA', 19],\n",
       " ['CYPRESS', 'TSOP2-54CMES', '054TSCS005', 'ACS054TS1012A', 'TA-2', 8],\n",
       " ['CYPRESS', 'TSOP2-54CMES', '054TSCS017', 'ACS054TS1009A', 'TA-2', 2],\n",
       " ['ChipMOS', 'DFN-08Y62D', '008Y6AW028', 'AAW008Y62014A', 'TB-P', 1],\n",
       " ['ChipMOS', 'DFN-08YD2A', '008YDAB014', 'AAB008YD2003A', 'TB-R', 3],\n",
       " ['ChipMOS', 'DFN-08YD2A', '008YDAB014', 'AAB008YD2003A', 'TB-U', 5],\n",
       " ['ChipMOS', 'DFN-08YD2A', '008YDVG006', 'ABU008YD2004A', 'TB-U', 1],\n",
       " ['ChipMOS', 'DFN-08YD2A', '008YDVG007', 'ABU008YD2003A', 'TB-U', 1],\n",
       " ['ChipMOS', 'DFN-08YD2A', '008YDVG008', 'ABU008YD2006A', 'TB-P', 1],\n",
       " ['ChipMOS', 'DFN-08YD2A', '008YDVG010', 'ABU008YD2002A', 'TB-U', 1],\n",
       " ['ChipMOS', 'DFN-08YM2D', '008YMAB046', 'AAB008YM2018A', 'TB-P', 3],\n",
       " ['ChipMOS', 'DFN-08YM2D', '008YMAB047', 'AAB008YM2025A', 'TB-P', 4],\n",
       " ['ChipMOS', 'DFN-08YM2D', '008YMAB048', 'AAB008YM2023A', 'TB-IP', 1],\n",
       " ['ChipMOS', 'DFN-08YM2D', '008YMAB051', 'AAB008YM2019A', 'TB-P', 1],\n",
       " ['ChipMOS', 'DFN-08YM2D', '008YMAB062', 'AAB008YM2023A', 'TB-U', 1],\n",
       " ['ChipMOS', 'DFN-08YM2D', '008YMAB068', 'AAB008YM2018A', 'TB-P', 1],\n",
       " ['ChipMOS', 'DFN-08YM2D', '008YMAW020', 'AAW008YM2004A', 'TB-P', 3],\n",
       " ['ChipMOS', 'DFN-08YQ2A', '008YQAB072', 'AAB008YQ2022A', 'TB-P', 3],\n",
       " ['ChipMOS', 'DFN-08YQ2A', '008YQAB078', 'AAB008YQ2032A', 'TB-P', 5],\n",
       " ['ChipMOS', 'DFN-08YQ2A', '008YQVG006', 'ABU008YQ2002A', 'TB-U', 1],\n",
       " ['ChipMOS', 'DFN-08YQ2A', '008YQVG013', 'ABU008YQ2006A', 'TB-U', 1],\n",
       " ['ChipMOS', 'DFN-08YQ2A', '008YQVG014', 'ABU008YQ2018A', 'TB-U', 1],\n",
       " ['ChipMOS', 'QFN-20YU2D', '020YUNI024', 'ANI020YU1005C', 'TB-I', 3],\n",
       " ['ChipMOS', 'QFN-36AB1', '036ABBW009', 'ABW036AB1004A', 'TB-B', 2],\n",
       " ['ChipMOS', 'TSOP1-48/48M', '048TPAW054', 'AAW048TP1026E', 'TA', 2],\n",
       " ['ChipMOS', 'TSOP1-48AM', '048TWAB012', 'AAB048TW2006A', 'TA', 1],\n",
       " ['ChipMOS', 'TSOP1-48AM', '048TWAB012', 'AAB048TW2006A', 'TA-2', 1],\n",
       " ['ChipMOS', 'TSOP1-48AM', '048TWMS080', 'AMS048TW1065A', 'TA', 1],\n",
       " ['ChipMOS', 'TSOP2-54ME', '054TNAB036', 'AAB054TN1005A', 'TA', 1],\n",
       " ['ChipMOS', 'VFBGA90B4L', '090NCAB019', 'AAB090NC4006A', 'TA', 1],\n",
       " ['DIALOG', 'QFN-20YU2D', '020YUNI024', 'ANI020YU1005C', 'TB-I', 27],\n",
       " ['EMC', 'FPSSLGA34VBV', '0345JHQ001', 'AHQ0345J1001A', 'TB-R', 3],\n",
       " ['EMC', 'FPSSLGA41FRV', '0415LHQ012', 'AHQ0415L1003B', 'TB-R', 7],\n",
       " ['EMC', 'FPSTLGA44tBV', '0442JHQ015', 'AHQ0442J3003A', 'TB-IP', 1],\n",
       " ['EMC', 'FPSTLGA44tBV', '0442JHQ016', 'AHQ0442J3003A', 'TB-I', 28],\n",
       " ['EMC', 'FPSTLGA44tBV', '0442JHQ016', 'AHQ0442J3003A', 'TB-R', 25],\n",
       " ['ENG', 'DFN-08YQ2A', '008YQCME30ENG', 'AAB008YQ2037A', 'TB-U', 2],\n",
       " ['ENG', 'FPSLGA12f6V', '0122ICM019ENG', 'AHQ0122I1001A', 'TB-I', 1],\n",
       " ['Everspin', 'STDFN-08YD2E', '008YDVE004', 'AVE008YD2002A', 'TB-U', 8],\n",
       " ['HOSIN', 'SSBGA153JAU', '153XTSS004', 'ASS153XT3001A', 'TA-2', 32],\n",
       " ['ICSI', 'FBGA-78LEA', '078EABU001', 'ABU078EA1001A', 'TA', 13],\n",
       " ['ICSI', 'FBGA-78LEA', '078EABU001', 'ABU078EA1001A', 'TA-2', 4],\n",
       " ['ICSI', 'FBGA-96LEA', '096EABU001', 'ABU096EA1001A', 'TA', 20],\n",
       " ['ICSI', 'FBGA-96LEA', '096EABU001', 'ABU096EA1001A', 'TA-2', 3],\n",
       " ['ICSI', 'FBGA-96LEA', '096EABU001', 'ABU096EA1001A', 'TA-3', 2],\n",
       " ['ICSI', 'FBGA-96UEF', '096EFBU001', 'ABU096EF2001A', 'TA', 25],\n",
       " ['ICSI', 'FBGA-96UEF', '096EFBU002', 'ABU096EF2002A', 'TA', 22],\n",
       " ['ICSI', 'MINIBGA48A1', '048MABU002', 'CU048MA2012A', 'TA', 4],\n",
       " ['ICSI', 'MINIBGA54A4L', '054MFBU005', 'ABU054MF2001B', 'TA-2', 5],\n",
       " ['ISSI-VG', 'DFN-08Y62D', '008Y6VG005', 'ABU008Y62001A', 'TB-U', 26],\n",
       " ['ISSI-VG', 'DFN-08YD2A', '008YDVG003', 'ABU008YD2008A', 'TB-U', 58],\n",
       " ['ISSI-VG', 'DFN-08YD2A', '008YDVG005', 'ABU008YD2001A', 'TB-I', 4],\n",
       " ['ISSI-VG', 'DFN-08YD2A', '008YDVG005', 'ABU008YD2001A', 'TB-P', 7],\n",
       " ['ISSI-VG', 'DFN-08YD2A', '008YDVG010', 'ABU008YD2002A', 'TB-U', 2],\n",
       " ['ISSI-VG', 'DFN-08YM2D', '008YMVG003', 'ABU008YM2002A', 'TB-P', 2],\n",
       " ['ISSI-VG', 'DFN-08YM2D', '008YMVG003', 'ABU008YM2002A', 'TB-U', 27],\n",
       " ['ISSI-VG', 'MBGA24J4U', '024MAVG011', 'ABU024MA6010A', 'TA-2', 3],\n",
       " ['ISSI-VG', 'STBGA24J4U', '024XJVG009', 'ABU024XJ6003A', 'TA-3', 4],\n",
       " ['LAPIS', 'TSOP1-48A2', '048TVOK056', 'AOK048TV1029A', 'TA-3', 5],\n",
       " ['MTI', 'FBGA-78U9', '078U9MS017', 'AMS078C93001B', 'TA-2', 25],\n",
       " ['MTI', 'FBGA-78U9', '078U9MS017', 'AMS078C93001B', 'TB-5P', 20],\n",
       " ['MTI', 'FBGA-78UEN', '078ENMS009', 'AMS078EN1001A', 'TA', 62],\n",
       " ['MTI', 'FBGA-78UEN', '078ENMS009', 'AMS078EN1001A', 'TA-2', 2],\n",
       " ['MTI', 'FBGA-78UEN', '078ENMS009', 'AMS078EN1001A', 'TB-5B', 10],\n",
       " ['MTI', 'FBGA-78UEN', '078ENMS009', 'AMS078EN1001A', 'TB-5P', 16],\n",
       " ['MTI', 'FBGA-78UEN', '078ENMS009', 'AMS078EN1001A', 'TB-B', 1],\n",
       " ['MTI', 'FBGA-78UEN', '078ENMS009', 'AMS078EN1001A', 'TB-I', 9],\n",
       " ['MTI', 'FBGA-78UEN', '078ENMS009', 'AMS078EN1001A', 'TB-IP', 8],\n",
       " ['MTI', 'FBGA-78UEN', '078ENMS009', 'AMS078EN1001A', 'TB-P', 27],\n",
       " ['MTI', 'FBGA-78UEN', '078ENMS009', 'AMS078EN1001A', 'TB-U', 2],\n",
       " ['MTI', 'FBGA-96UEC', '096ECMS010', 'AMS096EC3001B', 'TA', 14],\n",
       " ['MTI', 'FBGA-96UEC', '096ECMS010', 'AMS096EC3001B', 'TA-2', 3],\n",
       " ['MTI', 'FBGA-96UEC', '096ECMS010', 'AMS096EC3001B', 'TA-3', 7],\n",
       " ['MTI', 'FBGA-96UEC', '096ECMS010', 'AMS096EC3001B', 'TB-5B', 6],\n",
       " ['MTI', 'FBGA-96UEC', '096ECMS010', 'AMS096EC3001B', 'TB-5P', 26],\n",
       " ['MTI', 'FBGA-96UEE', '096EEMS006', 'AMS096EE2001A', 'TA-3', 9],\n",
       " ['MTI', 'TSOP1-48AM', '048TWMS046', 'AMS048TW1037A', 'TA', 11],\n",
       " ['MTI', 'TSOP1-48AM', '048TWMS059', 'AMS048TW1050A', 'TA', 2],\n",
       " ['MTI', 'TSOP1-48AM', '048TWMS068', 'AMS048TW1058A', 'TA', 54],\n",
       " ['MTI', 'TSOP1-48AM', '048TWMS068', 'AMS048TW1058A', 'TA-2', 33],\n",
       " ['MTI', 'TSOP1-48AM', '048TWMS075', 'AMS048TW1060A', 'TA', 8],\n",
       " ['MTI', 'TSOP1-48AM', '048TWMS080', 'AMS048TW1065A', 'TA', 32],\n",
       " ['MXIC', 'DFN-08Y62D', '008Y6AW024', 'AAW008Y62015A', 'TB-R', 5],\n",
       " ['MXIC', 'DFN-08Y62D', '008Y6AW028', 'AAW008Y62014A', 'TB-P', 32],\n",
       " ['MXIC', 'DFN-08Y62D', '008Y6AW028', 'AAW008Y62014A', 'TB-U', 21],\n",
       " ['MXIC', 'DFN-08YM2D', '008YMAW020', 'AAW008YM2004A', 'TB-P', 12],\n",
       " ['MXIC', 'MBGA64J4U', '064MRAW029', 'AAW064MR1009A', 'TA', 19],\n",
       " ['MXIC', 'MINIBGA24A4L', '024MAAW048', 'AAW024MA6025A', 'TA-2', 15],\n",
       " ['MXIC', 'SSLGA16DOU', '016D5AW011', 'AAW016D53004A', 'TA-2', 50],\n",
       " ['MXIC', 'SSLGA16DOU', '016D5AW011', 'AAW016D53004A', 'TA-5', 56],\n",
       " ['MXIC', 'SSLGA16DOU', '016D5AW011', 'AAW016D53004A', 'TB-P', 8],\n",
       " ['MXIC', 'SSLGA16DOU', '016D5AW020', 'AAW016D53011A', 'TA-3', 2],\n",
       " ['MXIC', 'SSLGA16DOU', '016D5AW020', 'AAW016D53011A', 'TA-5', 23],\n",
       " ['MXIC', 'TSOP1-48/48M', '048TPAW054', 'AAW048TP1026E', 'TA', 25],\n",
       " ['MXIC', 'TSOP1-48/48M', '048TPAW054', 'AAW048TP1026E', 'TA-2', 3],\n",
       " ['MXIC', 'TSOP1-48/48M', '048TPAW056', 'AAW048TP1024D', 'TA', 53],\n",
       " ['MXIC', 'TSOP1-48/48M', '048TPAW056', 'AAW048TP1024D', 'TA-2', 12],\n",
       " ['MXIC', 'TSOP1-48/48M', '048TPAW056', 'AAW048TP1024D', 'TA-3', 12],\n",
       " ['MXIC', 'TSOP1-48/48M', '048TPAW074', 'AAW048TP1034C', 'TA', 1],\n",
       " ['MXIC', 'TSOP1-48/M2', '048TPAW086', 'AAW048TP1041B', 'TA-2', 189],\n",
       " ['MXIC', 'TSOP1-48/M2', '048TPAW086', 'AAW048TP1041B', 'TA-3', 85],\n",
       " ['MXIC', 'TSOP1-48/M2', '048TPAW103', 'AAW048TP1008B', 'TA-2', 5],\n",
       " ['MXIC', 'TSOP1-48/M2', '048TPAW103', 'AAW048TP1008B', 'TA-3', 2],\n",
       " ['MXIC', 'TSOP1-48/M2', '048TPAW103', 'AAW048TP1008B', 'TA-5', 210],\n",
       " ['MXIC', 'TSOP1-48/M2', '048TPAW103', 'AAW048TP1008B', 'TB-U', 162],\n",
       " ['PHISON', 'SSBGA153JAU', '153XTNV024', 'ANV153XT3010A', 'TA-2', 43],\n",
       " ['PHISON', 'STBGA169D4V', '169XNNV002', 'ANV169XN6002A', 'TB-I', 12],\n",
       " ['PHISON', 'STBGA169D4V', '169XNNV002', 'ANV169XN6002A', 'TB-U', 79],\n",
       " ['SCS', 'STBGA200DDP', '200KXUL001', 'AUL200KX1001A', 'TA-2', 3],\n",
       " ['WINBOND', 'DFN-08Y62D', '008Y6AB024', 'AAB008Y62010A', 'TB-I', 25],\n",
       " ['WINBOND', 'DFN-08Y62D', '008Y6AB024', 'AAB008Y62010A', 'TB-U', 6],\n",
       " ['WINBOND', 'DFN-08Y62D', '008Y6AB028', 'AAB008Y62014A', 'TB-P', 3],\n",
       " ['WINBOND', 'DFN-08Y62D', '008Y6AB028', 'AAB008Y62014A', 'TB-R', 10],\n",
       " ['WINBOND', 'DFN-08YB2G', '008YBAB019', 'AAB008YB2008A', 'TB-P', 3],\n",
       " ['WINBOND', 'DFN-08YD2A', '008YDAB014', 'AAB008YD2003A', 'TB-R', 15],\n",
       " ['WINBOND', 'DFN-08YD2A', '008YDAB014', 'AAB008YD2003A', 'TB-U', 73],\n",
       " ['WINBOND', 'DFN-08YM2D', '008YMAB047', 'AAB008YM2025A', 'TB-P', 15],\n",
       " ['WINBOND', 'DFN-08YM2D', '008YMAB047', 'AAB008YM2025A', 'TB-U', 8],\n",
       " ['WINBOND', 'DFN-08YM2D', '008YMAB048', 'AAB008YM2023A', 'TB-IP', 2],\n",
       " ['WINBOND', 'DFN-08YM2D', '008YMAB048', 'AAB008YM2023A', 'TB-P', 7],\n",
       " ['WINBOND', 'DFN-08YM2D', '008YMAB048', 'AAB008YM2023A', 'TB-U', 4],\n",
       " ['WINBOND', 'DFN-08YM2D', '008YMAB062', 'AAB008YM2023A', 'TB-P', 2],\n",
       " ['WINBOND', 'DFN-08YM2D', '008YMAB062', 'AAB008YM2023A', 'TB-R', 3],\n",
       " ['WINBOND', 'DFN-08YM2D', '008YMAB062', 'AAB008YM2023A', 'TB-U', 14],\n",
       " ['WINBOND', 'FBGA-84UC2H', '084UCAB028', 'AAB084CC9002A', 'TB-5P', 11],\n",
       " ['WINBOND', 'FBGA60UEM2-1', '060EMAB004', 'AAB060EM2001A', 'TA-2', 1],\n",
       " ['WINBOND', 'FBGA96UEF3-2', '096EFAB009', 'AAB096EF3001A', 'TA', 4],\n",
       " ['WINBOND', 'FBGA96UEL(2)', '096ELAB015', 'AAB096EL1002A', 'TA', 18],\n",
       " ['WINBOND', 'FBGA96UEL(2)', '096ELAB016', 'AAB096EL1003A', 'TA', 13],\n",
       " ['WINBOND', 'MBGA24J3U', '024MAAB086', 'AAB024MAA008A', 'TA', 7],\n",
       " ['WINBOND', 'STBGA162B4U', '162KEAB004', 'AAB162KE1002A', 'TA', 28],\n",
       " ['WINBOND', 'STBGA162B4U', '162KEAB011', 'AAB162KE1006A', 'TA-2', 4],\n",
       " ['WINBOND', 'STDFN-08YQ2A', '008YQAB085', 'AAB008YQ2034A', 'TB-R', 10],\n",
       " ['WINBOND', 'STDFN-08YQ2A', '008YQAB085', 'AAB008YQ2034A', 'TB-U', 9],\n",
       " ['WINBOND', 'STDFN-08YQ2A', '008YQAB090', 'AAB008YQ2039B', 'TB-R', 7],\n",
       " ['WINBOND', 'STDFN-08YQ2A', '008YQAB090', 'AAB008YQ2039B', 'TB-U', 22],\n",
       " ['WINBOND', 'TSOP1-48AM', '048TWAB012', 'AAB048TW2006A', 'TA', 63],\n",
       " ['WINBOND', 'TSOP1-48AM', '048TWAB012', 'AAB048TW2006A', 'TA-2', 31],\n",
       " ['WINBOND', 'TSOP1-48AM2', '048TWAB019', 'AAB048TW2009A', 'TA-2', 4],\n",
       " ['WINBOND', 'TSOP2-54ME', '054TNAB036', 'AAB054TN1005A', 'TA', 7],\n",
       " ['WINBOND', 'TSOP2-54ME', '054TNAB037', 'AAB054TN1004A', 'TA', 8],\n",
       " ['WINBOND', 'TSOP2-54ME', '054TNAB037', 'AAB054TN1004A', 'TA-2', 32],\n",
       " ['WINBOND', 'TSOP2-54ME', '054TNAB041', 'AAB054TN1005A', 'TA', 17],\n",
       " ['WINBOND', 'TSOP2-66ME', '066TNAB040', 'AAB066TN1004A', 'TB-U', 3],\n",
       " ['WINBOND', 'VFBGA60B4L', '060NRAB001', 'AB060NR1001A', 'TA', 6],\n",
       " ['WINBOND', 'VFBGA60B4L', '060NRAB001', 'AB060NR1001A', 'TA-3', 8],\n",
       " ['WINBOND', 'VFBGA60B4L', '060NRAB005', 'AAB060NR1004B', 'TA', 1],\n",
       " ['WINBOND', 'VFBGA60B4L', '060NRAB005', 'AAB060NR1004B', 'TA-2', 1],\n",
       " ['WINBOND', 'VFBGA90B4L', '090NCAB019', 'AAB090NC4006A', 'TA', 1],\n",
       " ['ZJP', 'FBGA-96UEF', '096EFYZ001', 'AYZ096EF2001A', 'TA', 18]]"
      ]
     },
     "execution_count": 17,
     "metadata": {},
     "output_type": "execute_result"
    }
   ],
   "source": [
    "## 0707\n",
    "import csv\n",
    "import pandas as pd\n",
    "import numpy as np  \n",
    "\n",
    "# read csv data\n",
    "df1 = pd.read_csv(\"result(0707_2).csv\")\n",
    "df2 = pd.read_excel('機台區域作業產品.xls')[['Entity','Location']]  \n",
    "Left_join1 = pd.merge(df1, df2, left_on ='entity', right_on ='Entity', how='left')\n",
    "\n",
    "group= Left_join1.groupby(['cust','pin_pkg','prod_id','bd_id','Location'])\n",
    "\n",
    "# # # ---caculate total qty -------\n",
    "# qty_list=[]\n",
    "# group_key_list= list(group.groups.keys())\n",
    "\n",
    "# # accumulation\n",
    "# for i in range(len(group_key_list)): \n",
    "#     key= group_key_list[i]\n",
    "#     qty_sum=0\n",
    "#     for j in range(len(group.groups[key])):\n",
    "#         row_index=group.groups[key][j]\n",
    "#         qty_sum+=Left_join1.iloc[row_index].at['qty']\n",
    "\n",
    "#     qty_list.append(qty_sum)\n",
    "# # -------\n",
    "\n",
    "# Aggregate all needed data\n",
    "\n",
    "# record original keys\n",
    "group_keys_t=list(group.groups.keys())\n",
    "\n",
    "all_rows=[]\n",
    "for i in range(len(group.size())):\n",
    "\n",
    "    temp= list(group_keys_t[i])\n",
    "    temp.append(group.size()[i]) #add amount ENT column\n",
    "    #temp.append(qty_list[i]) #add amount qty column\n",
    "    all_rows.append(temp)\n",
    "\n",
    "# # write to csv\n",
    "# with open('Output_0707.csv', 'w', newline='') as csvFile:\n",
    "#     writer = csv.writer(csvFile)\n",
    "#     writer.writerow(['CUSTOMER','Pin-pkg','Prod_ID','Bond ID','TA/TB','Allocate ENT','Output plan'])\n",
    "#     writer.writerows(all_rows)\n",
    "\n",
    "all_rows"
   ]
  },
  {
   "cell_type": "code",
   "execution_count": 3,
   "metadata": {},
   "outputs": [
    {
     "data": {
      "text/html": [
       "<div>\n",
       "<style scoped>\n",
       "    .dataframe tbody tr th:only-of-type {\n",
       "        vertical-align: middle;\n",
       "    }\n",
       "\n",
       "    .dataframe tbody tr th {\n",
       "        vertical-align: top;\n",
       "    }\n",
       "\n",
       "    .dataframe thead th {\n",
       "        text-align: right;\n",
       "    }\n",
       "</style>\n",
       "<table border=\"1\" class=\"dataframe\">\n",
       "  <thead>\n",
       "    <tr style=\"text-align: right;\">\n",
       "      <th></th>\n",
       "      <th>product</th>\n",
       "      <th>pin_package</th>\n",
       "      <th>body_size</th>\n",
       "      <th>bd_id</th>\n",
       "      <th>route</th>\n",
       "      <th>process_id</th>\n",
       "      <th>bom_id</th>\n",
       "      <th>packing_id</th>\n",
       "      <th>gross_dies</th>\n",
       "    </tr>\n",
       "  </thead>\n",
       "  <tbody>\n",
       "    <tr>\n",
       "      <th>0</th>\n",
       "      <td>0008WAB056</td>\n",
       "      <td>MAT</td>\n",
       "      <td></td>\n",
       "      <td>ENG</td>\n",
       "      <td>MAT4</td>\n",
       "      <td>0008W343</td>\n",
       "      <td>8W000A01</td>\n",
       "      <td>ABX702A</td>\n",
       "      <td>2960</td>\n",
       "    </tr>\n",
       "    <tr>\n",
       "      <th>1</th>\n",
       "      <td>0008WAB099</td>\n",
       "      <td>MAT</td>\n",
       "      <td></td>\n",
       "      <td>ENG</td>\n",
       "      <td>MAT4</td>\n",
       "      <td>162KE010</td>\n",
       "      <td>8W000A01</td>\n",
       "      <td>ABKE02A</td>\n",
       "      <td>2606</td>\n",
       "    </tr>\n",
       "    <tr>\n",
       "      <th>2</th>\n",
       "      <td>0008WAB100</td>\n",
       "      <td>MAT</td>\n",
       "      <td>(null)</td>\n",
       "      <td>ENG</td>\n",
       "      <td>MAT444</td>\n",
       "      <td>0008W565</td>\n",
       "      <td>8W000A01</td>\n",
       "      <td>ABKE02A</td>\n",
       "      <td>2794</td>\n",
       "    </tr>\n",
       "    <tr>\n",
       "      <th>3</th>\n",
       "      <td>0008WAB178</td>\n",
       "      <td>MAT</td>\n",
       "      <td></td>\n",
       "      <td></td>\n",
       "      <td>MAT4</td>\n",
       "      <td>162KE022</td>\n",
       "      <td>8W000A01</td>\n",
       "      <td>ABKE02A</td>\n",
       "      <td>2606</td>\n",
       "    </tr>\n",
       "    <tr>\n",
       "      <th>4</th>\n",
       "      <td>0008WAW036</td>\n",
       "      <td>MAT</td>\n",
       "      <td>(null)</td>\n",
       "      <td>ENG</td>\n",
       "      <td>MAT4</td>\n",
       "      <td>0008WS288</td>\n",
       "      <td>8W000A01</td>\n",
       "      <td>AWXY01A</td>\n",
       "      <td>1952</td>\n",
       "    </tr>\n",
       "    <tr>\n",
       "      <th>...</th>\n",
       "      <td>...</td>\n",
       "      <td>...</td>\n",
       "      <td>...</td>\n",
       "      <td>...</td>\n",
       "      <td>...</td>\n",
       "      <td>...</td>\n",
       "      <td>...</td>\n",
       "      <td>...</td>\n",
       "      <td>...</td>\n",
       "    </tr>\n",
       "    <tr>\n",
       "      <th>898</th>\n",
       "      <td>345XTNV038</td>\n",
       "      <td>STBGA345JAV</td>\n",
       "      <td>11.5*13*1.0</td>\n",
       "      <td>ANV345XT9001A</td>\n",
       "      <td>MBGA539</td>\n",
       "      <td>345XT024</td>\n",
       "      <td>XT345037</td>\n",
       "      <td>NVXT03A</td>\n",
       "      <td>124100</td>\n",
       "    </tr>\n",
       "    <tr>\n",
       "      <th>899</th>\n",
       "      <td>345XTNV062</td>\n",
       "      <td>STBGA345SBC</td>\n",
       "      <td>11.5*13*1.35</td>\n",
       "      <td>ANV345XTB007A</td>\n",
       "      <td>MBGA462</td>\n",
       "      <td>345XT043</td>\n",
       "      <td>XT345065</td>\n",
       "      <td>NVXT04A</td>\n",
       "      <td>124100</td>\n",
       "    </tr>\n",
       "    <tr>\n",
       "      <th>900</th>\n",
       "      <td>345XTNV063</td>\n",
       "      <td>STBGA345FBC</td>\n",
       "      <td>11.5*13*1.15</td>\n",
       "      <td>ANV345XTC003A</td>\n",
       "      <td>MBGA970</td>\n",
       "      <td>345XT044</td>\n",
       "      <td>XT345066</td>\n",
       "      <td>NVXT03A</td>\n",
       "      <td>3037</td>\n",
       "    </tr>\n",
       "    <tr>\n",
       "      <th>901</th>\n",
       "      <td>345XTNV066</td>\n",
       "      <td>STBGA345UBC</td>\n",
       "      <td>11.5*13*1.65</td>\n",
       "      <td>ANV345XTA010A</td>\n",
       "      <td>MBGA964</td>\n",
       "      <td>345XT046</td>\n",
       "      <td>XT345068</td>\n",
       "      <td>NVXT04A</td>\n",
       "      <td>3037</td>\n",
       "    </tr>\n",
       "    <tr>\n",
       "      <th>902</th>\n",
       "      <td>345XTNV076</td>\n",
       "      <td>STBGA345FAV</td>\n",
       "      <td>11.5*13*1.15</td>\n",
       "      <td>ANV345XTE001A</td>\n",
       "      <td>MBGA434</td>\n",
       "      <td>345XT056</td>\n",
       "      <td>XT345078</td>\n",
       "      <td>NVXT03A</td>\n",
       "      <td>124100</td>\n",
       "    </tr>\n",
       "  </tbody>\n",
       "</table>\n",
       "<p>903 rows × 9 columns</p>\n",
       "</div>"
      ],
      "text/plain": [
       "                       product   pin_package             body_size  \\\n",
       "0    0008WAB056                 MAT                                  \n",
       "1    0008WAB099                 MAT                                  \n",
       "2    0008WAB100                 MAT                         (null)   \n",
       "3    0008WAB178                 MAT                                  \n",
       "4    0008WAW036                 MAT                         (null)   \n",
       "..                         ...           ...                   ...   \n",
       "898  345XTNV038                 STBGA345JAV   11.5*13*1.0            \n",
       "899  345XTNV062                 STBGA345SBC   11.5*13*1.35           \n",
       "900  345XTNV063                 STBGA345FBC   11.5*13*1.15           \n",
       "901  345XTNV066                 STBGA345UBC   11.5*13*1.65           \n",
       "902  345XTNV076                 STBGA345FAV   11.5*13*1.15           \n",
       "\n",
       "                    bd_id       route       process_id      bom_id  \\\n",
       "0    ENG                   MAT4        0008W343         8W000A01     \n",
       "1    ENG                   MAT4        162KE010         8W000A01     \n",
       "2    ENG                   MAT444      0008W565         8W000A01     \n",
       "3                          MAT4        162KE022         8W000A01     \n",
       "4    ENG                   MAT4        0008WS288        8W000A01     \n",
       "..                    ...         ...              ...         ...   \n",
       "898  ANV345XT9001A         MBGA539     345XT024         XT345037     \n",
       "899  ANV345XTB007A         MBGA462     345XT043         XT345065     \n",
       "900  ANV345XTC003A         MBGA970     345XT044         XT345066     \n",
       "901  ANV345XTA010A         MBGA964     345XT046         XT345068     \n",
       "902  ANV345XTE001A         MBGA434     345XT056         XT345078     \n",
       "\n",
       "          packing_id gross_dies  \n",
       "0    ABX702A               2960  \n",
       "1    ABKE02A               2606  \n",
       "2    ABKE02A               2794  \n",
       "3    ABKE02A               2606  \n",
       "4    AWXY01A               1952  \n",
       "..               ...        ...  \n",
       "898  NVXT03A             124100  \n",
       "899  NVXT04A             124100  \n",
       "900  NVXT03A               3037  \n",
       "901  NVXT04A               3037  \n",
       "902  NVXT03A             124100  \n",
       "\n",
       "[903 rows x 9 columns]"
      ]
     },
     "execution_count": 3,
     "metadata": {},
     "output_type": "execute_result"
    }
   ],
   "source": [
    "import pandas as pd\n",
    "df11 = pd.read_excel('product_find_process_id.xlsx')\n",
    "df11"
   ]
  },
  {
   "cell_type": "code",
   "execution_count": 7,
   "metadata": {},
   "outputs": [
    {
     "data": {
      "text/plain": [
       "cust    pin_pkg      prod_id     bd_id          Location  entity\n",
       "A-DATA  STBGA252C4V  252X2GJ006  AGJ252X20003A  TB-I      BBA03     1\n",
       "                                                          BBA15     1\n",
       "                                                          BBA28     1\n",
       "                                                          BBA31     1\n",
       "                                                TB-IP     BBS06     1\n",
       "                                                                   ..\n",
       "ZJP     FBGA-96UEF   096EFYZ001  AYZ096EF2001A  TA        BB554     3\n",
       "                                                          BB558     2\n",
       "                                                          BB562     1\n",
       "                                                          BB580     2\n",
       "                                                          BB586     1\n",
       "Length: 893, dtype: int64"
      ]
     },
     "execution_count": 7,
     "metadata": {},
     "output_type": "execute_result"
    }
   ],
   "source": [
    "## 0707 test add time\n",
    "import csv\n",
    "import pandas as pd\n",
    "import numpy as np  \n",
    "\n",
    "## int time\n",
    "relative_time_1 = 0        # >8:30\n",
    "relative_time_2 = 150      # >11:00\n",
    "\n",
    "# read csv data\n",
    "df1 = pd.read_csv(\"result(0707_2).csv\")\n",
    "df2 = pd.read_excel('機台區域作業產品.xls')[['Entity','Location']]  \n",
    "result = pd.merge(df1, df2, left_on ='entity', right_on ='Entity', how='left')\n",
    "group= result.groupby(['cust','pin_pkg','prod_id','bd_id','Location','entity'])\n",
    "\n",
    "\n",
    "# # # ---caculate total qty -------\n",
    "# qty_list=[]\n",
    "# group_key_list= list(group.groups.keys())\n",
    "\n",
    "# # accumulation\n",
    "# for i in range(len(group_key_list)): \n",
    "#     key= group_key_list[i]\n",
    "#     qty_sum=0\n",
    "#     for j in range(len(group.groups[key])):\n",
    "#         row_index=group.groups[key][j]\n",
    "#         qty_sum+=result.iloc[row_index].at['qty']\n",
    "\n",
    "#     qty_list.append(qty_sum)\n",
    "# # -------\n",
    "\n",
    "\n",
    "# # calculate each time of ENT\n",
    "\n",
    "\n",
    "# # Aggregate all needed data\n",
    "\n",
    "\n",
    "# # record original keys\n",
    "# group_keys_t=list(group.groups.keys())\n",
    "\n",
    "# all_rows=[]\n",
    "# for i in range(len(group.size())):\n",
    "\n",
    "#     temp= list(group_keys_t[i])\n",
    "#     temp.append(group.size()[i]) #add amount ENT column\n",
    "#     temp.append(qty_list[i]) #add amount qty column\n",
    "#     all_rows.append(temp)\n",
    "\n",
    "# # # write to csv\n",
    "# # with open('Output_0707.csv', 'w', newline='') as csvFile:\n",
    "# #     writer = csv.writer(csvFile)\n",
    "# #     writer.writerow(['CUSTOMER','Pin-pkg','Prod_ID','Bond ID','TA/TB','Allocate ENT','Output plan'])\n",
    "# #     writer.writerows(all_rows)\n",
    "group.size()\n"
   ]
  },
  {
   "cell_type": "code",
   "execution_count": 22,
   "metadata": {},
   "outputs": [
    {
     "data": {
      "text/plain": [
       "{('A-DATA', 'STBGA252C4V', '252X2GJ006', 'AGJ252X20003A', 'TB-I', 'BBA03'): [2494], ('A-DATA', 'STBGA252C4V', '252X2GJ006', 'AGJ252X20003A', 'TB-I', 'BBA15'): [2495], ('A-DATA', 'STBGA252C4V', '252X2GJ006', 'AGJ252X20003A', 'TB-I', 'BBA28'): [2491], ('A-DATA', 'STBGA252C4V', '252X2GJ006', 'AGJ252X20003A', 'TB-I', 'BBA31'): [2493], ('A-DATA', 'STBGA252C4V', '252X2GJ006', 'AGJ252X20003A', 'TB-IP', 'BBS06'): [2492], ('AKM', 'QFN-36AB1', '036ABBW009', 'ABW036AB1004A', 'TB-B', 'BBF61'): [2314, 2315, 2316, 2318], ('AP Memory', 'DFN-08YM2G', '008YMQW005', 'AQW008YM2003A', 'TB-I', 'BBA19'): [1239, 1247, 1257, 1288], ('AP Memory', 'DFN-08YM2G', '008YMQW005', 'AQW008YM2003A', 'TB-I', 'BBA22'): [1264, 1281, 1284, 1285], ('AP Memory', 'DFN-08YM2G', '008YMQW005', 'AQW008YM2003A', 'TB-P', 'BBD03'): [1224, 1260, 1280], ('AP Memory', 'DFN-08YM2G', '008YMQW005', 'AQW008YM2003A', 'TB-P', 'BBD13'): [1231, 1242, 1252, 1291], ('AP Memory', 'DFN-08YM2G', '008YMQW005', 'AQW008YM2003A', 'TB-P', 'BBD14'): [1251, 1256, 1271], ('AP Memory', 'DFN-08YM2G', '008YMQW005', 'AQW008YM2003A', 'TB-P', 'BBD52'): [1234, 1241], ('AP Memory', 'DFN-08YM2G', '008YMQW005', 'AQW008YM2003A', 'TB-R', 'BBR08'): [1235, 1263], ('AP Memory', 'DFN-08YM2G', '008YMQW005', 'AQW008YM2003A', 'TB-R', 'BBR21'): [1220, 1261, 1278], ('AP Memory', 'DFN-08YM2G', '008YMQW005', 'AQW008YM2003A', 'TB-R', 'BBR35'): [1230, 1258], ('AP Memory', 'DFN-08YM2G', '008YMQW005', 'AQW008YM2003A', 'TB-R', 'BBR37'): [1232, 1293], ('AP Memory', 'DFN-08YM2G', '008YMQW005', 'AQW008YM2003A', 'TB-U', 'BB824'): [1227, 1267, 1269, 1287], ('AP Memory', 'DFN-08YM2G', '008YMQW005', 'AQW008YM2003A', 'TB-U', 'BB834'): [1253, 1255, 1266, 1283], ('AP Memory', 'DFN-08YM2G', '008YMQW005', 'AQW008YM2003A', 'TB-U', 'BB835'): [1221, 1233], ('AP Memory', 'DFN-08YM2G', '008YMQW005', 'AQW008YM2003A', 'TB-U', 'BB836'): [1236, 1246], ('AP Memory', 'DFN-08YM2G', '008YMQW005', 'AQW008YM2003A', 'TB-U', 'BB837'): [1222, 1223, 1226], ('AP Memory', 'DFN-08YM2G', '008YMQW005', 'AQW008YM2003A', 'TB-U', 'BB848'): [1240, 1259, 1272], ('AP Memory', 'DFN-08YM2G', '008YMQW005', 'AQW008YM2003A', 'TB-U', 'BB859'): [1262, 1268, 1274], ('AP Memory', 'DFN-08YM2G', '008YMQW005', 'AQW008YM2003A', 'TB-U', 'BB873'): [1229, 1238, 1289], ('AP Memory', 'DFN-08YM2G', '008YMQW005', 'AQW008YM2003A', 'TB-U', 'BB876'): [1244, 1270, 1290], ('AP Memory', 'DFN-08YM2G', '008YMQW005', 'AQW008YM2003A', 'TB-U', 'BB900'): [1228, 1249, 1250], ('AP Memory', 'DFN-08YM2G', '008YMQW005', 'AQW008YM2003A', 'TB-U', 'BB905'): [1225, 1243, 1245, 1282], ('AP Memory', 'DFN-08YM2G', '008YMQW005', 'AQW008YM2003A', 'TB-U', 'BB906'): [1237, 1248, 1286], ('AP Memory', 'DFN-08YM2G', '008YMQW005', 'AQW008YM2003A', 'TB-U', 'BB918'): [1295], ('AP Memory', 'DFN-08YM2G', '008YMQW005', 'AQW008YM2003A', 'TB-U', 'BB920'): [1273, 1275, 1276], ('AP Memory', 'DFN-08YM2G', '008YMQW005', 'AQW008YM2003A', 'TB-U', 'BB926'): [1254, 1265, 1277, 1279], ('CHIPLUS', 'MBGA48A2L', '048MAHD001', 'AHD048MA4002A', 'TA', 'BB513'): [2228, 2230, 2231], ('CHIPLUS', 'MBGA48A2L', '048MAHD001', 'AHD048MA4002A', 'TA', 'BB532'): [2217, 2220, 2222, 2234], ('CHIPLUS', 'MBGA48A2L', '048MAHD001', 'AHD048MA4002A', 'TA', 'BB534'): [2218, 2219, 2225, 2235], ('CHIPLUS', 'MBGA48A2L', '048MAHD001', 'AHD048MA4002A', 'TA', 'BB541'): [2223, 2226, 2227, 2233], ('CHIPLUS', 'MBGA48A2L', '048MAHD001', 'AHD048MA4002A', 'TA', 'BB585'): [2221, 2224, 2229, 2232], ('CYPRESS', 'TSOP2-54CMES', '054TSCS005', 'ACS054TS1012A', 'TA-2', 'BB732'): [2417, 2418, 2421, 2422, 2423, 2424, 2425], ('CYPRESS', 'TSOP2-54CMES', '054TSCS005', 'ACS054TS1012A', 'TA-2', 'BBB20'): [2420], ('CYPRESS', 'TSOP2-54CMES', '054TSCS017', 'ACS054TS1009A', 'TA-2', 'BBB20'): [2419, 2426], ('ChipMOS', 'DFN-08Y62D', '008Y6AW028', 'AAW008Y62014A', 'TB-P', 'BBL19'): [1592], ('ChipMOS', 'DFN-08YD2A', '008YDAB014', 'AAB008YD2003A', 'TB-R', 'BBR33'): [1049, 1069, 1095], ('ChipMOS', 'DFN-08YD2A', '008YDAB014', 'AAB008YD2003A', 'TB-U', 'BB812'): [1052], ('ChipMOS', 'DFN-08YD2A', '008YDAB014', 'AAB008YD2003A', 'TB-U', 'BB849'): [1061, 1068, 1071], ('ChipMOS', 'DFN-08YD2A', '008YDAB014', 'AAB008YD2003A', 'TB-U', 'BB932'): [1063], ('ChipMOS', 'DFN-08YD2A', '008YDVG006', 'ABU008YD2004A', 'TB-U', 'BB816'): [1530], ('ChipMOS', 'DFN-08YD2A', '008YDVG007', 'ABU008YD2003A', 'TB-U', 'BB816'): [1534], ('ChipMOS', 'DFN-08YD2A', '008YDVG008', 'ABU008YD2006A', 'TB-P', 'BBD56'): [1527], ('ChipMOS', 'DFN-08YD2A', '008YDVG010', 'ABU008YD2002A', 'TB-U', 'BBJ02'): [2373], ('ChipMOS', 'DFN-08YM2D', '008YMAB046', 'AAB008YM2018A', 'TB-P', 'BBD06'): [2486, 2488, 2490], ('ChipMOS', 'DFN-08YM2D', '008YMAB047', 'AAB008YM2025A', 'TB-P', 'BBD11'): [1894], ('ChipMOS', 'DFN-08YM2D', '008YMAB047', 'AAB008YM2025A', 'TB-P', 'BBD43'): [1923], ('ChipMOS', 'DFN-08YM2D', '008YMAB047', 'AAB008YM2025A', 'TB-P', 'BBL01'): [1922], ('ChipMOS', 'DFN-08YM2D', '008YMAB047', 'AAB008YM2025A', 'TB-P', 'BBL18'): [1921], ('ChipMOS', 'DFN-08YM2D', '008YMAB048', 'AAB008YM2023A', 'TB-IP', 'BBS08'): [1916], ('ChipMOS', 'DFN-08YM2D', '008YMAB051', 'AAB008YM2019A', 'TB-P', 'BBD42'): [2489], ('ChipMOS', 'DFN-08YM2D', '008YMAB062', 'AAB008YM2023A', 'TB-U', 'BB905'): [1292], ('ChipMOS', 'DFN-08YM2D', '008YMAB068', 'AAB008YM2018A', 'TB-P', 'BBD06'): [2487], ('ChipMOS', 'DFN-08YM2D', '008YMAW020', 'AAW008YM2004A', 'TB-P', 'BBD15'): [2279, 2285], ('ChipMOS', 'DFN-08YM2D', '008YMAW020', 'AAW008YM2004A', 'TB-P', 'BBD39'): [2277], ('ChipMOS', 'DFN-08YQ2A', '008YQAB072', 'AAB008YQ2022A', 'TB-P', 'BBD36'): [2427, 2428, 2430], ('ChipMOS', 'DFN-08YQ2A', '008YQAB078', 'AAB008YQ2032A', 'TB-P', 'BBD20'): [2431, 2433], ('ChipMOS', 'DFN-08YQ2A', '008YQAB078', 'AAB008YQ2032A', 'TB-P', 'BBD36'): [2429, 2435, 2436], ('ChipMOS', 'DFN-08YQ2A', '008YQVG006', 'ABU008YQ2002A', 'TB-U', 'BB817'): [2515], ('ChipMOS', 'DFN-08YQ2A', '008YQVG013', 'ABU008YQ2006A', 'TB-U', 'BB817'): [2516], ('ChipMOS', 'DFN-08YQ2A', '008YQVG014', 'ABU008YQ2018A', 'TB-U', 'BB817'): [2514], ('ChipMOS', 'QFN-20YU2D', '020YUNI024', 'ANI020YU1005C', 'TB-I', 'BBA11'): [2086], ('ChipMOS', 'QFN-20YU2D', '020YUNI024', 'ANI020YU1005C', 'TB-I', 'BBA25'): [2075, 2079], ('ChipMOS', 'QFN-36AB1', '036ABBW009', 'ABW036AB1004A', 'TB-B', 'BBF61'): [2313, 2317], ('ChipMOS', 'TSOP1-48/48M', '048TPAW054', 'AAW048TP1026E', 'TA', 'BB446'): [996], ('ChipMOS', 'TSOP1-48/48M', '048TPAW054', 'AAW048TP1026E', 'TA', 'BB582'): [995], ('ChipMOS', 'TSOP1-48AM', '048TWAB012', 'AAB048TW2006A', 'TA', 'BB579'): [1180], ('ChipMOS', 'TSOP1-48AM', '048TWAB012', 'AAB048TW2006A', 'TA-2', 'BB717'): [1200], ('ChipMOS', 'TSOP1-48AM', '048TWMS080', 'AMS048TW1065A', 'TA', 'BB583'): [1980], ('ChipMOS', 'TSOP2-54ME', '054TNAB036', 'AAB054TN1005A', 'TA', 'BB484'): [2187], ('ChipMOS', 'VFBGA90B4L', '090NCAB019', 'AAB090NC4006A', 'TA', 'BB482'): [2528], ('DIALOG', 'QFN-20YU2D', '020YUNI024', 'ANI020YU1005C', 'TB-I', 'BBA09'): [2060, 2061, 2063, 2069, 2072, 2080, 2081, 2082, 2087], ('DIALOG', 'QFN-20YU2D', '020YUNI024', 'ANI020YU1005C', 'TB-I', 'BBA11'): [2062, 2064, 2066, 2070, 2071, 2074, 2077, 2078, 2085, 2088], ('DIALOG', 'QFN-20YU2D', '020YUNI024', 'ANI020YU1005C', 'TB-I', 'BBA25'): [2065, 2067, 2068, 2073, 2076, 2083, 2084, 2089], ('EMC', 'FPSSLGA34VBV', '0345JHQ001', 'AHQ0345J1001A', 'TB-R', 'BBR12'): [2519], ('EMC', 'FPSSLGA34VBV', '0345JHQ001', 'AHQ0345J1001A', 'TB-R', 'BBR19'): [2517], ('EMC', 'FPSSLGA34VBV', '0345JHQ001', 'AHQ0345J1001A', 'TB-R', 'BBR24'): [2518], ('EMC', 'FPSSLGA41FRV', '0415LHQ012', 'AHQ0415L1003B', 'TB-R', 'BBR14'): [2466, 2467], ('EMC', 'FPSSLGA41FRV', '0415LHQ012', 'AHQ0415L1003B', 'TB-R', 'BBR20'): [2465], ('EMC', 'FPSSLGA41FRV', '0415LHQ012', 'AHQ0415L1003B', 'TB-R', 'BBR41'): [2468], ('EMC', 'FPSSLGA41FRV', '0415LHQ012', 'AHQ0415L1003B', 'TB-R', 'BBR42'): [2462, 2463], ('EMC', 'FPSSLGA41FRV', '0415LHQ012', 'AHQ0415L1003B', 'TB-R', 'BBR43'): [2464], ('EMC', 'FPSTLGA44tBV', '0442JHQ015', 'AHQ0442J3003A', 'TB-IP', 'BBS10'): [1704], ('EMC', 'FPSTLGA44tBV', '0442JHQ016', 'AHQ0442J3003A', 'TB-I', 'BBA02'): [1668, 1676, 1678, 1702], ('EMC', 'FPSTLGA44tBV', '0442JHQ016', 'AHQ0442J3003A', 'TB-I', 'BBA07'): [1669, 1679, 1695, 1700], ('EMC', 'FPSTLGA44tBV', '0442JHQ016', 'AHQ0442J3003A', 'TB-I', 'BBA08'): [1671, 1681, 1690, 1703], ('EMC', 'FPSTLGA44tBV', '0442JHQ016', 'AHQ0442J3003A', 'TB-I', 'BBA13'): [1652, 1654, 1684], ('EMC', 'FPSTLGA44tBV', '0442JHQ016', 'AHQ0442J3003A', 'TB-I', 'BBA17'): [1667, 1670, 1696], ('EMC', 'FPSTLGA44tBV', '0442JHQ016', 'AHQ0442J3003A', 'TB-I', 'BBA20'): [1666, 1691, 1698], ('EMC', 'FPSTLGA44tBV', '0442JHQ016', 'AHQ0442J3003A', 'TB-I', 'BBA24'): [1653, 1664, 1675], ('EMC', 'FPSTLGA44tBV', '0442JHQ016', 'AHQ0442J3003A', 'TB-I', 'BBA29'): [1665, 1677, 1682, 1685], ('EMC', 'FPSTLGA44tBV', '0442JHQ016', 'AHQ0442J3003A', 'TB-R', 'BBR09'): [1651, 1663, 1672, 1688, 1692], ('EMC', 'FPSTLGA44tBV', '0442JHQ016', 'AHQ0442J3003A', 'TB-R', 'BBR13'): [1655, 1660, 1661, 1683], ('EMC', 'FPSTLGA44tBV', '0442JHQ016', 'AHQ0442J3003A', 'TB-R', 'BBR17'): [1662, 1686, 1693, 1699], ('EMC', 'FPSTLGA44tBV', '0442JHQ016', 'AHQ0442J3003A', 'TB-R', 'BBR29'): [1657, 1689, 1697, 1701], ('EMC', 'FPSTLGA44tBV', '0442JHQ016', 'AHQ0442J3003A', 'TB-R', 'BBR34'): [1656, 1673, 1674, 1680], ...}"
      ]
     },
     "execution_count": 22,
     "metadata": {},
     "output_type": "execute_result"
    }
   ],
   "source": [
    "## 0707 output entity 7/8 \n",
    "import csv\n",
    "import pandas as pd\n",
    "import numpy as np  \n",
    "\n",
    "## ini time\n",
    "relative_time_1 = 0        # >8:30\n",
    "relative_time_2 = 150      # >11:00\n",
    "\n",
    "# read csv data\n",
    "df1 = pd.read_csv(\"result(0707_2).csv\")\n",
    "df2 = pd.read_excel('機台區域作業產品.xls')[['Entity','Location']]  \n",
    "result = pd.merge(df1, df2, left_on ='entity', right_on ='Entity', how='left')\n",
    "original_group=result.groupby(['cust','pin_pkg','prod_id','bd_id','Location'])\n",
    "\n",
    "temp_group= result.groupby(['cust','pin_pkg','prod_id','bd_id','Location','entity']) \n",
    "\n",
    "# record key\n",
    "temp_group_key_list= list(temp_group.groups.keys())\n",
    "group_key_list= list(original_group.groups.keys())\n",
    "\n",
    "\n",
    "# get all ENT (two times group))\n",
    "temp_rows=[]\n",
    "for i in range(len(temp_group.size())):\n",
    "    temp0= list(list(temp_group.groups.keys())[i])\n",
    "    temp_rows.append(temp0)\n",
    "df_grp_entity = pd.DataFrame(temp_rows,columns =['cust','pin_pkg','prod_id','bd_id','Location','entity'])\n",
    "\n",
    "grp_basis = df_grp_entity.groupby(['cust','pin_pkg','prod_id','bd_id','Location'])  \n",
    "\n",
    "# # ---caculate total qty -------\n",
    "qty_list=[]\n",
    "# accumulation\n",
    "for i in range(len(group_key_list)): \n",
    "    key= group_key_list[i]\n",
    "    qty_sum=0\n",
    "    for j in range(len(original_group.groups[key])):\n",
    "        row_index=original_group.groups[key][j]\n",
    "        qty_sum+=result.iloc[row_index].at['qty']\n",
    "    qty_list.append(qty_sum)\n",
    "# -------\n",
    "\n",
    "# # calculate each time of ENT\n",
    "result.iloc[2492].at['lot_number']\n",
    "#grp_basis.groups[(group_key_list)]\n",
    "temp_group.groups\n",
    "\n",
    "#result.iloc[2491].at['lot_number']\n",
    "# print(group_key_list[1])\n",
    "# print(result.iloc[2492].at['lot_number'])\n",
    "# # Aggregate all needed data\n",
    "# all_rows=[]\n",
    "# for i in range(len(original_group.size())):\n",
    "#     temp= list(group_key_list[i])\n",
    "#     temp.append(grp_basis.size()[i]) #add amount ENT column 4.1.1.2\n",
    "#     temp.append(qty_list[i])\n",
    "\n",
    "#     all_rows.append(temp)\n",
    "\n",
    "# # write to csv\n",
    "# with open('Output_0707_new.csv', 'w', newline='') as csvFile:\n",
    "#     writer = csv.writer(csvFile)\n",
    "#     writer.writerow(['CUSTOMER','Pin-pkg','Prod_ID','Bond ID','TA/TB','Allocate ENT','Output plan'])\n",
    "#     writer.writerows(all_rows)\n",
    "mid_term_marks_df.to_csv(\"midterm.csv\", index=False)\n"
   ]
  },
  {
   "cell_type": "code",
   "execution_count": 5,
   "metadata": {},
   "outputs": [
    {
     "data": {
      "text/plain": [
       "CUSTOMER   Pin-pkg      Prod_ID     Bond ID        TA/TB\n",
       "A-DATA     STBGA252C4V  252X2GJ006  AGJ252X20003A  TB-I      4\n",
       "                                                   TB-IP     1\n",
       "AKM        QFN-36AB1    036ABBW009  ABW036AB1004A  TB-B      1\n",
       "AP Memory  DFN-08YM2G   008YMQW005  AQW008YM2003A  TB-I      2\n",
       "                                                   TB-P      4\n",
       "                                                            ..\n",
       "WINBOND    VFBGA60B4L   060NRAB001  AB060NR1001A   TA-3      4\n",
       "                        060NRAB005  AAB060NR1004B  TA        1\n",
       "                                                   TA-2      1\n",
       "           VFBGA90B4L   090NCAB019  AAB090NC4006A  TA        1\n",
       "ZJP        FBGA-96UEF   096EFYZ001  AYZ096EF2001A  TA       11\n",
       "Length: 157, dtype: int64"
      ]
     },
     "execution_count": 5,
     "metadata": {},
     "output_type": "execute_result"
    }
   ],
   "source": [
    "## 0707 test add time\n",
    "import csv\n",
    "import pandas as pd\n",
    "import numpy as np  \n",
    "\n",
    "\n",
    "\n",
    "# read csv data\n",
    "df1 = pd.read_csv(\"Output_0707_entity.csv\")\n",
    "group= df1.groupby(['CUSTOMER','Pin-pkg','Prod_ID','Bond ID','TA/TB'])\n",
    "sum=0\n",
    "for i in range(len(group.size())):\n",
    "    sum+=group.size()[i]\n",
    "group.size()"
   ]
  },
  {
   "cell_type": "code",
   "execution_count": 24,
   "metadata": {},
   "outputs": [
    {
     "data": {
      "text/html": [
       "<div>\n",
       "<style scoped>\n",
       "    .dataframe tbody tr th:only-of-type {\n",
       "        vertical-align: middle;\n",
       "    }\n",
       "\n",
       "    .dataframe tbody tr th {\n",
       "        vertical-align: top;\n",
       "    }\n",
       "\n",
       "    .dataframe thead th {\n",
       "        text-align: right;\n",
       "    }\n",
       "</style>\n",
       "<table border=\"1\" class=\"dataframe\">\n",
       "  <thead>\n",
       "    <tr style=\"text-align: right;\">\n",
       "      <th></th>\n",
       "      <th>set</th>\n",
       "      <th>ent_all</th>\n",
       "      <th>ent_11</th>\n",
       "    </tr>\n",
       "  </thead>\n",
       "  <tbody>\n",
       "    <tr>\n",
       "      <th>0</th>\n",
       "      <td>A</td>\n",
       "      <td>3</td>\n",
       "      <td>2.0</td>\n",
       "    </tr>\n",
       "    <tr>\n",
       "      <th>1</th>\n",
       "      <td>B</td>\n",
       "      <td>2</td>\n",
       "      <td>0.0</td>\n",
       "    </tr>\n",
       "    <tr>\n",
       "      <th>2</th>\n",
       "      <td>C</td>\n",
       "      <td>7</td>\n",
       "      <td>1.0</td>\n",
       "    </tr>\n",
       "    <tr>\n",
       "      <th>3</th>\n",
       "      <td>D</td>\n",
       "      <td>5</td>\n",
       "      <td>1.0</td>\n",
       "    </tr>\n",
       "  </tbody>\n",
       "</table>\n",
       "</div>"
      ],
      "text/plain": [
       "  set  ent_all  ent_11\n",
       "0   A        3     2.0\n",
       "1   B        2     0.0\n",
       "2   C        7     1.0\n",
       "3   D        5     1.0"
      ]
     },
     "execution_count": 24,
     "metadata": {},
     "output_type": "execute_result"
    }
   ],
   "source": [
    "import pandas as pd\n",
    "import numpy as np  \n",
    "df1 = pd.DataFrame({'set':['A','B','C','D'],\n",
    "                        'ent_all':[3,2,7,5]})\n",
    "df2 = pd.DataFrame({'set':['A','C','D'],\n",
    "                        'ent_11':[2,1,1]})                       \n",
    "result = pd.merge(df1, df2, on ='set', how ='left')\n",
    "result\n",
    "g= result.fillna(0)  #填空值\n",
    "g"
   ]
  },
  {
   "cell_type": "code",
   "execution_count": 25,
   "metadata": {},
   "outputs": [],
   "source": [
    "## 7/9\n",
    "import csv\n",
    "import pandas as pd\n",
    "import numpy as np  \n",
    "from datetime import datetime\n",
    "\n",
    "## ini time\n",
    "relative_time_1 = 0      # >08:30 改07:30\n",
    "relative_time_2 = 150      # >11:00\n",
    "\n",
    "# read csv data\n",
    "df1 = pd.read_csv(\"result.csv\")\n",
    "df2 = pd.read_excel('機台區域作業產品.xls')[['Entity','Location']]  \n",
    "result = pd.merge(df1, df2, left_on ='entity', right_on ='Entity', how='left')\n",
    "original_group=result.groupby(['cust','pin_pkg','prod_id','bd_id','Location']) \n",
    "\n",
    "# # 11. 7:30\n",
    "def get_result_byFilter(result,relative_time):\n",
    "    filter_strt = result[\"start_time\"] <= relative_time #0, 150\n",
    "    filter_end = result[\"end_time\"] >= relative_time\n",
    "    filter_result = result[filter_strt & filter_end]\n",
    "\n",
    "    return filter_result\n",
    "\n",
    "# \n",
    "def getENTdf(temp_result,ent_colname):\n",
    "\n",
    "    temp_group= temp_result.groupby(['cust','pin_pkg','prod_id','bd_id','Location','entity']) \n",
    "    df_grp_entity = pd.DataFrame(temp_group.groups.keys())\n",
    "    grp_basis = df_grp_entity.groupby([0,1,2,3,4])  # cust > Location\n",
    "    df_keys= pd.DataFrame(grp_basis.groups.keys())\n",
    "    df_Ent_amount= pd.DataFrame(list(grp_basis.size()))\n",
    "    ENTdf= pd.concat([df_keys, df_Ent_amount], axis=1)\n",
    "    ENTdf.columns=['cust','pin_pkg','prod_id','bd_id','Location',ent_colname]\n",
    "\n",
    "    return ENTdf\n",
    "\n",
    "ENT_all = getENTdf(result,'Allocate ENT')\n",
    "ENT_08 = getENTdf(get_result_byFilter(result,relative_time_1),'Original ENT(08:30)') # 改\n",
    "ENT_11 = getENTdf(get_result_byFilter(result,relative_time_2),'Original ENT(11:00)')\n",
    "\n",
    "# # ---caculate total qty -------\n",
    "qty_list=[]\n",
    "group_key_list= list(original_group.groups.keys())\n",
    "\n",
    "# accumulation\n",
    "for i in range(len(group_key_list)): \n",
    "    key= group_key_list[i]\n",
    "    qty_sum=0\n",
    "    for j in range(len(original_group.groups[key])):\n",
    "        row_index=original_group.groups[key][j]\n",
    "        qty_sum+=result.iloc[row_index].at['qty']\n",
    "\n",
    "    qty_list.append(qty_sum)\n",
    "df_qty = pd.DataFrame(qty_list,columns=['Output plan'])\n",
    "# -------\n",
    "\n",
    "# merge three df\n",
    "result_all_8 = pd.merge(ENT_all, ENT_08, on =(['cust','pin_pkg','prod_id','bd_id','Location']), how ='left')\n",
    "ENT_result = pd.merge(result_all_8, ENT_11, on =(['cust','pin_pkg','prod_id','bd_id','Location']), how ='left')\n",
    "# concat all\n",
    "temp_df= pd.concat([ENT_result, df_qty], axis=1)\n",
    "\n",
    "## change column sequence\n",
    "final_df = temp_df[['cust','pin_pkg','prod_id','bd_id','Location','Original ENT(08:30)','Original ENT(11:00)','Allocate ENT','Output plan']]\n",
    "\n",
    "# # write to csv\n",
    "final_df.to_csv(foldername +\"simulation_output.csv\", index=False ,na_rep=0) "
   ]
  },
  {
   "cell_type": "code",
   "execution_count": 30,
   "metadata": {},
   "outputs": [
    {
     "name": "stderr",
     "output_type": "stream",
     "text": [
      "C:\\Users\\LiangCJ\\AppData\\Local\\Programs\\Python\\Python39\\lib\\site-packages\\pandas\\core\\indexing.py:1637: SettingWithCopyWarning:\n",
      "\n",
      "\n",
      "A value is trying to be set on a copy of a slice from a DataFrame\n",
      "\n",
      "See the caveats in the documentation: https://pandas.pydata.org/pandas-docs/stable/user_guide/indexing.html#returning-a-view-versus-a-copy\n",
      "\n"
     ]
    }
   ],
   "source": [
    "# output2 \n",
    "\n",
    "from datetime import datetime\n",
    "import time # \n",
    "import pandas as pd\n",
    "df1 = pd.read_csv(\"result.csv\")\n",
    "# 2021/4/17 08:30 (改 變數)\n",
    "ini_time_stamp = 1618619400 \n",
    "\n",
    "def createFolder(directory):\n",
    "    try:\n",
    "        if not os.path.exists(directory):\n",
    "            os.makedirs(directory)\n",
    "    except OSError:\n",
    "        print ('Error: Creating directory. ' +  directory) \n",
    "\n",
    "foldername = './data_result' + datetime.now().strftime('-%Y%m%d%H%M') + '/' # folder which store result picture\n",
    "createFolder(foldername)  \n",
    "\n",
    "df_output2 = df1.copy(deep=True)\n",
    "for i in range(len(df2.index)):\n",
    "    df_output2['start_time'].iloc[i] =  time.strftime(\"%Y-%m-%d %H:%M:%S\", time.localtime(ini_time_stamp+df1['start_time'].iloc[i]*60))\n",
    "    df_output2['end_time'].iloc[i] =  time.strftime(\"%Y-%m-%d %H:%M:%S\", time.localtime(ini_time_stamp+df1['end_time'].iloc[i]*60)) \n",
    "\n",
    "df_output2= df_output2[['lot_number','cust','pin_pkg','prod_id','qty','part_id','part_no','bd_id','entity','start_time','end_time']]\n",
    "df_output2.to_csv(foldername +\"lots_output.csv\", index=False ,na_rep=0)\n",
    "\n"
   ]
  },
  {
   "cell_type": "code",
   "execution_count": 4,
   "metadata": {},
   "outputs": [
    {
     "data": {
      "text/plain": [
       "0          1           \n",
       "A-DATA     STBGA252C4V      5\n",
       "AKM        QFN-36AB1        1\n",
       "AP Memory  DFN-08YM2G      25\n",
       "CHIPLUS    MBGA48A2L        5\n",
       "CYPRESS    TSOP2-54CMES     3\n",
       "                           ..\n",
       "WINBOND    TSOP2-54ME      21\n",
       "           TSOP2-66ME       3\n",
       "           VFBGA60B4L      10\n",
       "           VFBGA90B4L       1\n",
       "ZJP        FBGA-96UEF      11\n",
       "Length: 67, dtype: int64"
      ]
     },
     "execution_count": 4,
     "metadata": {},
     "output_type": "execute_result"
    }
   ],
   "source": [
    "## test use index to groupby\n",
    "import csv\n",
    "import pandas as pd\n",
    "import numpy as np  \n",
    "\n",
    "## ini time\n",
    "relative_time_1 = 0        # >8:30\n",
    "relative_time_2 = 150      # >11:00\n",
    "\n",
    "# read csv data\n",
    "df1 = pd.read_csv(\"result(0707_2).csv\")\n",
    "df2 = pd.read_excel('機台區域作業產品.xls')[['Entity','Location']]  \n",
    "result = pd.merge(df1, df2, left_on ='entity', right_on ='Entity', how='left')\n",
    "original_group=result.groupby(['cust','pin_pkg','prod_id','bd_id','Location'])\n",
    "\n",
    "temp_group= result.groupby(['cust','pin_pkg','prod_id','bd_id','Location','entity'])\n",
    "\n",
    "df_grp_entity = pd.DataFrame(temp_group.groups.keys())\n",
    "grp_basis = df_grp_entity.groupby([0,1])  \n",
    "grp_basis.size()\n"
   ]
  },
  {
   "cell_type": "code",
   "execution_count": null,
   "metadata": {},
   "outputs": [],
   "source": [
    "## 0707 output entity 7/8 \n",
    "import csv\n",
    "import pandas as pd\n",
    "import numpy as np  \n",
    "\n",
    "## ini time\n",
    "relative_time_1 = 0        # >8:30\n",
    "relative_time_2 = 150      # >11:00\n",
    "\n",
    "# read csv data\n",
    "df1 = pd.read_csv(\"result(0707_2).csv\")\n",
    "df2 = pd.read_excel('機台區域作業產品.xls')[['Entity','Location']]  \n",
    "result = pd.merge(df1, df2, left_on ='entity', right_on ='Entity', how='left')\n",
    "original_group=result.groupby(['cust','pin_pkg','prod_id','bd_id','Location'])\n",
    "\n",
    "# \n",
    "temp_group= result.groupby(['cust','pin_pkg','prod_id','bd_id','Location','entity']) \n",
    "df_grp_entity = pd.DataFrame(temp_group.groups.keys(),columns =['cust','pin_pkg','prod_id','bd_id','Location','entity'])\n",
    "grp_basis = df_grp_entity.groupby(['cust','pin_pkg','prod_id','bd_id','Location'])  \n",
    "\n",
    "# 11.\n",
    "filter1 = result[\"start_time\"] <= 150\n",
    "filter2 = result[\"end_time\"] >= 150\n",
    "result2 = result[filter1 & filter2]\n",
    "\n",
    "\n",
    "temp_group2 = result2.groupby(['cust','pin_pkg','prod_id','bd_id','Location','entity']) \n",
    "df_grp_entity2 = pd.DataFrame(temp_group2.groups.keys(),columns =['cust','pin_pkg','prod_id','bd_id','Location','entity'])\n",
    "grp_basis2 = df_grp_entity2.groupby(['cust','pin_pkg','prod_id','bd_id','Location'])\n",
    "\n",
    "\n",
    "dd1= pd.DataFrame(grp_basis.groups.keys())\n",
    "ddd1= pd.DataFrame(list(grp_basis.size()))\n",
    "a0 = pd.concat([dd1, ddd1], axis=1)\n",
    "a0.columns=['cust','pin_pkg','prod_id','bd_id','Location','Allocate ENT']\n",
    "\n",
    "dd= pd.DataFrame(grp_basis2.groups.keys())\n",
    "ddd= pd.DataFrame(list(grp_basis2.size()))\n",
    "a = pd.concat([dd, ddd], axis=1)\n",
    "a.columns=['cust','pin_pkg','prod_id','bd_id','Location','Original ENT(11:00)']\n",
    "\n",
    "result__ = pd.merge(a0, a, on =(['cust','pin_pkg','prod_id','bd_id','Location']), how ='left')\n",
    "# 待驗證\n",
    "# change column sequence\n",
    "new = result__[['cust','pin_pkg','prod_id','bd_id','Location','Original ENT(11:00)','Allocate ENT']]\n",
    "new1 = new.fillna(0)\n",
    "new1"
   ]
  },
  {
   "cell_type": "code",
   "execution_count": 21,
   "metadata": {},
   "outputs": [
    {
     "data": {
      "application/vnd.plotly.v1+json": {
       "config": {
        "plotlyServerURL": "https://plot.ly"
       },
       "data": [
        {
         "alignmentgroup": "True",
         "base": [
          "2009-01-01"
         ],
         "hovertemplate": "Task=%{text}<br>Start=%{base}<br>Finish=%{x}<br>Resource=%{y}<extra></extra>",
         "legendgroup": "Job A",
         "marker": {
          "color": "#F0F8FF"
         },
         "name": "Job A",
         "offsetgroup": "Job A",
         "orientation": "h",
         "showlegend": true,
         "text": [
          "Job A"
         ],
         "textposition": "auto",
         "type": "bar",
         "x": [
          5011200000
         ],
         "xaxis": "x",
         "y": [
          "Alex"
         ],
         "yaxis": "y"
        },
        {
         "alignmentgroup": "True",
         "base": [
          "2009-03-05"
         ],
         "hovertemplate": "Task=%{text}<br>Start=%{base}<br>Finish=%{x}<br>Resource=%{y}<extra></extra>",
         "legendgroup": "Job B",
         "marker": {
          "color": "#FAEBD7"
         },
         "name": "Job B",
         "offsetgroup": "Job B",
         "orientation": "h",
         "showlegend": true,
         "text": [
          "Job B"
         ],
         "textposition": "auto",
         "type": "bar",
         "x": [
          3542400000
         ],
         "xaxis": "x",
         "y": [
          "Alex"
         ],
         "yaxis": "y"
        },
        {
         "alignmentgroup": "True",
         "base": [
          "2009-02-20"
         ],
         "hovertemplate": "Task=%{text}<br>Start=%{base}<br>Finish=%{x}<br>Resource=%{y}<extra></extra>",
         "legendgroup": "Job C",
         "marker": {
          "color": "#00FFFF"
         },
         "name": "Job C",
         "offsetgroup": "Job C",
         "orientation": "h",
         "showlegend": true,
         "text": [
          "Job C"
         ],
         "textposition": "auto",
         "type": "bar",
         "x": [
          8553600000
         ],
         "xaxis": "x",
         "y": [
          "Max"
         ],
         "yaxis": "y"
        }
       ],
       "layout": {
        "barmode": "overlay",
        "legend": {
         "title": {
          "text": "Task"
         },
         "tracegroupgap": 0
        },
        "margin": {
         "t": 60
        },
        "template": {
         "data": {
          "bar": [
           {
            "error_x": {
             "color": "#2a3f5f"
            },
            "error_y": {
             "color": "#2a3f5f"
            },
            "marker": {
             "line": {
              "color": "#E5ECF6",
              "width": 0.5
             }
            },
            "type": "bar"
           }
          ],
          "barpolar": [
           {
            "marker": {
             "line": {
              "color": "#E5ECF6",
              "width": 0.5
             }
            },
            "type": "barpolar"
           }
          ],
          "carpet": [
           {
            "aaxis": {
             "endlinecolor": "#2a3f5f",
             "gridcolor": "white",
             "linecolor": "white",
             "minorgridcolor": "white",
             "startlinecolor": "#2a3f5f"
            },
            "baxis": {
             "endlinecolor": "#2a3f5f",
             "gridcolor": "white",
             "linecolor": "white",
             "minorgridcolor": "white",
             "startlinecolor": "#2a3f5f"
            },
            "type": "carpet"
           }
          ],
          "choropleth": [
           {
            "colorbar": {
             "outlinewidth": 0,
             "ticks": ""
            },
            "type": "choropleth"
           }
          ],
          "contour": [
           {
            "colorbar": {
             "outlinewidth": 0,
             "ticks": ""
            },
            "colorscale": [
             [
              0,
              "#0d0887"
             ],
             [
              0.1111111111111111,
              "#46039f"
             ],
             [
              0.2222222222222222,
              "#7201a8"
             ],
             [
              0.3333333333333333,
              "#9c179e"
             ],
             [
              0.4444444444444444,
              "#bd3786"
             ],
             [
              0.5555555555555556,
              "#d8576b"
             ],
             [
              0.6666666666666666,
              "#ed7953"
             ],
             [
              0.7777777777777778,
              "#fb9f3a"
             ],
             [
              0.8888888888888888,
              "#fdca26"
             ],
             [
              1,
              "#f0f921"
             ]
            ],
            "type": "contour"
           }
          ],
          "contourcarpet": [
           {
            "colorbar": {
             "outlinewidth": 0,
             "ticks": ""
            },
            "type": "contourcarpet"
           }
          ],
          "heatmap": [
           {
            "colorbar": {
             "outlinewidth": 0,
             "ticks": ""
            },
            "colorscale": [
             [
              0,
              "#0d0887"
             ],
             [
              0.1111111111111111,
              "#46039f"
             ],
             [
              0.2222222222222222,
              "#7201a8"
             ],
             [
              0.3333333333333333,
              "#9c179e"
             ],
             [
              0.4444444444444444,
              "#bd3786"
             ],
             [
              0.5555555555555556,
              "#d8576b"
             ],
             [
              0.6666666666666666,
              "#ed7953"
             ],
             [
              0.7777777777777778,
              "#fb9f3a"
             ],
             [
              0.8888888888888888,
              "#fdca26"
             ],
             [
              1,
              "#f0f921"
             ]
            ],
            "type": "heatmap"
           }
          ],
          "heatmapgl": [
           {
            "colorbar": {
             "outlinewidth": 0,
             "ticks": ""
            },
            "colorscale": [
             [
              0,
              "#0d0887"
             ],
             [
              0.1111111111111111,
              "#46039f"
             ],
             [
              0.2222222222222222,
              "#7201a8"
             ],
             [
              0.3333333333333333,
              "#9c179e"
             ],
             [
              0.4444444444444444,
              "#bd3786"
             ],
             [
              0.5555555555555556,
              "#d8576b"
             ],
             [
              0.6666666666666666,
              "#ed7953"
             ],
             [
              0.7777777777777778,
              "#fb9f3a"
             ],
             [
              0.8888888888888888,
              "#fdca26"
             ],
             [
              1,
              "#f0f921"
             ]
            ],
            "type": "heatmapgl"
           }
          ],
          "histogram": [
           {
            "marker": {
             "colorbar": {
              "outlinewidth": 0,
              "ticks": ""
             }
            },
            "type": "histogram"
           }
          ],
          "histogram2d": [
           {
            "colorbar": {
             "outlinewidth": 0,
             "ticks": ""
            },
            "colorscale": [
             [
              0,
              "#0d0887"
             ],
             [
              0.1111111111111111,
              "#46039f"
             ],
             [
              0.2222222222222222,
              "#7201a8"
             ],
             [
              0.3333333333333333,
              "#9c179e"
             ],
             [
              0.4444444444444444,
              "#bd3786"
             ],
             [
              0.5555555555555556,
              "#d8576b"
             ],
             [
              0.6666666666666666,
              "#ed7953"
             ],
             [
              0.7777777777777778,
              "#fb9f3a"
             ],
             [
              0.8888888888888888,
              "#fdca26"
             ],
             [
              1,
              "#f0f921"
             ]
            ],
            "type": "histogram2d"
           }
          ],
          "histogram2dcontour": [
           {
            "colorbar": {
             "outlinewidth": 0,
             "ticks": ""
            },
            "colorscale": [
             [
              0,
              "#0d0887"
             ],
             [
              0.1111111111111111,
              "#46039f"
             ],
             [
              0.2222222222222222,
              "#7201a8"
             ],
             [
              0.3333333333333333,
              "#9c179e"
             ],
             [
              0.4444444444444444,
              "#bd3786"
             ],
             [
              0.5555555555555556,
              "#d8576b"
             ],
             [
              0.6666666666666666,
              "#ed7953"
             ],
             [
              0.7777777777777778,
              "#fb9f3a"
             ],
             [
              0.8888888888888888,
              "#fdca26"
             ],
             [
              1,
              "#f0f921"
             ]
            ],
            "type": "histogram2dcontour"
           }
          ],
          "mesh3d": [
           {
            "colorbar": {
             "outlinewidth": 0,
             "ticks": ""
            },
            "type": "mesh3d"
           }
          ],
          "parcoords": [
           {
            "line": {
             "colorbar": {
              "outlinewidth": 0,
              "ticks": ""
             }
            },
            "type": "parcoords"
           }
          ],
          "pie": [
           {
            "automargin": true,
            "type": "pie"
           }
          ],
          "scatter": [
           {
            "marker": {
             "colorbar": {
              "outlinewidth": 0,
              "ticks": ""
             }
            },
            "type": "scatter"
           }
          ],
          "scatter3d": [
           {
            "line": {
             "colorbar": {
              "outlinewidth": 0,
              "ticks": ""
             }
            },
            "marker": {
             "colorbar": {
              "outlinewidth": 0,
              "ticks": ""
             }
            },
            "type": "scatter3d"
           }
          ],
          "scattercarpet": [
           {
            "marker": {
             "colorbar": {
              "outlinewidth": 0,
              "ticks": ""
             }
            },
            "type": "scattercarpet"
           }
          ],
          "scattergeo": [
           {
            "marker": {
             "colorbar": {
              "outlinewidth": 0,
              "ticks": ""
             }
            },
            "type": "scattergeo"
           }
          ],
          "scattergl": [
           {
            "marker": {
             "colorbar": {
              "outlinewidth": 0,
              "ticks": ""
             }
            },
            "type": "scattergl"
           }
          ],
          "scattermapbox": [
           {
            "marker": {
             "colorbar": {
              "outlinewidth": 0,
              "ticks": ""
             }
            },
            "type": "scattermapbox"
           }
          ],
          "scatterpolar": [
           {
            "marker": {
             "colorbar": {
              "outlinewidth": 0,
              "ticks": ""
             }
            },
            "type": "scatterpolar"
           }
          ],
          "scatterpolargl": [
           {
            "marker": {
             "colorbar": {
              "outlinewidth": 0,
              "ticks": ""
             }
            },
            "type": "scatterpolargl"
           }
          ],
          "scatterternary": [
           {
            "marker": {
             "colorbar": {
              "outlinewidth": 0,
              "ticks": ""
             }
            },
            "type": "scatterternary"
           }
          ],
          "surface": [
           {
            "colorbar": {
             "outlinewidth": 0,
             "ticks": ""
            },
            "colorscale": [
             [
              0,
              "#0d0887"
             ],
             [
              0.1111111111111111,
              "#46039f"
             ],
             [
              0.2222222222222222,
              "#7201a8"
             ],
             [
              0.3333333333333333,
              "#9c179e"
             ],
             [
              0.4444444444444444,
              "#bd3786"
             ],
             [
              0.5555555555555556,
              "#d8576b"
             ],
             [
              0.6666666666666666,
              "#ed7953"
             ],
             [
              0.7777777777777778,
              "#fb9f3a"
             ],
             [
              0.8888888888888888,
              "#fdca26"
             ],
             [
              1,
              "#f0f921"
             ]
            ],
            "type": "surface"
           }
          ],
          "table": [
           {
            "cells": {
             "fill": {
              "color": "#EBF0F8"
             },
             "line": {
              "color": "white"
             }
            },
            "header": {
             "fill": {
              "color": "#C8D4E3"
             },
             "line": {
              "color": "white"
             }
            },
            "type": "table"
           }
          ]
         },
         "layout": {
          "annotationdefaults": {
           "arrowcolor": "#2a3f5f",
           "arrowhead": 0,
           "arrowwidth": 1
          },
          "autotypenumbers": "strict",
          "coloraxis": {
           "colorbar": {
            "outlinewidth": 0,
            "ticks": ""
           }
          },
          "colorscale": {
           "diverging": [
            [
             0,
             "#8e0152"
            ],
            [
             0.1,
             "#c51b7d"
            ],
            [
             0.2,
             "#de77ae"
            ],
            [
             0.3,
             "#f1b6da"
            ],
            [
             0.4,
             "#fde0ef"
            ],
            [
             0.5,
             "#f7f7f7"
            ],
            [
             0.6,
             "#e6f5d0"
            ],
            [
             0.7,
             "#b8e186"
            ],
            [
             0.8,
             "#7fbc41"
            ],
            [
             0.9,
             "#4d9221"
            ],
            [
             1,
             "#276419"
            ]
           ],
           "sequential": [
            [
             0,
             "#0d0887"
            ],
            [
             0.1111111111111111,
             "#46039f"
            ],
            [
             0.2222222222222222,
             "#7201a8"
            ],
            [
             0.3333333333333333,
             "#9c179e"
            ],
            [
             0.4444444444444444,
             "#bd3786"
            ],
            [
             0.5555555555555556,
             "#d8576b"
            ],
            [
             0.6666666666666666,
             "#ed7953"
            ],
            [
             0.7777777777777778,
             "#fb9f3a"
            ],
            [
             0.8888888888888888,
             "#fdca26"
            ],
            [
             1,
             "#f0f921"
            ]
           ],
           "sequentialminus": [
            [
             0,
             "#0d0887"
            ],
            [
             0.1111111111111111,
             "#46039f"
            ],
            [
             0.2222222222222222,
             "#7201a8"
            ],
            [
             0.3333333333333333,
             "#9c179e"
            ],
            [
             0.4444444444444444,
             "#bd3786"
            ],
            [
             0.5555555555555556,
             "#d8576b"
            ],
            [
             0.6666666666666666,
             "#ed7953"
            ],
            [
             0.7777777777777778,
             "#fb9f3a"
            ],
            [
             0.8888888888888888,
             "#fdca26"
            ],
            [
             1,
             "#f0f921"
            ]
           ]
          },
          "colorway": [
           "#636efa",
           "#EF553B",
           "#00cc96",
           "#ab63fa",
           "#FFA15A",
           "#19d3f3",
           "#FF6692",
           "#B6E880",
           "#FF97FF",
           "#FECB52"
          ],
          "font": {
           "color": "#2a3f5f"
          },
          "geo": {
           "bgcolor": "white",
           "lakecolor": "white",
           "landcolor": "#E5ECF6",
           "showlakes": true,
           "showland": true,
           "subunitcolor": "white"
          },
          "hoverlabel": {
           "align": "left"
          },
          "hovermode": "closest",
          "mapbox": {
           "style": "light"
          },
          "paper_bgcolor": "white",
          "plot_bgcolor": "#E5ECF6",
          "polar": {
           "angularaxis": {
            "gridcolor": "white",
            "linecolor": "white",
            "ticks": ""
           },
           "bgcolor": "#E5ECF6",
           "radialaxis": {
            "gridcolor": "white",
            "linecolor": "white",
            "ticks": ""
           }
          },
          "scene": {
           "xaxis": {
            "backgroundcolor": "#E5ECF6",
            "gridcolor": "white",
            "gridwidth": 2,
            "linecolor": "white",
            "showbackground": true,
            "ticks": "",
            "zerolinecolor": "white"
           },
           "yaxis": {
            "backgroundcolor": "#E5ECF6",
            "gridcolor": "white",
            "gridwidth": 2,
            "linecolor": "white",
            "showbackground": true,
            "ticks": "",
            "zerolinecolor": "white"
           },
           "zaxis": {
            "backgroundcolor": "#E5ECF6",
            "gridcolor": "white",
            "gridwidth": 2,
            "linecolor": "white",
            "showbackground": true,
            "ticks": "",
            "zerolinecolor": "white"
           }
          },
          "shapedefaults": {
           "line": {
            "color": "#2a3f5f"
           }
          },
          "ternary": {
           "aaxis": {
            "gridcolor": "white",
            "linecolor": "white",
            "ticks": ""
           },
           "baxis": {
            "gridcolor": "white",
            "linecolor": "white",
            "ticks": ""
           },
           "bgcolor": "#E5ECF6",
           "caxis": {
            "gridcolor": "white",
            "linecolor": "white",
            "ticks": ""
           }
          },
          "title": {
           "x": 0.05
          },
          "xaxis": {
           "automargin": true,
           "gridcolor": "white",
           "linecolor": "white",
           "ticks": "",
           "title": {
            "standoff": 15
           },
           "zerolinecolor": "white",
           "zerolinewidth": 2
          },
          "yaxis": {
           "automargin": true,
           "gridcolor": "white",
           "linecolor": "white",
           "ticks": "",
           "title": {
            "standoff": 15
           },
           "zerolinecolor": "white",
           "zerolinewidth": 2
          }
         }
        },
        "xaxis": {
         "anchor": "y",
         "domain": [
          0,
          1
         ],
         "type": "date"
        },
        "yaxis": {
         "anchor": "x",
         "domain": [
          0,
          1
         ],
         "title": {
          "text": "Resource"
         }
        }
       }
      }
     },
     "metadata": {},
     "output_type": "display_data"
    }
   ],
   "source": [
    "## Gantt\n",
    "\n",
    "\n",
    "import plotly.express as px\n",
    "import pandas as pd\n",
    "import datetime\n",
    "\n",
    "df=[]\n",
    "color_discrete_sequence_list=['#F0F8FF','#FAEBD7','#00FFFF','#7FFFD4','#F0FFFF','#F5F5DC','#FFE4C4',\n",
    "            '#000000','#FFEBCD','#0000FF','#8A2BE2','#A52A2A','#DEB887','#5F9EA0',\n",
    "            '#7FFF00','#D2691E','#FF7F50','#6495ED','#FFF8DC','#DC143C','#00FFFF',\n",
    "            '#00008B','#008B8B','#B8860B','#A9A9A9','#006400','#BDB76B','#8B008B',\n",
    "            '#556B2F','#FF8C00','#9932CC','#8B0000','#E9967A','#8FBC8F','#483D8B',\n",
    "            '#2F4F4F','#00CED1','#9400D3','#FF1493','#00BFFF','#696969','#1E90FF',\n",
    "            '#B22222','#FFFAF0','#228B22','#FF00FF','#DCDCDC','#F8F8FF','#FFD700',\n",
    "            '#DAA520','#808080','#008000','#ADFF2F','#F0FFF0','#FF69B4','#CD5C5C',\n",
    "            '#4B0082','#FFFFF0','#F0E68C','#E6E6FA','#FFF0F5','#7CFC00','#FFFACD',\n",
    "            '#ADD8E6','#F08080','#E0FFFF','#FAFAD2','#90EE90','#D3D3D3','#FFB6C1',\n",
    "            '#FFA07A','#20B2AA','#87CEFA','#778899','#B0C4DE','#FFFFE0','#00FF00',\n",
    "            '#32CD32','#FAF0E6','#FF00FF','#800000','#66CDAA','#0000CD','#BA55D3',\n",
    "            '#9370DB','#3CB371','#7B68EE','#00FA9A','#48D1CC','#C71585','#191970',\n",
    "            '#F5FFFA','#FFE4E1','#FFE4B5','#FFDEAD','#000080','#FDF5E6','#808000',\n",
    "            '#6B8E23','#FFA500','#FF4500','#DA70D6','#EEE8AA','#98FB98','#AFEEEE',\n",
    "            '#DB7093','#FFEFD5','#FFDAB9','#CD853F','#FFC0CB','#DDA0DD','#B0E0E6',\n",
    "            '#800080','#FF0000','#BC8F8F','#4169E1','#8B4513','#FA8072','#FAA460',\n",
    "            '#2E8B57','#FFF5EE','#A0522D','#C0C0C0','#87CEEB','#6A5ACD','#708090',\n",
    "            '#FFFAFA','#00FF7F','#4682B4','#D2B48C','#008080','#D8BFD8','#FF6347',\n",
    "            '#40E0D0','#EE82EE','#F5DEB3','#FFFFFF','#F5F5F5','#FFFF00','#9ACD32']\n",
    "\n",
    "df = pd.DataFrame([\n",
    "    dict(Task=\"Job A\", Start='2009-01-01', Finish='2009-02-28', Resource=\"Alex\"),\n",
    "    dict(Task=\"Job \", Start='2009-03-05', Finish='2009-04-15', Resource=\"Alex\"),\n",
    "    dict(Task=\"Job B\", Start='2009-03-05', Finish='2009-04-15', Resource=\"Alex\"),\n",
    "    dict(Task=\"Job B\", Start='2009-03-05', Finish='2009-04-15', Resource=\"Alex\"),\n",
    "    dict(Task=\"Job B\", Start='2009-03-05', Finish='2009-04-15', Resource=\"Alex\"),\n",
    "    dict(Task=\"Job B\", Start='2009-03-05', Finish='2009-04-15', Resource=\"Alex\"),\n",
    "    dict(Task=\"Job B\", Start='2009-03-05', Finish='2009-04-15', Resource=\"Alex\"),\n",
    "    dict(Task=\"Job B\", Start='2009-03-05', Finish='2009-04-15', Resource=\"Alex\"),\n",
    "    dict(Task=\"Job B\", Start='2009-03-05', Finish='2009-04-15', Resource=\"Alex\"),\n",
    "    dict(Task=\"Job B\", Start='2009-03-05', Finish='2009-04-15', Resource=\"Alex\"),\n",
    "    dict(Task=\"Job C\", Start='2009-02-20', Finish='2009-05-30', Resource=\"Max\")\n",
    "])\n",
    "Map={'Job A':'#F0F8FF','Job B':'#FAEBD7','Job C':'#9932CC'}\n",
    "\n",
    "#呈現圖表\n",
    "fig = px.timeline(df, x_start=\"Start\", x_end=\"Finish\", y=\"Resource\", color=\"Task\",color_discrete_sequence=color_discrete_sequence_list ,text=\"Task\")\n",
    "fig.show()"
   ]
  },
  {
   "cell_type": "code",
   "execution_count": 19,
   "metadata": {},
   "outputs": [
    {
     "data": {
      "text/plain": [
       "['#636EFA',\n",
       " '#EF553B',\n",
       " '#00CC96',\n",
       " '#AB63FA',\n",
       " '#FFA15A',\n",
       " '#19D3F3',\n",
       " '#FF6692',\n",
       " '#B6E880',\n",
       " '#FF97FF',\n",
       " '#FECB52',\n",
       " '#000000']"
      ]
     },
     "execution_count": 19,
     "metadata": {},
     "output_type": "execute_result"
    }
   ],
   "source": [
    "## 0707 output entity 7/8 \n",
    "import csv\n",
    "import pandas as pd\n",
    "import numpy as np  \n",
    "\n",
    "## ini time\n",
    "relative_time_1 = 0        # >8:30\n",
    "relative_time_2 = 150      # >11:00\n",
    "\n",
    "# read csv data\n",
    "df1 = pd.read_csv(\"result(0707_2).csv\")\n",
    "result=df1.groupby('bd_id')\n",
    "result.size()\n",
    "px.colors.qualitative.Plotly "
   ]
  },
  {
   "cell_type": "code",
   "execution_count": null,
   "metadata": {},
   "outputs": [],
   "source": []
  }
 ],
 "metadata": {
  "interpreter": {
   "hash": "fecc7229ad774fa19fd101b22e17e742882d1e89970eef6bf6be04bde63233fb"
  },
  "kernelspec": {
   "display_name": "Python 3.9.2 64-bit",
   "name": "python3"
  },
  "language_info": {
   "codemirror_mode": {
    "name": "ipython",
    "version": 3
   },
   "file_extension": ".py",
   "mimetype": "text/x-python",
   "name": "python",
   "nbconvert_exporter": "python",
   "pygments_lexer": "ipython3",
   "version": "3.9.2"
  },
  "orig_nbformat": 2
 },
 "nbformat": 4,
 "nbformat_minor": 2
}
