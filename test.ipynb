{
 "metadata": {
  "language_info": {
   "codemirror_mode": {
    "name": "ipython",
    "version": 3
   },
   "file_extension": ".py",
   "mimetype": "text/x-python",
   "name": "python",
   "nbconvert_exporter": "python",
   "pygments_lexer": "ipython3",
   "version": "3.9.2"
  },
  "orig_nbformat": 2,
  "kernelspec": {
   "name": "python3",
   "display_name": "Python 3.9.2 64-bit"
  },
  "interpreter": {
   "hash": "fecc7229ad774fa19fd101b22e17e742882d1e89970eef6bf6be04bde63233fb"
  }
 },
 "nbformat": 4,
 "nbformat_minor": 2,
 "cells": [
  {
   "cell_type": "code",
   "execution_count": 3,
   "metadata": {},
   "outputs": [
    {
     "output_type": "stream",
     "name": "stdout",
     "text": [
      "5\n1\n2\n3\n4\n5\n"
     ]
    }
   ],
   "source": [
    "jobs=[2,3,4,5,6]\n",
    "size=range(1,len(jobs)+1) 1-5\n",
    "print(len(jobs))\n",
    "for i in size:\n",
    "    print(i)"
   ]
  },
  {
   "cell_type": "code",
   "execution_count": 4,
   "metadata": {},
   "outputs": [
    {
     "output_type": "error",
     "ename": "TypeError",
     "evalue": "Both x_start and x_end must refer to data convertible to datetimes.",
     "traceback": [
      "\u001b[1;31m---------------------------------------------------------------------------\u001b[0m",
      "\u001b[1;31mTypeError\u001b[0m                                 Traceback (most recent call last)",
      "\u001b[1;32m~\\AppData\\Local\\Programs\\Python\\Python38\\lib\\site-packages\\pandas\\core\\arrays\\datetimes.py\u001b[0m in \u001b[0;36mobjects_to_datetime64ns\u001b[1;34m(data, dayfirst, yearfirst, utc, errors, require_iso8601, allow_object)\u001b[0m\n\u001b[0;32m   2053\u001b[0m         \u001b[1;32mtry\u001b[0m\u001b[1;33m:\u001b[0m\u001b[1;33m\u001b[0m\u001b[1;33m\u001b[0m\u001b[0m\n\u001b[1;32m-> 2054\u001b[1;33m             \u001b[0mvalues\u001b[0m\u001b[1;33m,\u001b[0m \u001b[0mtz_parsed\u001b[0m \u001b[1;33m=\u001b[0m \u001b[0mconversion\u001b[0m\u001b[1;33m.\u001b[0m\u001b[0mdatetime_to_datetime64\u001b[0m\u001b[1;33m(\u001b[0m\u001b[0mdata\u001b[0m\u001b[1;33m)\u001b[0m\u001b[1;33m\u001b[0m\u001b[1;33m\u001b[0m\u001b[0m\n\u001b[0m\u001b[0;32m   2055\u001b[0m             \u001b[1;31m# If tzaware, these values represent unix timestamps, so we\u001b[0m\u001b[1;33m\u001b[0m\u001b[1;33m\u001b[0m\u001b[1;33m\u001b[0m\u001b[0m\n",
      "\u001b[1;32mpandas\\_libs\\tslibs\\conversion.pyx\u001b[0m in \u001b[0;36mpandas._libs.tslibs.conversion.datetime_to_datetime64\u001b[1;34m()\u001b[0m\n",
      "\u001b[1;31mTypeError\u001b[0m: Unrecognized value type: <class 'str'>",
      "\nDuring handling of the above exception, another exception occurred:\n",
      "\u001b[1;31mParserError\u001b[0m                               Traceback (most recent call last)",
      "\u001b[1;32m~\\AppData\\Local\\Programs\\Python\\Python38\\lib\\site-packages\\plotly\\express\\_core.py\u001b[0m in \u001b[0;36mprocess_dataframe_timeline\u001b[1;34m(args)\u001b[0m\n\u001b[0;32m   1611\u001b[0m         \u001b[0mx_start\u001b[0m \u001b[1;33m=\u001b[0m \u001b[0mpd\u001b[0m\u001b[1;33m.\u001b[0m\u001b[0mto_datetime\u001b[0m\u001b[1;33m(\u001b[0m\u001b[0margs\u001b[0m\u001b[1;33m[\u001b[0m\u001b[1;34m\"data_frame\"\u001b[0m\u001b[1;33m]\u001b[0m\u001b[1;33m[\u001b[0m\u001b[0margs\u001b[0m\u001b[1;33m[\u001b[0m\u001b[1;34m\"x_start\"\u001b[0m\u001b[1;33m]\u001b[0m\u001b[1;33m]\u001b[0m\u001b[1;33m)\u001b[0m\u001b[1;33m\u001b[0m\u001b[1;33m\u001b[0m\u001b[0m\n\u001b[1;32m-> 1612\u001b[1;33m         \u001b[0mx_end\u001b[0m \u001b[1;33m=\u001b[0m \u001b[0mpd\u001b[0m\u001b[1;33m.\u001b[0m\u001b[0mto_datetime\u001b[0m\u001b[1;33m(\u001b[0m\u001b[0margs\u001b[0m\u001b[1;33m[\u001b[0m\u001b[1;34m\"data_frame\"\u001b[0m\u001b[1;33m]\u001b[0m\u001b[1;33m[\u001b[0m\u001b[0margs\u001b[0m\u001b[1;33m[\u001b[0m\u001b[1;34m\"x_end\"\u001b[0m\u001b[1;33m]\u001b[0m\u001b[1;33m]\u001b[0m\u001b[1;33m)\u001b[0m\u001b[1;33m\u001b[0m\u001b[1;33m\u001b[0m\u001b[0m\n\u001b[0m\u001b[0;32m   1613\u001b[0m     \u001b[1;32mexcept\u001b[0m \u001b[1;33m(\u001b[0m\u001b[0mValueError\u001b[0m\u001b[1;33m,\u001b[0m \u001b[0mTypeError\u001b[0m\u001b[1;33m)\u001b[0m\u001b[1;33m:\u001b[0m\u001b[1;33m\u001b[0m\u001b[1;33m\u001b[0m\u001b[0m\n",
      "\u001b[1;32m~\\AppData\\Local\\Programs\\Python\\Python38\\lib\\site-packages\\pandas\\core\\tools\\datetimes.py\u001b[0m in \u001b[0;36mto_datetime\u001b[1;34m(arg, errors, dayfirst, yearfirst, utc, format, exact, unit, infer_datetime_format, origin, cache)\u001b[0m\n\u001b[0;32m    802\u001b[0m         \u001b[1;32melse\u001b[0m\u001b[1;33m:\u001b[0m\u001b[1;33m\u001b[0m\u001b[1;33m\u001b[0m\u001b[0m\n\u001b[1;32m--> 803\u001b[1;33m             \u001b[0mvalues\u001b[0m \u001b[1;33m=\u001b[0m \u001b[0mconvert_listlike\u001b[0m\u001b[1;33m(\u001b[0m\u001b[0marg\u001b[0m\u001b[1;33m.\u001b[0m\u001b[0m_values\u001b[0m\u001b[1;33m,\u001b[0m \u001b[0mformat\u001b[0m\u001b[1;33m)\u001b[0m\u001b[1;33m\u001b[0m\u001b[1;33m\u001b[0m\u001b[0m\n\u001b[0m\u001b[0;32m    804\u001b[0m             \u001b[0mresult\u001b[0m \u001b[1;33m=\u001b[0m \u001b[0marg\u001b[0m\u001b[1;33m.\u001b[0m\u001b[0m_constructor\u001b[0m\u001b[1;33m(\u001b[0m\u001b[0mvalues\u001b[0m\u001b[1;33m,\u001b[0m \u001b[0mindex\u001b[0m\u001b[1;33m=\u001b[0m\u001b[0marg\u001b[0m\u001b[1;33m.\u001b[0m\u001b[0mindex\u001b[0m\u001b[1;33m,\u001b[0m \u001b[0mname\u001b[0m\u001b[1;33m=\u001b[0m\u001b[0marg\u001b[0m\u001b[1;33m.\u001b[0m\u001b[0mname\u001b[0m\u001b[1;33m)\u001b[0m\u001b[1;33m\u001b[0m\u001b[1;33m\u001b[0m\u001b[0m\n",
      "\u001b[1;32m~\\AppData\\Local\\Programs\\Python\\Python38\\lib\\site-packages\\pandas\\core\\tools\\datetimes.py\u001b[0m in \u001b[0;36m_convert_listlike_datetimes\u001b[1;34m(arg, format, name, tz, unit, errors, infer_datetime_format, dayfirst, yearfirst, exact)\u001b[0m\n\u001b[0;32m    458\u001b[0m         \u001b[0mutc\u001b[0m \u001b[1;33m=\u001b[0m \u001b[0mtz\u001b[0m \u001b[1;33m==\u001b[0m \u001b[1;34m\"utc\"\u001b[0m\u001b[1;33m\u001b[0m\u001b[1;33m\u001b[0m\u001b[0m\n\u001b[1;32m--> 459\u001b[1;33m         result, tz_parsed = objects_to_datetime64ns(\n\u001b[0m\u001b[0;32m    460\u001b[0m             \u001b[0marg\u001b[0m\u001b[1;33m,\u001b[0m\u001b[1;33m\u001b[0m\u001b[1;33m\u001b[0m\u001b[0m\n",
      "\u001b[1;32m~\\AppData\\Local\\Programs\\Python\\Python38\\lib\\site-packages\\pandas\\core\\arrays\\datetimes.py\u001b[0m in \u001b[0;36mobjects_to_datetime64ns\u001b[1;34m(data, dayfirst, yearfirst, utc, errors, require_iso8601, allow_object)\u001b[0m\n\u001b[0;32m   2058\u001b[0m         \u001b[1;32mexcept\u001b[0m \u001b[1;33m(\u001b[0m\u001b[0mValueError\u001b[0m\u001b[1;33m,\u001b[0m \u001b[0mTypeError\u001b[0m\u001b[1;33m)\u001b[0m\u001b[1;33m:\u001b[0m\u001b[1;33m\u001b[0m\u001b[1;33m\u001b[0m\u001b[0m\n\u001b[1;32m-> 2059\u001b[1;33m             \u001b[1;32mraise\u001b[0m \u001b[0me\u001b[0m\u001b[1;33m\u001b[0m\u001b[1;33m\u001b[0m\u001b[0m\n\u001b[0m\u001b[0;32m   2060\u001b[0m \u001b[1;33m\u001b[0m\u001b[0m\n",
      "\u001b[1;32m~\\AppData\\Local\\Programs\\Python\\Python38\\lib\\site-packages\\pandas\\core\\arrays\\datetimes.py\u001b[0m in \u001b[0;36mobjects_to_datetime64ns\u001b[1;34m(data, dayfirst, yearfirst, utc, errors, require_iso8601, allow_object)\u001b[0m\n\u001b[0;32m   2043\u001b[0m     \u001b[1;32mtry\u001b[0m\u001b[1;33m:\u001b[0m\u001b[1;33m\u001b[0m\u001b[1;33m\u001b[0m\u001b[0m\n\u001b[1;32m-> 2044\u001b[1;33m         result, tz_parsed = tslib.array_to_datetime(\n\u001b[0m\u001b[0;32m   2045\u001b[0m             \u001b[0mdata\u001b[0m\u001b[1;33m,\u001b[0m\u001b[1;33m\u001b[0m\u001b[1;33m\u001b[0m\u001b[0m\n",
      "\u001b[1;32mpandas\\_libs\\tslib.pyx\u001b[0m in \u001b[0;36mpandas._libs.tslib.array_to_datetime\u001b[1;34m()\u001b[0m\n",
      "\u001b[1;32mpandas\\_libs\\tslib.pyx\u001b[0m in \u001b[0;36mpandas._libs.tslib.array_to_datetime\u001b[1;34m()\u001b[0m\n",
      "\u001b[1;32mpandas\\_libs\\tslib.pyx\u001b[0m in \u001b[0;36mpandas._libs.tslib.array_to_datetime_object\u001b[1;34m()\u001b[0m\n",
      "\u001b[1;32mpandas\\_libs\\tslib.pyx\u001b[0m in \u001b[0;36mpandas._libs.tslib.array_to_datetime_object\u001b[1;34m()\u001b[0m\n",
      "\u001b[1;32mpandas\\_libs\\tslibs\\parsing.pyx\u001b[0m in \u001b[0;36mpandas._libs.tslibs.parsing.parse_datetime_string\u001b[1;34m()\u001b[0m\n",
      "\u001b[1;32m~\\AppData\\Roaming\\Python\\Python38\\site-packages\\dateutil\\parser\\_parser.py\u001b[0m in \u001b[0;36mparse\u001b[1;34m(timestr, parserinfo, **kwargs)\u001b[0m\n\u001b[0;32m   1373\u001b[0m     \u001b[1;32melse\u001b[0m\u001b[1;33m:\u001b[0m\u001b[1;33m\u001b[0m\u001b[1;33m\u001b[0m\u001b[0m\n\u001b[1;32m-> 1374\u001b[1;33m         \u001b[1;32mreturn\u001b[0m \u001b[0mDEFAULTPARSER\u001b[0m\u001b[1;33m.\u001b[0m\u001b[0mparse\u001b[0m\u001b[1;33m(\u001b[0m\u001b[0mtimestr\u001b[0m\u001b[1;33m,\u001b[0m \u001b[1;33m**\u001b[0m\u001b[0mkwargs\u001b[0m\u001b[1;33m)\u001b[0m\u001b[1;33m\u001b[0m\u001b[1;33m\u001b[0m\u001b[0m\n\u001b[0m\u001b[0;32m   1375\u001b[0m \u001b[1;33m\u001b[0m\u001b[0m\n",
      "\u001b[1;32m~\\AppData\\Roaming\\Python\\Python38\\site-packages\\dateutil\\parser\\_parser.py\u001b[0m in \u001b[0;36mparse\u001b[1;34m(self, timestr, default, ignoretz, tzinfos, **kwargs)\u001b[0m\n\u001b[0;32m    648\u001b[0m         \u001b[1;32mif\u001b[0m \u001b[0mres\u001b[0m \u001b[1;32mis\u001b[0m \u001b[1;32mNone\u001b[0m\u001b[1;33m:\u001b[0m\u001b[1;33m\u001b[0m\u001b[1;33m\u001b[0m\u001b[0m\n\u001b[1;32m--> 649\u001b[1;33m             \u001b[1;32mraise\u001b[0m \u001b[0mParserError\u001b[0m\u001b[1;33m(\u001b[0m\u001b[1;34m\"Unknown string format: %s\"\u001b[0m\u001b[1;33m,\u001b[0m \u001b[0mtimestr\u001b[0m\u001b[1;33m)\u001b[0m\u001b[1;33m\u001b[0m\u001b[1;33m\u001b[0m\u001b[0m\n\u001b[0m\u001b[0;32m    650\u001b[0m \u001b[1;33m\u001b[0m\u001b[0m\n",
      "\u001b[1;31mParserError\u001b[0m: Unknown string format: 2020-11-07 6 days, 22:40:00",
      "\nDuring handling of the above exception, another exception occurred:\n",
      "\u001b[1;31mTypeError\u001b[0m                                 Traceback (most recent call last)",
      "\u001b[1;32m<ipython-input-4-f2595c704ce6>\u001b[0m in \u001b[0;36m<module>\u001b[1;34m\u001b[0m\n\u001b[0;32m     10\u001b[0m \u001b[1;33m\u001b[0m\u001b[0m\n\u001b[0;32m     11\u001b[0m \u001b[1;31m#呈現圖表\u001b[0m\u001b[1;33m\u001b[0m\u001b[1;33m\u001b[0m\u001b[1;33m\u001b[0m\u001b[0m\n\u001b[1;32m---> 12\u001b[1;33m \u001b[0mfig\u001b[0m \u001b[1;33m=\u001b[0m \u001b[0mpx\u001b[0m\u001b[1;33m.\u001b[0m\u001b[0mtimeline\u001b[0m\u001b[1;33m(\u001b[0m\u001b[0mdf\u001b[0m\u001b[1;33m,\u001b[0m \u001b[0mx_start\u001b[0m\u001b[1;33m=\u001b[0m\u001b[1;34m\"Start\"\u001b[0m\u001b[1;33m,\u001b[0m \u001b[0mx_end\u001b[0m\u001b[1;33m=\u001b[0m\u001b[1;34m\"Finish\"\u001b[0m\u001b[1;33m,\u001b[0m \u001b[0my\u001b[0m\u001b[1;33m=\u001b[0m\u001b[1;34m\"Resource\"\u001b[0m\u001b[1;33m,\u001b[0m \u001b[0mcolor\u001b[0m\u001b[1;33m=\u001b[0m\u001b[1;34m\"Task\"\u001b[0m\u001b[1;33m,\u001b[0m\u001b[0mtext\u001b[0m\u001b[1;33m=\u001b[0m\u001b[1;34m\"Task\"\u001b[0m\u001b[1;33m)\u001b[0m\u001b[1;33m\u001b[0m\u001b[1;33m\u001b[0m\u001b[0m\n\u001b[0m\u001b[0;32m     13\u001b[0m \u001b[0mfig\u001b[0m\u001b[1;33m.\u001b[0m\u001b[0mshow\u001b[0m\u001b[1;33m(\u001b[0m\u001b[1;33m)\u001b[0m\u001b[1;33m\u001b[0m\u001b[1;33m\u001b[0m\u001b[0m\n",
      "\u001b[1;32m~\\AppData\\Local\\Programs\\Python\\Python38\\lib\\site-packages\\plotly\\express\\_chart_types.py\u001b[0m in \u001b[0;36mtimeline\u001b[1;34m(data_frame, x_start, x_end, y, color, facet_row, facet_col, facet_col_wrap, facet_row_spacing, facet_col_spacing, hover_name, hover_data, custom_data, text, animation_frame, animation_group, category_orders, labels, color_discrete_sequence, color_discrete_map, color_continuous_scale, range_color, color_continuous_midpoint, opacity, range_x, range_y, title, template, width, height)\u001b[0m\n\u001b[0;32m    395\u001b[0m     \u001b[0mmark\u001b[0m \u001b[0mon\u001b[0m \u001b[0man\u001b[0m \u001b[0mx\u001b[0m \u001b[0maxis\u001b[0m \u001b[0mof\u001b[0m \u001b[0mtype\u001b[0m\u001b[0;31m \u001b[0m\u001b[0;31m`\u001b[0m\u001b[0mdate\u001b[0m\u001b[0;31m`\u001b[0m\u001b[1;33m,\u001b[0m \u001b[0mspanning\u001b[0m \u001b[1;32mfrom\u001b[0m\u001b[0;31m \u001b[0m\u001b[0;31m`\u001b[0m\u001b[0mx_start\u001b[0m\u001b[0;31m`\u001b[0m \u001b[0mto\u001b[0m\u001b[0;31m \u001b[0m\u001b[0;31m`\u001b[0m\u001b[0mx_end\u001b[0m\u001b[0;31m`\u001b[0m\u001b[1;33m.\u001b[0m\u001b[1;33m\u001b[0m\u001b[1;33m\u001b[0m\u001b[0m\n\u001b[0;32m    396\u001b[0m     \"\"\"\n\u001b[1;32m--> 397\u001b[1;33m     return make_figure(\n\u001b[0m\u001b[0;32m    398\u001b[0m         \u001b[0margs\u001b[0m\u001b[1;33m=\u001b[0m\u001b[0mlocals\u001b[0m\u001b[1;33m(\u001b[0m\u001b[1;33m)\u001b[0m\u001b[1;33m,\u001b[0m\u001b[1;33m\u001b[0m\u001b[1;33m\u001b[0m\u001b[0m\n\u001b[0;32m    399\u001b[0m         \u001b[0mconstructor\u001b[0m\u001b[1;33m=\u001b[0m\u001b[1;34m\"timeline\"\u001b[0m\u001b[1;33m,\u001b[0m\u001b[1;33m\u001b[0m\u001b[1;33m\u001b[0m\u001b[0m\n",
      "\u001b[1;32m~\\AppData\\Local\\Programs\\Python\\Python38\\lib\\site-packages\\plotly\\express\\_core.py\u001b[0m in \u001b[0;36mmake_figure\u001b[1;34m(args, constructor, trace_patch, layout_patch)\u001b[0m\n\u001b[0;32m   1829\u001b[0m     \u001b[1;32mif\u001b[0m \u001b[0mconstructor\u001b[0m \u001b[1;33m==\u001b[0m \u001b[1;34m\"timeline\"\u001b[0m\u001b[1;33m:\u001b[0m\u001b[1;33m\u001b[0m\u001b[1;33m\u001b[0m\u001b[0m\n\u001b[0;32m   1830\u001b[0m         \u001b[0mconstructor\u001b[0m \u001b[1;33m=\u001b[0m \u001b[0mgo\u001b[0m\u001b[1;33m.\u001b[0m\u001b[0mBar\u001b[0m\u001b[1;33m\u001b[0m\u001b[1;33m\u001b[0m\u001b[0m\n\u001b[1;32m-> 1831\u001b[1;33m         \u001b[0margs\u001b[0m \u001b[1;33m=\u001b[0m \u001b[0mprocess_dataframe_timeline\u001b[0m\u001b[1;33m(\u001b[0m\u001b[0margs\u001b[0m\u001b[1;33m)\u001b[0m\u001b[1;33m\u001b[0m\u001b[1;33m\u001b[0m\u001b[0m\n\u001b[0m\u001b[0;32m   1832\u001b[0m \u001b[1;33m\u001b[0m\u001b[0m\n\u001b[0;32m   1833\u001b[0m     trace_specs, grouped_mappings, sizeref, show_colorbar = infer_config(\n",
      "\u001b[1;32m~\\AppData\\Local\\Programs\\Python\\Python38\\lib\\site-packages\\plotly\\express\\_core.py\u001b[0m in \u001b[0;36mprocess_dataframe_timeline\u001b[1;34m(args)\u001b[0m\n\u001b[0;32m   1612\u001b[0m         \u001b[0mx_end\u001b[0m \u001b[1;33m=\u001b[0m \u001b[0mpd\u001b[0m\u001b[1;33m.\u001b[0m\u001b[0mto_datetime\u001b[0m\u001b[1;33m(\u001b[0m\u001b[0margs\u001b[0m\u001b[1;33m[\u001b[0m\u001b[1;34m\"data_frame\"\u001b[0m\u001b[1;33m]\u001b[0m\u001b[1;33m[\u001b[0m\u001b[0margs\u001b[0m\u001b[1;33m[\u001b[0m\u001b[1;34m\"x_end\"\u001b[0m\u001b[1;33m]\u001b[0m\u001b[1;33m]\u001b[0m\u001b[1;33m)\u001b[0m\u001b[1;33m\u001b[0m\u001b[1;33m\u001b[0m\u001b[0m\n\u001b[0;32m   1613\u001b[0m     \u001b[1;32mexcept\u001b[0m \u001b[1;33m(\u001b[0m\u001b[0mValueError\u001b[0m\u001b[1;33m,\u001b[0m \u001b[0mTypeError\u001b[0m\u001b[1;33m)\u001b[0m\u001b[1;33m:\u001b[0m\u001b[1;33m\u001b[0m\u001b[1;33m\u001b[0m\u001b[0m\n\u001b[1;32m-> 1614\u001b[1;33m         raise TypeError(\n\u001b[0m\u001b[0;32m   1615\u001b[0m             \u001b[1;34m\"Both x_start and x_end must refer to data convertible to datetimes.\"\u001b[0m\u001b[1;33m\u001b[0m\u001b[1;33m\u001b[0m\u001b[0m\n\u001b[0;32m   1616\u001b[0m         )\n",
      "\u001b[1;31mTypeError\u001b[0m: Both x_start and x_end must refer to data convertible to datetimes."
     ]
    }
   ],
   "source": [
    "import plotly.express as px\n",
    "import datetime\n",
    "import pandas as pd\n",
    "\n",
    "df=[]\n",
    "  \n",
    "df.append(dict(Task=\"J1\", Start='2020-11-07 %s'%datetime.timedelta(minutes=10),\n",
    "Finish='2020-11-07 %s'%datetime.timedelta(minutes=10000),Resource=\"M1\"))\n",
    "\n",
    "\n",
    "#呈現圖表\n",
    "fig = px.timeline(df, x_start=\"Start\", x_end=\"Finish\", y=\"Resource\", color=\"Task\",text=\"Task\")\n",
    "fig.show()\n"
   ]
  },
  {
   "cell_type": "code",
   "execution_count": 3,
   "metadata": {},
   "outputs": [],
   "source": [
    "import pandas as pd\n",
    "import json\n",
    "# from wip import WIP\n",
    "\n",
    "class Job():\n",
    "    def __init__(self, configure, processTime):\n",
    "        self.configure = configure  #fix\n",
    "        self.processTime = processTime[processTime[\"RECIPE\"] == self.configure[\"RECIPE\"]] #fix\n",
    "        self.startTime = 0 #var\n",
    "        self.machineID = ''  #var\n",
    "        self.endTime = 0 #var\n",
    "         \n",
    "        for i in self.configure.index:\n",
    "            setattr(self, i, self.configure[i])\n",
    "\n",
    "    def set_machine_id(self, machineID):\n",
    "        self.machineID = machineID\n",
    "\n",
    "    def set_start_time(self, time):\n",
    "        self.startTime = time\n",
    "        processTime = int(self.processTime[ self.processTime[\"EQP_ID\"] == self.machineID ][\"PROCESS_TIME\"])\n",
    "        self.endTime = self.startTime + processTime\n",
    "    \n",
    "    def get_end_time(self):\n",
    "        return self.endTime\n",
    "    \n",
    "    def __str__(self): \n",
    "        return json.dumps(self.configure.to_dict(), indent=4)\n",
    "    \n",
    "    def __repr__(self): \n",
    "        return json.dumps(self.configure.to_dict(), indent=4)\n"
   ]
  },
  {
   "cell_type": "code",
   "execution_count": 19,
   "metadata": {},
   "outputs": [],
   "source": [
    "class Machine(object):\n",
    "    def __init__(self, configure, setupTime):\n",
    "        self.configure = configure\n",
    "        self.setupTime = setupTime\n",
    "\n",
    "        self.jobs = []\n",
    "\n",
    "    def add_job(self, job):\n",
    "        self.jobs.append(job)\n",
    "\n",
    "    def sort_jobs(self):\n",
    "        currentTime = int(self.configure[\"RECOVER_TIME\"])\n",
    "        print(currentTime)\n",
    "\n",
    "        for i in range(len(self.jobs)):\n",
    "            self.jobs[i].set_start_time(currentTime)\n",
    "            currentTime = self.jobs[i].get_end_time()\n",
    "            \n",
    "machines = []\n",
    "for i in range(len(tool.values)):\n",
    "    machines.append(Machine(tool.iloc[i], setup_time.values))  #setuptime整張表"
   ]
  },
  {
   "cell_type": "code",
   "execution_count": 14,
   "metadata": {},
   "outputs": [],
   "source": [
    "wip = pd.read_excel(\"./semiconductor_data.xlsx\", sheet_name=2, dtype=str) #K"
   ]
  },
  {
   "cell_type": "code",
   "execution_count": 17,
   "metadata": {},
   "outputs": [],
   "source": [
    "eqp = pd.read_excel(\"./semiconductor_data.xlsx\", sheet_name=0, dtype=str) #K"
   ]
  },
  {
   "cell_type": "code",
   "execution_count": 7,
   "metadata": {},
   "outputs": [
    {
     "output_type": "execute_result",
     "data": {
      "text/plain": [
       "    1    2    3    4    5    6    7    8    9    10   ...  91   92   93   94   \\\n",
       "0     0   10   10   10   10   10   10   10   10   10  ...   10   10   10   10   \n",
       "1    10    0   10   10   10   10   10   10   10   10  ...   10   10   10   10   \n",
       "2    10   10    0   10    0   10   10   10   10   10  ...   10   10   10   10   \n",
       "3    10   10   10    0   10    0   10   10   10   10  ...   10   10   10   10   \n",
       "4    10   10    0   10    0   10   10   10   10   10  ...   10   10   10   10   \n",
       "..  ...  ...  ...  ...  ...  ...  ...  ...  ...  ...  ...  ...  ...  ...  ...   \n",
       "95   10   10   10   10   10   10   10   10   10    0  ...   10   10   10   10   \n",
       "96    0   10   10   10   10   10   10   10   10   10  ...   10   10   10   10   \n",
       "97   10   10    0   10    0   10   10   10   10   10  ...   10   10   10   10   \n",
       "98   10   10   10   10   10   10   10   10   10   10  ...    0   10   10   10   \n",
       "99   10   10   10   10   10   10   10   10   10   10  ...    0   10   10   10   \n",
       "\n",
       "    95   96   97   98   99   100  \n",
       "0     0   10    0   10   10   10  \n",
       "1    10   10   10   10   10   10  \n",
       "2    10   10   10    0   10   10  \n",
       "3    10   10   10   10   10   10  \n",
       "4    10   10   10    0   10   10  \n",
       "..  ...  ...  ...  ...  ...  ...  \n",
       "95   10    0   10   10   10   10  \n",
       "96    0   10    0   10   10   10  \n",
       "97   10   10   10    0   10   10  \n",
       "98   10   10   10   10    0    0  \n",
       "99   10   10   10   10    0    0  \n",
       "\n",
       "[100 rows x 100 columns]"
      ],
      "text/html": "<div>\n<style scoped>\n    .dataframe tbody tr th:only-of-type {\n        vertical-align: middle;\n    }\n\n    .dataframe tbody tr th {\n        vertical-align: top;\n    }\n\n    .dataframe thead th {\n        text-align: right;\n    }\n</style>\n<table border=\"1\" class=\"dataframe\">\n  <thead>\n    <tr style=\"text-align: right;\">\n      <th></th>\n      <th>1</th>\n      <th>2</th>\n      <th>3</th>\n      <th>4</th>\n      <th>5</th>\n      <th>6</th>\n      <th>7</th>\n      <th>8</th>\n      <th>9</th>\n      <th>10</th>\n      <th>...</th>\n      <th>91</th>\n      <th>92</th>\n      <th>93</th>\n      <th>94</th>\n      <th>95</th>\n      <th>96</th>\n      <th>97</th>\n      <th>98</th>\n      <th>99</th>\n      <th>100</th>\n    </tr>\n  </thead>\n  <tbody>\n    <tr>\n      <th>0</th>\n      <td>0</td>\n      <td>10</td>\n      <td>10</td>\n      <td>10</td>\n      <td>10</td>\n      <td>10</td>\n      <td>10</td>\n      <td>10</td>\n      <td>10</td>\n      <td>10</td>\n      <td>...</td>\n      <td>10</td>\n      <td>10</td>\n      <td>10</td>\n      <td>10</td>\n      <td>0</td>\n      <td>10</td>\n      <td>0</td>\n      <td>10</td>\n      <td>10</td>\n      <td>10</td>\n    </tr>\n    <tr>\n      <th>1</th>\n      <td>10</td>\n      <td>0</td>\n      <td>10</td>\n      <td>10</td>\n      <td>10</td>\n      <td>10</td>\n      <td>10</td>\n      <td>10</td>\n      <td>10</td>\n      <td>10</td>\n      <td>...</td>\n      <td>10</td>\n      <td>10</td>\n      <td>10</td>\n      <td>10</td>\n      <td>10</td>\n      <td>10</td>\n      <td>10</td>\n      <td>10</td>\n      <td>10</td>\n      <td>10</td>\n    </tr>\n    <tr>\n      <th>2</th>\n      <td>10</td>\n      <td>10</td>\n      <td>0</td>\n      <td>10</td>\n      <td>0</td>\n      <td>10</td>\n      <td>10</td>\n      <td>10</td>\n      <td>10</td>\n      <td>10</td>\n      <td>...</td>\n      <td>10</td>\n      <td>10</td>\n      <td>10</td>\n      <td>10</td>\n      <td>10</td>\n      <td>10</td>\n      <td>10</td>\n      <td>0</td>\n      <td>10</td>\n      <td>10</td>\n    </tr>\n    <tr>\n      <th>3</th>\n      <td>10</td>\n      <td>10</td>\n      <td>10</td>\n      <td>0</td>\n      <td>10</td>\n      <td>0</td>\n      <td>10</td>\n      <td>10</td>\n      <td>10</td>\n      <td>10</td>\n      <td>...</td>\n      <td>10</td>\n      <td>10</td>\n      <td>10</td>\n      <td>10</td>\n      <td>10</td>\n      <td>10</td>\n      <td>10</td>\n      <td>10</td>\n      <td>10</td>\n      <td>10</td>\n    </tr>\n    <tr>\n      <th>4</th>\n      <td>10</td>\n      <td>10</td>\n      <td>0</td>\n      <td>10</td>\n      <td>0</td>\n      <td>10</td>\n      <td>10</td>\n      <td>10</td>\n      <td>10</td>\n      <td>10</td>\n      <td>...</td>\n      <td>10</td>\n      <td>10</td>\n      <td>10</td>\n      <td>10</td>\n      <td>10</td>\n      <td>10</td>\n      <td>10</td>\n      <td>0</td>\n      <td>10</td>\n      <td>10</td>\n    </tr>\n    <tr>\n      <th>...</th>\n      <td>...</td>\n      <td>...</td>\n      <td>...</td>\n      <td>...</td>\n      <td>...</td>\n      <td>...</td>\n      <td>...</td>\n      <td>...</td>\n      <td>...</td>\n      <td>...</td>\n      <td>...</td>\n      <td>...</td>\n      <td>...</td>\n      <td>...</td>\n      <td>...</td>\n      <td>...</td>\n      <td>...</td>\n      <td>...</td>\n      <td>...</td>\n      <td>...</td>\n      <td>...</td>\n    </tr>\n    <tr>\n      <th>95</th>\n      <td>10</td>\n      <td>10</td>\n      <td>10</td>\n      <td>10</td>\n      <td>10</td>\n      <td>10</td>\n      <td>10</td>\n      <td>10</td>\n      <td>10</td>\n      <td>0</td>\n      <td>...</td>\n      <td>10</td>\n      <td>10</td>\n      <td>10</td>\n      <td>10</td>\n      <td>10</td>\n      <td>0</td>\n      <td>10</td>\n      <td>10</td>\n      <td>10</td>\n      <td>10</td>\n    </tr>\n    <tr>\n      <th>96</th>\n      <td>0</td>\n      <td>10</td>\n      <td>10</td>\n      <td>10</td>\n      <td>10</td>\n      <td>10</td>\n      <td>10</td>\n      <td>10</td>\n      <td>10</td>\n      <td>10</td>\n      <td>...</td>\n      <td>10</td>\n      <td>10</td>\n      <td>10</td>\n      <td>10</td>\n      <td>0</td>\n      <td>10</td>\n      <td>0</td>\n      <td>10</td>\n      <td>10</td>\n      <td>10</td>\n    </tr>\n    <tr>\n      <th>97</th>\n      <td>10</td>\n      <td>10</td>\n      <td>0</td>\n      <td>10</td>\n      <td>0</td>\n      <td>10</td>\n      <td>10</td>\n      <td>10</td>\n      <td>10</td>\n      <td>10</td>\n      <td>...</td>\n      <td>10</td>\n      <td>10</td>\n      <td>10</td>\n      <td>10</td>\n      <td>10</td>\n      <td>10</td>\n      <td>10</td>\n      <td>0</td>\n      <td>10</td>\n      <td>10</td>\n    </tr>\n    <tr>\n      <th>98</th>\n      <td>10</td>\n      <td>10</td>\n      <td>10</td>\n      <td>10</td>\n      <td>10</td>\n      <td>10</td>\n      <td>10</td>\n      <td>10</td>\n      <td>10</td>\n      <td>10</td>\n      <td>...</td>\n      <td>0</td>\n      <td>10</td>\n      <td>10</td>\n      <td>10</td>\n      <td>10</td>\n      <td>10</td>\n      <td>10</td>\n      <td>10</td>\n      <td>0</td>\n      <td>0</td>\n    </tr>\n    <tr>\n      <th>99</th>\n      <td>10</td>\n      <td>10</td>\n      <td>10</td>\n      <td>10</td>\n      <td>10</td>\n      <td>10</td>\n      <td>10</td>\n      <td>10</td>\n      <td>10</td>\n      <td>10</td>\n      <td>...</td>\n      <td>0</td>\n      <td>10</td>\n      <td>10</td>\n      <td>10</td>\n      <td>10</td>\n      <td>10</td>\n      <td>10</td>\n      <td>10</td>\n      <td>0</td>\n      <td>0</td>\n    </tr>\n  </tbody>\n</table>\n<p>100 rows × 100 columns</p>\n</div>"
     },
     "metadata": {},
     "execution_count": 7
    }
   ],
   "source": [
    "setup_time = pd.read_excel(\"./semiconductor_data.xlsx\", sheet_name=3, usecols=\"B:CW\") #欄位\n",
    "setup_time"
   ]
  },
  {
   "cell_type": "code",
   "execution_count": 16,
   "metadata": {},
   "outputs": [],
   "source": [
    "tool = pd.read_excel(\"./semiconductor_data.xlsx\", sheet_name=1, dtype=str) #K"
   ]
  },
  {
   "cell_type": "code",
   "execution_count": 32,
   "metadata": {
    "tags": []
   },
   "outputs": [
    {
     "output_type": "stream",
     "name": "stdout",
     "text": [
      "LOT001\n"
     ]
    }
   ],
   "source": [
    "jobs = []                               #K\n",
    "for i in range(len(wip.values)):\n",
    "    jobs.append(Job(wip.iloc[i], eqp)) \n",
    "print(jobs[0].configure[\"LOT_ID\"])"
   ]
  },
  {
   "cell_type": "code",
   "execution_count": 11,
   "metadata": {},
   "outputs": [],
   "source": [
    "machines = []\n",
    "for i in range(len(tool.values)):\n",
    "    machines.append(Machine(tool.iloc[i], setup_time.values))  #setuptime整張表"
   ]
  },
  {
   "cell_type": "code",
   "execution_count": 13,
   "metadata": {
    "tags": []
   },
   "outputs": [
    {
     "output_type": "stream",
     "name": "stdout",
     "text": [
      "240\n"
     ]
    }
   ],
   "source": [
    "machines[1].sort_jobs()"
   ]
  },
  {
   "cell_type": "code",
   "execution_count": 80,
   "metadata": {},
   "outputs": [],
   "source": [
    "RECIPE = pd.read_excel(\"./semiconductor_data.xlsx\")"
   ]
  },
  {
   "cell_type": "code",
   "execution_count": 74,
   "metadata": {},
   "outputs": [
    {
     "output_type": "execute_result",
     "data": {
      "text/plain": "    EQP_ID RECIPE  PROCESS_TIME\n7   EQP001  Y8000           100\n17  EQP002  Y8000           120\n27  EQP003  Y8000           130\n37  EQP004  Y8000           110\n47  EQP005  Y8000           130\n57  EQP006  Y8000           150\n67  EQP007  Y8000           110\n77  EQP008  Y8000           150\n87  EQP009  Y8000           140\n97  EQP010  Y8000           110",
      "text/html": "<div>\n<style scoped>\n    .dataframe tbody tr th:only-of-type {\n        vertical-align: middle;\n    }\n\n    .dataframe tbody tr th {\n        vertical-align: top;\n    }\n\n    .dataframe thead th {\n        text-align: right;\n    }\n</style>\n<table border=\"1\" class=\"dataframe\">\n  <thead>\n    <tr style=\"text-align: right;\">\n      <th></th>\n      <th>EQP_ID</th>\n      <th>RECIPE</th>\n      <th>PROCESS_TIME</th>\n    </tr>\n  </thead>\n  <tbody>\n    <tr>\n      <th>7</th>\n      <td>EQP001</td>\n      <td>Y8000</td>\n      <td>100</td>\n    </tr>\n    <tr>\n      <th>17</th>\n      <td>EQP002</td>\n      <td>Y8000</td>\n      <td>120</td>\n    </tr>\n    <tr>\n      <th>27</th>\n      <td>EQP003</td>\n      <td>Y8000</td>\n      <td>130</td>\n    </tr>\n    <tr>\n      <th>37</th>\n      <td>EQP004</td>\n      <td>Y8000</td>\n      <td>110</td>\n    </tr>\n    <tr>\n      <th>47</th>\n      <td>EQP005</td>\n      <td>Y8000</td>\n      <td>130</td>\n    </tr>\n    <tr>\n      <th>57</th>\n      <td>EQP006</td>\n      <td>Y8000</td>\n      <td>150</td>\n    </tr>\n    <tr>\n      <th>67</th>\n      <td>EQP007</td>\n      <td>Y8000</td>\n      <td>110</td>\n    </tr>\n    <tr>\n      <th>77</th>\n      <td>EQP008</td>\n      <td>Y8000</td>\n      <td>150</td>\n    </tr>\n    <tr>\n      <th>87</th>\n      <td>EQP009</td>\n      <td>Y8000</td>\n      <td>140</td>\n    </tr>\n    <tr>\n      <th>97</th>\n      <td>EQP010</td>\n      <td>Y8000</td>\n      <td>110</td>\n    </tr>\n  </tbody>\n</table>\n</div>"
     },
     "metadata": {},
     "execution_count": 74
    }
   ],
   "source": [
    "jobs[0].processTime"
   ]
  },
  {
   "cell_type": "code",
   "execution_count": 75,
   "metadata": {},
   "outputs": [
    {
     "output_type": "execute_result",
     "data": {
      "text/plain": "'Y8000'"
     },
     "metadata": {},
     "execution_count": 75
    }
   ],
   "source": [
    "jobs[0].RECIPE"
   ]
  },
  {
   "cell_type": "code",
   "execution_count": 6,
   "metadata": {},
   "outputs": [
    {
     "output_type": "execute_result",
     "data": {
      "text/plain": [
       "3"
      ]
     },
     "metadata": {},
     "execution_count": 6
    }
   ],
   "source": [
    "a=[1,2,3]\n",
    "len(a)"
   ]
  },
  {
   "cell_type": "code",
   "execution_count": 19,
   "metadata": {},
   "outputs": [],
   "source": [
    "setup_time = pd.read_excel(\"./semiconductor_data.xlsx\", sheet_name=3, usecols=\"B:CW\") #欄位"
   ]
  },
  {
   "cell_type": "code",
   "execution_count": 5,
   "metadata": {},
   "outputs": [
    {
     "output_type": "execute_result",
     "data": {
      "text/plain": [
       "10"
      ]
     },
     "metadata": {},
     "execution_count": 5
    }
   ],
   "source": [
    "setup_time.at[1,1]"
   ]
  },
  {
   "cell_type": "code",
   "execution_count": 37,
   "metadata": {},
   "outputs": [],
   "source": [
    "setup_time = pd.read_excel(\"./semiconductor_data.xlsx\", sheet_name=3) #欄位"
   ]
  },
  {
   "cell_type": "code",
   "execution_count": null,
   "metadata": {},
   "outputs": [],
   "source": []
  },
  {
   "cell_type": "code",
   "execution_count": null,
   "metadata": {},
   "outputs": [],
   "source": []
  },
  {
   "cell_type": "code",
   "execution_count": 44,
   "metadata": {},
   "outputs": [
    {
     "output_type": "execute_result",
     "data": {
      "text/plain": [
       "{' BB211': [718, 719], ' BB212': [142, 253, 256, 346, 578], ' BB213': [691, 706, 707, 735], ' BB214': [8, 90, 107, 264, 301, 403, 434, 519, 623], ' BB215': [1919], ' BB216': [2063, 2087], ' BB217': [2143, 2147, 2150, 2160], ' BB218': [23, 47, 63, 89, 289, 447, 499, 506, 579], ' BB219': [2140, 2161], ' BB220': [1642, 1654], ' BB221': [2075, 2081, 2083], ' BB223': [58, 152, 184, 258, 262, 318, 430, 453, 480, 548, 581], ' BB224': [147, 195, 394, 542, 649], ' BB225': [24, 54, 215, 344, 391, 551, 595, 604, 642], ' BB226': [923, 924, 934, 977, 981, 991], ' BB227': [2146, 2151, 2156], ' BB228': [2155, 2158], ' BB229': [749], ' BB230': [2145, 2163], ' BB231': [49, 148, 313, 327, 362, 461, 625], ' BB232': [2061, 2062, 2074, 2076, 2077, 2079, 2080], ' BB233': [273, 395, 526, 568, 608], ' BB234': [1, 2, 182, 324, 452, 460, 486, 550, 582], ' BB235': [101, 306, 351, 400, 487, 594], ' BB441': [925, 975], ' BB442': [751], ' BB443': [1615, 1632, 1639], ' BB444': [1112, 1122, 1138, 1155], ' BB445': [1146, 1153, 1158], ' BB446': [1916, 1921, 1937], ' BB447': [1400, 1415, 1436, 1451, 1462], ' BB448': [727, 734], ' BB449': [1998, 2005, 2013, 2014, 2022, 2023], ' BB450': [696, 777], ' BB451': [2120, 2121, 2125, 2130, 2137, 2139], ' BB452': [1426], ' BB453': [1828, 1840], ' BB454': [1160], ' BB455': [1392, 1418], ' BB456': [671], ' BB457': [1624, 1644], ' BB458': [1906, 1915, 1935, 1941], ' BB459': [1999, 2000, 2003, 2008, 2024], ' BB460': [1123, 1127, 1150, 1184, 1195, 1201], ' BB461': [1410], ' BB463': [912, 919, 930, 969, 997], ' BB465': [1395, 1447, 1460], ' BB466': [672, 728], ' BB467': [780], ' BB468': [2104, 2108, 2109], ' BB469': [1989], ' BB470': [1617], ' BB471': [1407, 1422, 1443, 1473], ' BB472': [1429, 1432, 1437, 1442, 1456, 1465], ' BB473': [1987, 2025], ' BB474': [2194], ' BB475': [663, 710], ' BB476': [1990, 2004, 2017, 2021, 2026], ' BB477': [1397, 1430, 1440, 1461], ' BB478': [1427, 1457], ' BB479': [729], ' BB480': [2116], ' BB481': [700, 731], ' BB483': [660, 664, 673, 692, 739], ' BB484': [928, 992], ' BB485': [2115, 2122, 2124, 2129, 2133, 2134], ' BB486': [1402, 1441, 1459], ' BB487': [906, 933, 936, 1009], ' BB488': [2092, 2100, 2103, 2112, 2113], ' BB489': [1452], ' BB490': [926, 939, 943, 947, 973, 983, 995, 999], ' BB496': [1823, 1826, 1845, 1854, 1860], ' BB497': [2065, 2069, 2070, 2073, 2085], ' BB498': [1905, 1918, 1940, 1942], ' BB500': [957, 964, 978, 988, 1003, 1005], ' BB502': [1412, 1453], ' BB503': [1917, 1925, 1931], ' BB505': [2027, 2029, 2030, 2031, 2032, 2033, 2034, 2035, 2037, 2038, 2039, 2040, 2041, 2042, 2043, 2046, 2048, 2049, 2050, 2052, 2053, 2054, 2056, 2059], ' BB506': [1818, 1829], ' BB507': [931, 932, 963, 974, 987], ' BB508': [745], ' BB510': [2088, 2091, 2093, 2094, 2098, 2105, 2110], ' BB511': [1646, 1653, 1662], ' BB512': [1405], ' BB514': [1831, 1836, 1837, 1841, 1848], ' BB515': [698, 714], ' BB516': [1908, 1911, 1920, 1922], ' BB517': [1843, 1844], ' BB518': [1661], ' BB519': [1130, 1133], ' BB521': [2165, 2166, 2168, 2169, 2171, 2173, 2175, 2177, 2179, 2180, 2182, 2186], ' BB522': [1116, 1117, 1196], ' BB523': [681, 778], ' BB524': [1121, 1151, 1176], ' BB525': [1926, 1939, 1944], ' BB526': [2117, 2118, 2123, 2135], ' BB527': [1110, 1129, 1190], ' BB528': [1994], ' BB529': [948, 966, 967, 968, 979, 1004, 1007, 1010], ' BB530': [674, 711], ...}"
      ]
     },
     "metadata": {},
     "execution_count": 44
    }
   ],
   "source": [
    "import pandas as pd\n",
    "result = pd.read_csv(\"result.csv\")\n",
    "result.columns=[\"Lot_id\",\"HB\",\"Wire\",\"Entity\",\"Start_t\",\"End_t\"]  # add header\n",
    "entities= result.groupby(\"Entity\") # group by entity\n",
    "entities.groups #show dict, value is row index\n"
   ]
  },
  {
   "cell_type": "code",
   "execution_count": 104,
   "metadata": {},
   "outputs": [
    {
     "output_type": "execute_result",
     "data": {
      "text/plain": [
       "543"
      ]
     },
     "metadata": {},
     "execution_count": 104
    }
   ],
   "source": [
    "import plotly.express as px\n",
    "import pandas as pd\n",
    "import datetime\n",
    "import time # 引入time\n",
    "\n",
    "result = pd.read_csv(\"result.csv\",names=[\"Lot_id\",\"HB\",\"Wire\",\"Entity\",\"Start_t\",\"End_t\"])\n",
    "entities= result.groupby(\"Entity\") # group by entity\n",
    "# entities.groups #show dict, value is row index\n",
    "entity_key_list= list(entities.groups.keys()) # key list\n",
    "\n",
    "# 2021/4/17 (改變數)\n",
    "ini_time_stamp = 1618615800 \n",
    "\n",
    "df=[]\n",
    "for i in range(3):\n",
    "    key= entity_key_list[i]\n",
    "    for j in range(len(entities.groups[key])):\n",
    "        row_index=entities.groups[key][j]\n",
    "        Lot_id =result.iloc[row_index].at['Lot_id'].strip()\n",
    "        Entity =result.iloc[row_index].at['Entity'].strip()\n",
    "        start_ts =  time.strftime(\"%Y-%m-%d %H:%M:%S\", time.localtime(ini_time_stamp+result.iloc[row_index].at['Start_t']*60)) \n",
    "        end_ts =  time.strftime(\"%Y-%m-%d %H:%M:%S\", time.localtime(ini_time_stamp+result.iloc[row_index].at['End_t']*60)) \n",
    "\n",
    "        df.append(dict(Lot_ID= Lot_id, Start=start_ts,Finish=end_ts,Entity=Entity))\n",
    "\n",
    "len(entity_key_list)\n",
    "# #呈現圖表\n",
    "# fig1 = px.timeline(df, x_start=\"Start\", x_end=\"Finish\", y=\"Entity\", color=\"Wire\",text=\"Lot_ID\")\n",
    "# fig1.update_yaxes(categoryorder=\"category descending\") # \n",
    "# fig1.show()"
   ]
  },
  {
   "cell_type": "code",
   "execution_count": 119,
   "metadata": {},
   "outputs": [
    {
     "output_type": "execute_result",
     "data": {
      "text/plain": [
       "          route wlot_lot_number wlot_crt_dat_al_1   pin_package    wlot_prod  \\\n",
       "0       MBGA558       P10NVLK22            PHISON    uSD08AQV-C   0086ANV167   \n",
       "1       MBGA934       P13HQJR02               EMC  FPSSLGA28r6V   0282JHQ031   \n",
       "2       QFNS205       P15VGA437           ISSI-VG    DFN-08YD2A   008YDVG003   \n",
       "3       QFNS205       P15VGA453           ISSI-VG    DFN-08YD2A   008YDVG003   \n",
       "4       QFNS205       P15VGA421           ISSI-VG    DFN-08YD2A   008YDVG003   \n",
       "...         ...             ...               ...           ...          ...   \n",
       "32351  BGADAE01       ND9ABIX05           ChipMOS           MAT  0008WDAE001   \n",
       "32352  BGADAE01       ND9ABIZ04           ChipMOS           MAT  0008WDAE001   \n",
       "32353  BGADAE01       ND9ASCR01           ChipMOS           MAT  0008WDAE001   \n",
       "32354  BGADAE01       ND9ASCT05           ChipMOS           MAT  0008WDAE001   \n",
       "32355  BGADAE01       ND9ASCW03           ChipMOS           MAT  0008WDAE001   \n",
       "\n",
       "       wlot_qty_1  wlot_qty_2  wlot_oper wlot_hold cust_code  ...  \\\n",
       "0            1551           0       2200         N        NV  ...   \n",
       "1            2360           0       2200         N        HQ  ...   \n",
       "2            3520           0       2070         N        VG  ...   \n",
       "3            3520           0       2070         N        VG  ...   \n",
       "4            3520           0       2070         N        VG  ...   \n",
       "...           ...         ...        ...       ...       ...  ...   \n",
       "32351        4000           0       5070         N        FQ  ...   \n",
       "32352        4000           0       5070         N        FQ  ...   \n",
       "32353       11520           0       5070         N        FQ  ...   \n",
       "32354       11520           0       5070         N        FQ  ...   \n",
       "32355       11520           0       5070         N        FQ  ...   \n",
       "\n",
       "      wlot_mvin_perfmd wlot_actl_mvin_dt wlot_actl_mvin_tm  \\\n",
       "0                    Y          20210417               439   \n",
       "1                    Y          20210417               644   \n",
       "2                    Y          20210417               710   \n",
       "3                    Y          20210417               710   \n",
       "4                    Y          20210417               710   \n",
       "...                ...               ...               ...   \n",
       "32351                N                 0                 0   \n",
       "32352                N                 0                 0   \n",
       "32353                N                 0                 0   \n",
       "32354                N                 0                 0   \n",
       "32355                N                 0                 0   \n",
       "\n",
       "       wlot_dt_last_trans  wlot_tm_last_trans  wlot_hold_category  \\\n",
       "0                20210417                 439                 NaN   \n",
       "1                20210417                 644                 NaN   \n",
       "2                20210417               11708                 NaN   \n",
       "3                20210417               11708                 NaN   \n",
       "4                20210417               11708                 NaN   \n",
       "...                   ...                 ...                 ...   \n",
       "32351            20200928              230813                 NaN   \n",
       "32352            20200930               25151                 NaN   \n",
       "32353            20201010               23252                 NaN   \n",
       "32354            20201013              200440                 NaN   \n",
       "32355            20201017              101429                 NaN   \n",
       "\n",
       "       wlot_assy_lot          bd_id urgent_code wip_outplan_time  \n",
       "0            P10NVLK  ANV0086A1062A           E  2021/4/17 07:19  \n",
       "1            P13HQJR  AHQ0282J2006A         NaN  2021/4/17 18:23  \n",
       "2            P15VGA4  ABU008YD2008A         NaN              NaN  \n",
       "3            P15VGA4  ABU008YD2008A         NaN              NaN  \n",
       "4            P15VGA4  ABU008YD2008A         NaN              NaN  \n",
       "...              ...            ...         ...              ...  \n",
       "32351        ND9ABIX            NaN         NaN              NaN  \n",
       "32352        ND9ABIZ            NaN         NaN              NaN  \n",
       "32353        ND9ASCR            NaN         NaN              NaN  \n",
       "32354        ND9ASCT            NaN         NaN              NaN  \n",
       "32355        ND9ASCW            NaN         NaN              NaN  \n",
       "\n",
       "[32356 rows x 22 columns]"
      ],
      "text/html": "<div>\n<style scoped>\n    .dataframe tbody tr th:only-of-type {\n        vertical-align: middle;\n    }\n\n    .dataframe tbody tr th {\n        vertical-align: top;\n    }\n\n    .dataframe thead th {\n        text-align: right;\n    }\n</style>\n<table border=\"1\" class=\"dataframe\">\n  <thead>\n    <tr style=\"text-align: right;\">\n      <th></th>\n      <th>route</th>\n      <th>wlot_lot_number</th>\n      <th>wlot_crt_dat_al_1</th>\n      <th>pin_package</th>\n      <th>wlot_prod</th>\n      <th>wlot_qty_1</th>\n      <th>wlot_qty_2</th>\n      <th>wlot_oper</th>\n      <th>wlot_hold</th>\n      <th>cust_code</th>\n      <th>...</th>\n      <th>wlot_mvin_perfmd</th>\n      <th>wlot_actl_mvin_dt</th>\n      <th>wlot_actl_mvin_tm</th>\n      <th>wlot_dt_last_trans</th>\n      <th>wlot_tm_last_trans</th>\n      <th>wlot_hold_category</th>\n      <th>wlot_assy_lot</th>\n      <th>bd_id</th>\n      <th>urgent_code</th>\n      <th>wip_outplan_time</th>\n    </tr>\n  </thead>\n  <tbody>\n    <tr>\n      <th>0</th>\n      <td>MBGA558</td>\n      <td>P10NVLK22</td>\n      <td>PHISON</td>\n      <td>uSD08AQV-C</td>\n      <td>0086ANV167</td>\n      <td>1551</td>\n      <td>0</td>\n      <td>2200</td>\n      <td>N</td>\n      <td>NV</td>\n      <td>...</td>\n      <td>Y</td>\n      <td>20210417</td>\n      <td>439</td>\n      <td>20210417</td>\n      <td>439</td>\n      <td>NaN</td>\n      <td>P10NVLK</td>\n      <td>ANV0086A1062A</td>\n      <td>E</td>\n      <td>2021/4/17 07:19</td>\n    </tr>\n    <tr>\n      <th>1</th>\n      <td>MBGA934</td>\n      <td>P13HQJR02</td>\n      <td>EMC</td>\n      <td>FPSSLGA28r6V</td>\n      <td>0282JHQ031</td>\n      <td>2360</td>\n      <td>0</td>\n      <td>2200</td>\n      <td>N</td>\n      <td>HQ</td>\n      <td>...</td>\n      <td>Y</td>\n      <td>20210417</td>\n      <td>644</td>\n      <td>20210417</td>\n      <td>644</td>\n      <td>NaN</td>\n      <td>P13HQJR</td>\n      <td>AHQ0282J2006A</td>\n      <td>NaN</td>\n      <td>2021/4/17 18:23</td>\n    </tr>\n    <tr>\n      <th>2</th>\n      <td>QFNS205</td>\n      <td>P15VGA437</td>\n      <td>ISSI-VG</td>\n      <td>DFN-08YD2A</td>\n      <td>008YDVG003</td>\n      <td>3520</td>\n      <td>0</td>\n      <td>2070</td>\n      <td>N</td>\n      <td>VG</td>\n      <td>...</td>\n      <td>Y</td>\n      <td>20210417</td>\n      <td>710</td>\n      <td>20210417</td>\n      <td>11708</td>\n      <td>NaN</td>\n      <td>P15VGA4</td>\n      <td>ABU008YD2008A</td>\n      <td>NaN</td>\n      <td>NaN</td>\n    </tr>\n    <tr>\n      <th>3</th>\n      <td>QFNS205</td>\n      <td>P15VGA453</td>\n      <td>ISSI-VG</td>\n      <td>DFN-08YD2A</td>\n      <td>008YDVG003</td>\n      <td>3520</td>\n      <td>0</td>\n      <td>2070</td>\n      <td>N</td>\n      <td>VG</td>\n      <td>...</td>\n      <td>Y</td>\n      <td>20210417</td>\n      <td>710</td>\n      <td>20210417</td>\n      <td>11708</td>\n      <td>NaN</td>\n      <td>P15VGA4</td>\n      <td>ABU008YD2008A</td>\n      <td>NaN</td>\n      <td>NaN</td>\n    </tr>\n    <tr>\n      <th>4</th>\n      <td>QFNS205</td>\n      <td>P15VGA421</td>\n      <td>ISSI-VG</td>\n      <td>DFN-08YD2A</td>\n      <td>008YDVG003</td>\n      <td>3520</td>\n      <td>0</td>\n      <td>2070</td>\n      <td>N</td>\n      <td>VG</td>\n      <td>...</td>\n      <td>Y</td>\n      <td>20210417</td>\n      <td>710</td>\n      <td>20210417</td>\n      <td>11708</td>\n      <td>NaN</td>\n      <td>P15VGA4</td>\n      <td>ABU008YD2008A</td>\n      <td>NaN</td>\n      <td>NaN</td>\n    </tr>\n    <tr>\n      <th>...</th>\n      <td>...</td>\n      <td>...</td>\n      <td>...</td>\n      <td>...</td>\n      <td>...</td>\n      <td>...</td>\n      <td>...</td>\n      <td>...</td>\n      <td>...</td>\n      <td>...</td>\n      <td>...</td>\n      <td>...</td>\n      <td>...</td>\n      <td>...</td>\n      <td>...</td>\n      <td>...</td>\n      <td>...</td>\n      <td>...</td>\n      <td>...</td>\n      <td>...</td>\n      <td>...</td>\n    </tr>\n    <tr>\n      <th>32351</th>\n      <td>BGADAE01</td>\n      <td>ND9ABIX05</td>\n      <td>ChipMOS</td>\n      <td>MAT</td>\n      <td>0008WDAE001</td>\n      <td>4000</td>\n      <td>0</td>\n      <td>5070</td>\n      <td>N</td>\n      <td>FQ</td>\n      <td>...</td>\n      <td>N</td>\n      <td>0</td>\n      <td>0</td>\n      <td>20200928</td>\n      <td>230813</td>\n      <td>NaN</td>\n      <td>ND9ABIX</td>\n      <td>NaN</td>\n      <td>NaN</td>\n      <td>NaN</td>\n    </tr>\n    <tr>\n      <th>32352</th>\n      <td>BGADAE01</td>\n      <td>ND9ABIZ04</td>\n      <td>ChipMOS</td>\n      <td>MAT</td>\n      <td>0008WDAE001</td>\n      <td>4000</td>\n      <td>0</td>\n      <td>5070</td>\n      <td>N</td>\n      <td>FQ</td>\n      <td>...</td>\n      <td>N</td>\n      <td>0</td>\n      <td>0</td>\n      <td>20200930</td>\n      <td>25151</td>\n      <td>NaN</td>\n      <td>ND9ABIZ</td>\n      <td>NaN</td>\n      <td>NaN</td>\n      <td>NaN</td>\n    </tr>\n    <tr>\n      <th>32353</th>\n      <td>BGADAE01</td>\n      <td>ND9ASCR01</td>\n      <td>ChipMOS</td>\n      <td>MAT</td>\n      <td>0008WDAE001</td>\n      <td>11520</td>\n      <td>0</td>\n      <td>5070</td>\n      <td>N</td>\n      <td>FQ</td>\n      <td>...</td>\n      <td>N</td>\n      <td>0</td>\n      <td>0</td>\n      <td>20201010</td>\n      <td>23252</td>\n      <td>NaN</td>\n      <td>ND9ASCR</td>\n      <td>NaN</td>\n      <td>NaN</td>\n      <td>NaN</td>\n    </tr>\n    <tr>\n      <th>32354</th>\n      <td>BGADAE01</td>\n      <td>ND9ASCT05</td>\n      <td>ChipMOS</td>\n      <td>MAT</td>\n      <td>0008WDAE001</td>\n      <td>11520</td>\n      <td>0</td>\n      <td>5070</td>\n      <td>N</td>\n      <td>FQ</td>\n      <td>...</td>\n      <td>N</td>\n      <td>0</td>\n      <td>0</td>\n      <td>20201013</td>\n      <td>200440</td>\n      <td>NaN</td>\n      <td>ND9ASCT</td>\n      <td>NaN</td>\n      <td>NaN</td>\n      <td>NaN</td>\n    </tr>\n    <tr>\n      <th>32355</th>\n      <td>BGADAE01</td>\n      <td>ND9ASCW03</td>\n      <td>ChipMOS</td>\n      <td>MAT</td>\n      <td>0008WDAE001</td>\n      <td>11520</td>\n      <td>0</td>\n      <td>5070</td>\n      <td>N</td>\n      <td>FQ</td>\n      <td>...</td>\n      <td>N</td>\n      <td>0</td>\n      <td>0</td>\n      <td>20201017</td>\n      <td>101429</td>\n      <td>NaN</td>\n      <td>ND9ASCW</td>\n      <td>NaN</td>\n      <td>NaN</td>\n      <td>NaN</td>\n    </tr>\n  </tbody>\n</table>\n<p>32356 rows × 22 columns</p>\n</div>"
     },
     "metadata": {},
     "execution_count": 119
    }
   ],
   "source": [
    "import pandas as pd\n",
    "df2 = pd.read_csv('WipOutPlanTime_.csv')\n",
    "df3=df2[['wlot_lot_number','pin_package','wlot_prod','wlot_qty_1','bd_id']]\n",
    "df2"
   ]
  },
  {
   "cell_type": "code",
   "execution_count": 416,
   "metadata": {
    "tags": []
   },
   "outputs": [],
   "source": [
    "import csv\n",
    "# import pandas\n",
    "import pandas as pd\n",
    "import numpy as np  \n",
    "# read csv data\n",
    "df1 = pd.read_csv(\"result(new).csv\",names=[\"wlot_lot_number\",\"bd_id\",\"HB\",\"Wire\",\"Entity\",\"Start_t\",\"End_t\"])\n",
    "df1.replace('\\s+','',regex=True,inplace=True)\n",
    "df2 = pd.read_csv('WipOutPlanTime_.csv')[['wlot_lot_number','wlot_crt_dat_al_1','pin_package','wlot_prod','wlot_qty_1']]\n",
    "df3 = pd.read_excel('機台區域作業產品.xls')[['Entity','Location']]\n",
    "   \n",
    "Left_join1 = pd.merge(df1, df2, on ='wlot_lot_number', how ='left')\n",
    "Left_join2 = pd.merge(Left_join1, df3, on ='Entity', how ='left')\n",
    "Left_join2\n",
    "group= Left_join2.groupby(['wlot_crt_dat_al_1','pin_package','wlot_prod','bd_id','Location'])\n",
    "group.describe()\n",
    "#len(group.groups.keys())\n",
    "\n",
    "#len(group.size())\n",
    "list(dict(group.size()))\n",
    "list(group.size())\n",
    "list(dict(group.size()))\n",
    "list(group.size())\n",
    "group_keys_t=list(group.groups.keys())\n",
    "#temp=list(list(group.groups.keys())[0])\n",
    "#temp.append(5)\n",
    "list(group_keys_t[0])\n",
    "\n",
    "# all_rows=[]\n",
    "# for i in range(len(group.size())):\n",
    "\n",
    "#     temp= list(group_keys_t[i])\n",
    "#     temp.append(group.size()[i]) #add amount ENT\n",
    "#     temp.append(qty_list[i]) #add amount ENT\n",
    "#     all_rows.append(temp)\n",
    "# with open('yourOutput.csv', 'w', newline='') as csvFile:\n",
    "#   # 建立 CSV 檔寫入器\n",
    "#     writer = csv.writer(csvFile)\n",
    "# #   # 1.直接寫出-標題\n",
    "#     writer.writerow(['CUSTOMER','Pin-pkg','Prod_ID','Bond ID','TA/TB','Allocate ENT','Output plan'])\n",
    "\n",
    "#     writer.writerows(all_rows)\n"
   ]
  },
  {
   "cell_type": "code",
   "execution_count": 461,
   "metadata": {},
   "outputs": [],
   "source": [
    "import csv\n",
    "import pandas as pd\n",
    "import numpy as np  \n",
    "\n",
    "# read csv data\n",
    "df1 = pd.read_csv(\"result(new).csv\",names=[\"wlot_lot_number\",\"bd_id\",\"HB\",\"Wire\",\"Entity\",\"Start_t\",\"End_t\"])\n",
    "df1.replace('\\s+','',regex=True,inplace=True)\n",
    "\n",
    "df2 = pd.read_csv('WipOutPlanTime_.csv')[['wlot_lot_number','wlot_crt_dat_al_1','pin_package','wlot_prod','wlot_qty_1']] ## replace to provided data\n",
    "\n",
    "df3 = pd.read_excel('機台區域作業產品.xls')[['Entity','Location']]\n",
    "   \n",
    "Left_join1 = pd.merge(df1, df2, on ='wlot_lot_number', how ='left')\n",
    "Left_join2 = pd.merge(Left_join1, df3, on ='Entity', how ='left')\n",
    "Left_join2\n",
    "group= Left_join2.groupby(['wlot_crt_dat_al_1','pin_package','wlot_prod','bd_id','Location'])\n",
    "\n",
    "\n",
    "# ---caculate total qty -------\n",
    "qty_list=[]\n",
    "group_key_list= list(group.groups.keys())\n",
    "\n",
    "# accumulation\n",
    "for i in range(len(group_key_list)): \n",
    "    key= group_key_list[i]\n",
    "    qty_sum=0\n",
    "    for j in range(len(group.groups[key])):\n",
    "        row_index=group.groups[key][j]\n",
    "        qty_sum+=Left_join1.iloc[row_index].at['wlot_qty_1']\n",
    "\n",
    "    qty_list.append(qty_sum)\n",
    "# -------\n",
    "\n",
    "# Aggregate all needed data\n",
    "\n",
    "# record original keys\n",
    "group_keys_t=list(group.groups.keys())\n",
    "\n",
    "all_rows=[]\n",
    "for i in range(len(group.size())):\n",
    "\n",
    "    temp= list(group_keys_t[i])\n",
    "    temp.append(group.size()[i]) #add amount ENT column\n",
    "    temp.append(qty_list[i]) #add amount qty column\n",
    "    all_rows.append(temp)\n",
    "\n",
    "# write to csv\n",
    "with open('yourOutput.csv', 'w', newline='') as csvFile:\n",
    "    writer = csv.writer(csvFile)\n",
    "    writer.writerow(['CUSTOMER','Pin-pkg','Prod_ID','Bond ID','TA/TB','Allocate ENT','Output plan'])\n",
    "    writer.writerows(all_rows)\n",
    "\n"
   ]
  },
  {
   "cell_type": "code",
   "execution_count": 220,
   "metadata": {},
   "outputs": [],
   "source": [
    "import csv\n",
    "\n",
    "list1 =[[2,3],[6,7]]\n",
    "# 開啟輸出的 CSV 檔案\n",
    "with open('yourOutput.csv', 'w', newline='') as csvFile:\n",
    "  # 建立 CSV 檔寫入器\n",
    "  writer = csv.writer(csvFile)\n",
    "\n",
    "  # 1.直接寫出-標題\n",
    "  writer.writerow(['姓名','年齡','電話','地址'])\n",
    "\n",
    "\n",
    "  # 2.寫出多維陣列\n",
    "  Table = [['姓名','年齡','電話','地址'],['葉大雄',18, '0911-123-123', '台北市火車站大廳'],['林靜香',26, '0911-456-456', '台北市中山北路二段']]\n",
    "  writer.writerows(list1)\n"
   ]
  },
  {
   "cell_type": "code",
   "execution_count": 397,
   "metadata": {},
   "outputs": [],
   "source": [
    "import csv\n",
    "with open('yourOutput.csv', 'w', newline='') as csvFile:\n",
    "  # 建立 CSV 檔寫入器\n",
    "  writer = csv.writer(csvFile)\n",
    "  # 1.直接寫出-標題\n",
    "  writer.writerow(['CUSTOMER','Pin-pkg','Prod_ID','Bond ID','TA/TB','Allocate ENT'])\n",
    "\n",
    "  writer.writerows(list1)"
   ]
  },
  {
   "cell_type": "code",
   "execution_count": null,
   "metadata": {},
   "outputs": [],
   "source": []
  }
 ]
}